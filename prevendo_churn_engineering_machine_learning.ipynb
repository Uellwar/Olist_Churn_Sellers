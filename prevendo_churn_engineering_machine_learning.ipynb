{
  "nbformat": 4,
  "nbformat_minor": 0,
  "metadata": {
    "colab": {
      "name": "Prevendo_Churn.ipynb",
      "provenance": [],
      "collapsed_sections": [
        "0MstEYkfUuap",
        "RSfelkijVca8",
        "ngPvqBJXYNwD",
        "4cDZOHsRmlFw",
        "70zzrR0KdS4y",
        "6dA3QMYVbwCI",
        "F7ijVp7hpBQq",
        "_ADPU9Cdmekt",
        "ZNVEyOEtpghc",
        "tFhAGThbpi9x",
        "iQYvetzsyfGh",
        "xpADmeuPsq9O",
        "hDr1YoCs13O0"
      ]
    },
    "kernelspec": {
      "name": "python3",
      "display_name": "Python 3"
    },
    "language_info": {
      "name": "python"
    },
    "accelerator": "TPU"
  },
  "cells": [
    {
      "cell_type": "markdown",
      "source": [
        "<html>\n",
        "<h1>Projeto Prevenção de Rotatividade de Vendedores \n",
        "<h4>(Etapa atual: Feature Engineering e Machine Learning)\n",
        "<br><br>\n",
        "<h4>Autor: Uéliton de Brito Viana\n",
        "\n",
        "<h4>Linkedin: <a href=\"https://www.linkedin.com/in/ueliton-viana/\">linkedin.com/in/ueliton-viana/</a>\n",
        "\n",
        "<h4>Github: <a href=\"https://github.com/Uellwar\">github.com/Uellwar</a>\n",
        "\n",
        "<h4>Kaggle: <a href=\"https://www.kaggle.com/uelitonviana/code\">kaggle.com/uelitonviana</a>\n",
        "\n",
        "</html>"
      ],
      "metadata": {
        "id": "1UaFyUyMUbB5"
      }
    },
    {
      "cell_type": "markdown",
      "source": [
        "<html><h1> Apresentação do projeto:\n",
        "\n",
        "Esta é a **segunda etapa** do projeto, onde foram definidas as variáveis por onde os modelos aprenderão os padrões nos dados. Nesta fase também, os modelos foram escolhidos, treinados, melhorados, avaliados e salvos para uso posterior. Ao final deste Notebook, deixarei algumas dúvidas de negócio (extraídas na primeira etapa) que poderão se tornar novas variáveis/características para melhorar ainda mais o resultado dos modelos numa versão de upgrade.\n",
        "\n",
        "O projeto se trata de uma hipotética situação, onde a empresa (de E-commerce) Olist gostaria de melhorar seus negócios por meio de Data Science. Em primeiro lugar, essa empresa define qual problema está tentando resolver. No caso, ela identificou que é cinco vezes mais caro adquirir novos vendedores do que reter os atuais. Logo, o problema é aumentar a taxa de retenção de vendedores para diminuir custos. Uma possível solução de Data Science é construir um modelo de Machine Learning para prever o churn. Depois, esse modelo é avaliado de maneira simplista (para fins didáticos), por fim, é implementado.\n",
        "\n",
        "Decidi usar SQL para a etapa de *Feature Engineering* e Python para as demais. \n",
        "Os dados utilizados são os mesmos da <a href=\"https://github.com/Uellwar/Olist_Churn_Sellers\">etapa anterior</a>, disponíveis <a href=\"https://www.kaggle.com/datasets/olistbr/brazilian-ecommerce\">aqui</a> através da plataforma Kaggle. Importei esses dados para o formato de banco de dados (olist.db) e utilizei neste projeto (e pode ser baixado <a href=\"https://drive.google.com/file/d/1Izf92Rm_-js4IC4RspEaEOa1Bl8Q2gAY/view?usp=sharing\">clicando aqui</a>).\n",
        "\n",
        "Observações: Um dos critérios de escolha dos modelos foi o tempo de processamento (custo computacional), por esse motivo em algumas células do notebook tem o comando `%%time` que calcula justamente o tempo de execução da mesma.\n",
        "</html>"
      ],
      "metadata": {
        "id": "Xn7_vcF7_INW"
      }
    },
    {
      "cell_type": "markdown",
      "source": [
        "**Ok, mas o que fazer para melhorar os resultados já obtidos?**\n",
        "\n",
        "Devido a minha pouca experiência com projetos de Data Science, muitas coisas podem ser utilizadas para melhorar os desempenhos dos modelos, portanto, listo algumas delas abaixo:\n",
        "\n",
        "• Criação de novas variáveis explicativas (ver o final deste notebook).\n",
        "\n",
        "• Clusterização de clientes por meio de modelos estatísticos.\n",
        "\n",
        "• Detecção e correção e Underfitting e Overfitting por meio de testes estatísticos e plotagens gráficas.\n",
        "\n",
        "• Utilização de modelos performáticos como GBMLight, XGBoosting e Redes Neurais."
      ],
      "metadata": {
        "id": "gfhsUCMwGPT7"
      }
    },
    {
      "cell_type": "markdown",
      "source": [
        "### As Ferramentas, os Modelos Testados e o Dicionário de Variáveis"
      ],
      "metadata": {
        "id": "bKTgeyOLUS7-"
      }
    },
    {
      "cell_type": "markdown",
      "source": [
        "**Ferramentas Utilizadas:**\n",
        "\n",
        "• SQL\n",
        "\n",
        "• Python\n",
        "\n",
        "=================================\n",
        "\n",
        "**Modelos Testados:**\n",
        "\n",
        "• LogisticRegression\n",
        "\n",
        "• SVM\n",
        "\n",
        "• KNeighborsClassifier\n",
        "\n",
        "• GaussianNB\n",
        "\n",
        "• ExtraTreesClassifier\n",
        "\n",
        "• RandomForestClassifier\n",
        "\n",
        "• AdaBoostClassifier\n",
        "\n",
        "• GradientBoostingClassifier\n",
        "\n",
        "=================================\n",
        "\n",
        "**Modelos com melhores performance:**\n",
        "\n",
        "• Ensemble(LR, KNN, ADA e Random Forest)\n",
        "\n",
        "• AdaBoostClassifier ()\n"
      ],
      "metadata": {
        "id": "aFQ84om18eId"
      }
    },
    {
      "cell_type": "markdown",
      "source": [
        "Dicionário de Variáveis:\n",
        "\n",
        "Variável|                  Tipo|       Descrição\n",
        "-------------------------|------------|------------------\n",
        "avg_review_score|          float64|Média das Avaliações\n",
        "idade_base_dias|           float64|Idade na base em dias\n",
        "idade_base_mes|            int64  |Idade na base em meses\n",
        "qtde_dias_utl_venda|       int64  |Dias desde a última venda\n",
        "qtde_mes_ativacao|         int64  |Quantidade de meses que o vendedor vendeu\n",
        "prop_ativacao|             float64|Proporção de meses em que o vendedor vendeu\n",
        "prop_atraso|               int64  |Proporção de pedidos em atraso\n",
        "avg_tempo_entrega_est|     int64  |Tempo médio previso para entrega\n",
        "receita_total|             float64|Total vendido no período\n",
        "avg_vl_venda|              float64|Receita média por venda\n",
        "avg_vl_venda_mes|          float64|Receita média mensal\n",
        "avg_vl_venda_mes_ativado|  float64|Receita média por mês em que vendedor ativa\n",
        "qtde_vendas|               int64  |Total de vendas no período\n",
        "qtde_produto|              int64  |Total de produtos vendidos no período\n",
        "qtde_produto_dst|          int64  |Total de prod. distintos vendidos \n",
        "avg_vl_produto|            float64|Média do valor dos produtos vendidos\n",
        "avg_qtde_produto_venda|    int64  |Média de produtos vendidos por venda\n",
        "flag_vendeu|               int64  |0 ou 1 (1 se vendeu. 0 se churn.)\n",
        "\n",
        "\n"
      ],
      "metadata": {
        "id": "iWJS__VKIVvk"
      }
    },
    {
      "cell_type": "markdown",
      "source": [
        "<h2>Sem mais. Vamos codar! \\o/"
      ],
      "metadata": {
        "id": "JO3PrfhGGik8"
      }
    },
    {
      "cell_type": "markdown",
      "source": [
        "### Importando as libs e configurando o ambiente"
      ],
      "metadata": {
        "id": "u_Mi4wHQUePa"
      }
    },
    {
      "cell_type": "code",
      "source": [
        "# Coleta, e Manipulação dos dados e datas\n",
        "import pandas as pd\n",
        "import numpy as np\n",
        "import sqlite3\n",
        "from scipy.stats import randint, uniform\n",
        "from datetime import timedelta\n",
        "\n",
        "# Plotagens interativas\n",
        "import matplotlib.pyplot as plt\n",
        "import plotly.express as px\n",
        "import plotly.offline as py\n",
        "import plotly.graph_objs as go\n",
        "\n",
        "# Divisão dos dados\n",
        "from sklearn.model_selection import train_test_split, StratifiedKFold\n",
        "\n",
        "# Processando variáveis\n",
        "from sklearn.preprocessing import PolynomialFeatures, MinMaxScaler, StandardScaler\n",
        "\n",
        "# Seleção de modelos e características\n",
        "from sklearn.model_selection import cross_validate, cross_val_score, GridSearchCV, RandomizedSearchCV\n",
        "from sklearn.inspection import permutation_importance\n",
        "\n",
        "# Modelos\n",
        "from sklearn.linear_model import LogisticRegression\n",
        "from sklearn.neighbors import KNeighborsClassifier\n",
        "from sklearn.naive_bayes import GaussianNB\n",
        "from sklearn.ensemble import ExtraTreesClassifier, RandomForestClassifier, AdaBoostClassifier, GradientBoostingClassifier\n",
        "from sklearn.pipeline import Pipeline\n",
        "\n",
        "# Avaliação dos modelos\n",
        "from sklearn.metrics import confusion_matrix, classification_report, roc_auc_score, roc_curve\n",
        "\n",
        "# Configuração do ambiente\n",
        "import warnings\n",
        "warnings.filterwarnings('ignore')"
      ],
      "metadata": {
        "id": "4lVqZ2emPNnO"
      },
      "execution_count": null,
      "outputs": []
    },
    {
      "cell_type": "code",
      "source": [
        "# Criando a semente para reprodutividade\n",
        "seed=3\n",
        "np.random.seed(seed)"
      ],
      "metadata": {
        "id": "xGKyv4fsUQVs"
      },
      "execution_count": null,
      "outputs": []
    },
    {
      "cell_type": "markdown",
      "source": [
        "### Coletando os dados"
      ],
      "metadata": {
        "id": "0MstEYkfUuap"
      }
    },
    {
      "cell_type": "markdown",
      "source": [
        "<h3>Mas... Como definir quando é Churn?</h3>\n",
        "\n",
        "<h5>\n",
        "Nosso objetivo é prever os vendedores que deixarão a empresa. O conjunto de dados não vem pré-carregado com informações de rotatividade. Então, como determinamos se um vendedor se desligou? Neste exemplo específico, um vendedor se desconecta da Olist se dentro dos próximos 30 dias, ele não efetuar venda. Então, projetei o recurso churn definindo uma variável `flag_vendeu` com valores 0 (Não vendeu! Logo, churn) e 1 (Vendeu! Logo, não churn). \n",
        "\n",
        "Os dados serão agrupados pelo recurso `seller_id` contendo o histórico de 3 meses, ou seja, o modelo aprenderá com o histórico dos 3 meses e tentará prever se dentro dos próximos 30 dias ocorrerá ou não a rotatividade (caso ocorra venda, a empresa entende que não há abandono).\n",
        "\n",
        "A \"janela\" de tempo nos dados funcionará da seguinte maneira:\n",
        "\n",
        "1ª janela de tempo: \n",
        "\n",
        "1. dt_train_start: primeiro dia do primeiro mês\n",
        "\n",
        "2. dt_train_stop: último dia do 3º mês\n",
        "\n",
        "3. periodo_decorrido: 90 dias (3 meses de treinamento)\n",
        "\n",
        "4. periodo_de_churn: *caso o vendedor não efetuar vendas nos os próximos 30 dias* então a variável `flag_vendeu` receberá o valor 0, e 1 caso efetue vendas neste período.\n",
        "\n",
        "<br>\n",
        "\n",
        "`Resumindo: O modelo aprenderá com o histórico de 3 meses e tentará prever uma possível venda nos próximos 30 dias.`\n",
        "\n",
        "**Ao fim desta 1ª janela, TODAS as datas se moverão 4 meses para frente e então o processo acima é repetido.**\n",
        "\n",
        "Obs: Uma outra modificação futura para possível melhora dos resultados será:\n",
        "*Ao fim desta 1ª janela, TODAS as datas \"se moverão\" 1 mês para frente e então o processo acima é repetido.*\n",
        "<br>\n",
        "\n",
        "-----"
      ],
      "metadata": {
        "id": "8g-1SsGrLtL4"
      }
    },
    {
      "cell_type": "code",
      "source": [
        "# Prepararando os dados\n",
        "\n",
        "# Abrindo a conexão\n",
        "conn = sqlite3.connect('/content/drive/MyDrive/Github/SQL/Dados/Olist/data/olist.db')\n",
        "cursor = conn.cursor()\n",
        "\n",
        "# Listando as tabelas disponíveis\n",
        "cursor.execute(\"SELECT name FROM sqlite_master WHERE type='table' ORDER BY name;\")\n",
        "tables = cursor.fetchall()"
      ],
      "metadata": {
        "id": "5qD3y1obUQZ7"
      },
      "execution_count": null,
      "outputs": []
    },
    {
      "cell_type": "code",
      "source": [
        "print('Tabelas disponíveis\\n')\n",
        "[i[0] for i in tables]"
      ],
      "metadata": {
        "colab": {
          "base_uri": "https://localhost:8080/"
        },
        "id": "aFbbUpO_Vqe2",
        "outputId": "94b2bb01-0e25-4007-d082-d735149796e5"
      },
      "execution_count": null,
      "outputs": [
        {
          "output_type": "stream",
          "name": "stdout",
          "text": [
            "Tabelas disponíveis\n",
            "\n"
          ]
        },
        {
          "output_type": "execute_result",
          "data": {
            "text/plain": [
              "['tb_customers',\n",
              " 'tb_geolocation',\n",
              " 'tb_order_items',\n",
              " 'tb_order_payments',\n",
              " 'tb_order_reviews',\n",
              " 'tb_orders',\n",
              " 'tb_product_category_name_translation',\n",
              " 'tb_products',\n",
              " 'tb_sellers']"
            ]
          },
          "metadata": {},
          "execution_count": 4
        }
      ]
    },
    {
      "cell_type": "code",
      "source": [
        "# Selecionando apenas a coluna com as datas das vendas\n",
        "query_date = \"SELECT order_approved_at FROM tb_orders\"\n",
        "df_date = pd.read_sql(query_date, conn)\n",
        "df_date['order_approved_at'] = pd.to_datetime(df_date['order_approved_at'])"
      ],
      "metadata": {
        "id": "u7R152GU4EAK"
      },
      "execution_count": null,
      "outputs": []
    },
    {
      "cell_type": "code",
      "source": [
        "dt_max = df_date['order_approved_at'].max()\n",
        "dt_train_start = df_date.loc[df_date['order_approved_at'].dt.year >=2017]['order_approved_at'].min()\n",
        "diff = abs(dt_train_start - dt_max)"
      ],
      "metadata": {
        "id": "3pTeXrcm499_"
      },
      "execution_count": null,
      "outputs": []
    },
    {
      "cell_type": "code",
      "source": [
        "count = 0\n",
        "dates = {'dt_train_start':[],'dt_train_stop':[],'dt_test_start':[],'dt_test_stop':[]}\n",
        "\n",
        "while diff.days >= 211: # 211: Total de dias de cada foto\n",
        "  if count > 0:\n",
        "    dt_train_start = dt_test_stop + timedelta(days=1)\n",
        "  \n",
        "  dt_train_stop = dt_train_start + timedelta(days=90)\n",
        "  dt_test_start =  dt_train_stop + timedelta(days=1)\n",
        "  dt_test_stop = dt_test_start + timedelta(days=30)\n",
        "  count += 1\n",
        "  \n",
        "  dates['dt_train_start'].append(dt_train_start.strftime(\"%Y-%m-%d\"))\n",
        "  dates['dt_train_stop'].append(dt_train_stop.strftime(\"%Y-%m-%d\"))\n",
        "  dates['dt_test_start'].append(dt_test_start.strftime(\"%Y-%m-%d\"))\n",
        "  dates['dt_test_stop'].append(dt_test_stop.strftime(\"%Y-%m-%d\"))\n",
        "  diff = abs(dt_train_start - dt_max)"
      ],
      "metadata": {
        "id": "q3Lfhlyb6NQ8"
      },
      "execution_count": null,
      "outputs": []
    },
    {
      "cell_type": "code",
      "source": [
        "# Blocos das datas utilizadas\n",
        "for i in range(len(dates['dt_train_start'])):\n",
        "  print(f'{i+1}º Foto')\n",
        "  print(dates['dt_train_start'][i]) # Data de início do treinamento\n",
        "  print(dates['dt_train_stop'][i]) # Data final do treinamento\n",
        "  print(dates['dt_test_start'][i]) # Data de início da predição (flag)\n",
        "  print(dates['dt_test_stop'][i]) # Data final da predição (flag)\n",
        "  print('\\n')"
      ],
      "metadata": {
        "colab": {
          "base_uri": "https://localhost:8080/"
        },
        "id": "IEAk2MA4LiR0",
        "outputId": "91c8e9ca-550e-48f8-dfc8-6e51a5865e11"
      },
      "execution_count": null,
      "outputs": [
        {
          "output_type": "stream",
          "name": "stdout",
          "text": [
            "1º Foto\n",
            "2017-01-05\n",
            "2017-04-05\n",
            "2017-04-06\n",
            "2017-05-06\n",
            "\n",
            "\n",
            "2º Foto\n",
            "2017-05-07\n",
            "2017-08-05\n",
            "2017-08-06\n",
            "2017-09-05\n",
            "\n",
            "\n",
            "3º Foto\n",
            "2017-09-06\n",
            "2017-12-05\n",
            "2017-12-06\n",
            "2018-01-05\n",
            "\n",
            "\n",
            "4º Foto\n",
            "2018-01-06\n",
            "2018-04-06\n",
            "2018-04-07\n",
            "2018-05-07\n",
            "\n",
            "\n",
            "5º Foto\n",
            "2018-05-08\n",
            "2018-08-06\n",
            "2018-08-07\n",
            "2018-09-06\n",
            "\n",
            "\n"
          ]
        }
      ]
    },
    {
      "cell_type": "code",
      "source": [
        "# Criando um df vazio para receber as fotos\n",
        "df = pd.DataFrame()\n",
        "\n",
        "# Criando a query\n",
        "for i in range(len(dates['dt_train_start'])):\n",
        "  query =f\"\"\" \n",
        "  WITH tb_book_sellers AS (\n",
        "\n",
        "    WITH idade_base_seller AS (\n",
        "    SELECT t2_idade_base_with.seller_id,\n",
        "          MAX(JULIANDAY('{dates['dt_train_stop'][i]}') - JULIANDAY(t1_orders_idade.order_approved_at)) AS idade_base\n",
        "\n",
        "    FROM tb_orders AS t1_orders_idade\n",
        "\n",
        "    LEFT JOIN tb_order_items AS t2_idade_base_with\n",
        "    ON t1_orders_idade.order_id = t2_idade_base_with.order_id\n",
        "\n",
        "    WHERE t1_orders_idade.order_approved_at < '{dates['dt_train_stop'][i]}'\n",
        "    AND t1_orders_idade.order_status = 'delivered'\n",
        "\n",
        "    GROUP BY t2_idade_base_with.seller_id\n",
        "    ) -- fim do with idade_base_seller\n",
        "\n",
        "\n",
        "    SELECT  t2_seller_2.seller_city,\n",
        "            t2_seller_2.seller_state,\n",
        "            t1_from_master.*\n",
        "\n",
        "    FROM (\n",
        "          SELECT t2_seller_1.seller_id,\n",
        "\n",
        "                AVG( t5_reviews.review_score ) AS avg_review_score, -- media do score de reviews\n",
        "            \n",
        "                t3_idade_base.idade_base AS idade_base_dias, -- dias desde a primeira venda\n",
        "                1 + CAST(t3_idade_base.idade_base / 30 AS integer) AS idade_base_mes, -- meses desde a primeira venda\n",
        "                CAST( JULIANDAY('{dates['dt_train_stop'][i]}') - JULIANDAY( MAX( t1_orders_1.order_approved_at ) ) AS integer) AS qtde_dias_utl_venda, \n",
        "\n",
        "                COUNT( DISTINCT STRFTIME('%m', t1_orders_1.order_approved_at) ) AS qtde_mes_ativacao, \n",
        "                CAST( COUNT( DISTINCT STRFTIME('%m', t1_orders_1.order_approved_at) ) AS FLOAT) / MIN( 1 + CAST( t3_idade_base.idade_base / 30 AS integer), 6 ) AS prop_ativacao, -- proporcao de meses em que vendedor vendeu\n",
        "\n",
        "                SUM( CASE WHEN JULIANDAY(t1_orders_1.order_estimated_delivery_date) < JULIANDAY(t1_orders_1.order_delivered_customer_date) THEN 1 ELSE 0 END ) / COUNT( DISTINCT t2_seller_1.order_id) AS prop_atraso, -- proporcao de pedidos em atraso\n",
        "                CAST( AVG( JULIANDAY(t1_orders_1.order_estimated_delivery_date) - JULIANDAY( t1_orders_1.order_purchase_timestamp ) ) AS integer) AS avg_tempo_entrega_est, -- tempo medio de entrega prevista\n",
        "\n",
        "                SUM( t2_seller_1.price ) AS receita_total,\n",
        "                SUM( t2_seller_1.price ) / COUNT( DISTINCT t2_seller_1.order_id) AS avg_vl_venda,\n",
        "                SUM( t2_seller_1.price ) / MIN( 1 + CAST( t3_idade_base.idade_base / 30 AS integer), 6 ) AS avg_vl_venda_mes, -- receita média por mes simples\n",
        "                SUM( t2_seller_1.price ) / COUNT( DISTINCT STRFTIME('%m', t1_orders_1.order_approved_at) ) AS avg_vl_venda_mes_ativado, -- receita média por mes em que vendedor ativa\n",
        "                COUNT( DISTINCT t2_seller_1.order_id) AS qtde_vendas,\n",
        "\n",
        "                COUNT( t2_seller_1.product_id ) AS qtde_produto,\n",
        "                COUNT( DISTINCT t2_seller_1.product_id ) AS qtde_produto_dst,\n",
        "                SUM( t2_seller_1.price ) / COUNT( t2_seller_1.product_id ) AS avg_vl_produto,\n",
        "\n",
        "                COUNT( t2_seller_1.product_id ) / COUNT( DISTINCT t2_seller_1.order_id) AS avg_qtde_produto_venda -- media de produtos vendidos por venda\n",
        "\n",
        "          FROM tb_orders AS t1_orders_1\n",
        "\n",
        "          LEFT JOIN tb_order_items AS t2_seller_1\n",
        "          ON t1_orders_1.order_id = t2_seller_1.order_id\n",
        "\n",
        "          LEFT JOIN idade_base_seller AS t3_idade_base\n",
        "          ON t2_seller_1.seller_id = t3_idade_base.seller_id\n",
        "\n",
        "          LEFT JOIN tb_products AS t4_produtos\n",
        "          ON t2_seller_1.product_id = t4_produtos.product_id\n",
        "\n",
        "          LEFT JOIN tb_order_reviews AS t5_reviews\n",
        "          ON t1_orders_1.order_id = t5_reviews.order_id\n",
        "\n",
        "          WHERE t1_orders_1.order_approved_at between '{dates['dt_train_start'][i]}'\n",
        "          AND '{dates['dt_train_stop'][i]}'\n",
        "          AND t1_orders_1.order_status = 'delivered'\n",
        "\n",
        "          group by t2_seller_1.seller_id\n",
        "    ) AS t1_from_master\n",
        "\n",
        "    LEFT JOIN tb_sellers AS t2_seller_2\n",
        "    ON t1_from_master.seller_id = t2_seller_2.seller_id\n",
        "\n",
        "    ORDER BY qtde_vendas desc\n",
        "  ) -- fim do with tb_book_sellers\n",
        "\n",
        "\n",
        "  SELECT t1_book.*,\n",
        "          CASE WHEN t2_flag.seller_id is not null THEN 1 ELSE 0 end AS flag_vendeu\n",
        "\n",
        "  FROM tb_book_sellers AS t1_book\n",
        "\n",
        "  LEFT JOIN(\n",
        "      SELECT DISTINCT t2.seller_id\n",
        "\n",
        "      FROM tb_orders AS tb_orders_join\n",
        "\n",
        "      LEFT JOIN tb_order_items AS t2\n",
        "      ON tb_orders_join.order_id = t2.order_id\n",
        "\n",
        "      WHERE tb_orders_join.order_approved_at between '{dates['dt_test_start'][i]}'\n",
        "      AND '{dates['dt_test_stop'][i]}'\n",
        "      AND tb_orders_join.order_status = 'delivered'\n",
        "  ) AS t2_flag\n",
        "  ON t1_book.seller_id = t2_flag.seller_id -- join do book com o flag\n",
        "  \"\"\"\n",
        "  print(f'df antes (shape): {df.shape}')\n",
        "  df_query = pd.read_sql(query, conn)\n",
        "  print(f'df_query (shape): {df_query.shape}')\n",
        "  df = pd.concat([df,df_query],axis=0)\n",
        "  print(f'df depois (shape): {df.shape}\\n')\n",
        "del df_query"
      ],
      "metadata": {
        "id": "vd1r3Ph455yq",
        "colab": {
          "base_uri": "https://localhost:8080/"
        },
        "outputId": "b816ae8e-a93d-4768-de61-05ff614f1b59"
      },
      "execution_count": null,
      "outputs": [
        {
          "output_type": "stream",
          "name": "stdout",
          "text": [
            "df antes (shape): (0, 0)\n",
            "df_query (shape): (632, 21)\n",
            "df depois (shape): (632, 21)\n",
            "\n",
            "df antes (shape): (632, 21)\n",
            "df_query (shape): (843, 21)\n",
            "df depois (shape): (1475, 21)\n",
            "\n",
            "df antes (shape): (1475, 21)\n",
            "df_query (shape): (1207, 21)\n",
            "df depois (shape): (2682, 21)\n",
            "\n",
            "df antes (shape): (2682, 21)\n",
            "df_query (shape): (1372, 21)\n",
            "df depois (shape): (4054, 21)\n",
            "\n",
            "df antes (shape): (4054, 21)\n",
            "df_query (shape): (1741, 21)\n",
            "df depois (shape): (5795, 21)\n",
            "\n"
          ]
        }
      ]
    },
    {
      "cell_type": "code",
      "source": [
        "# Colunas qualitativas removidas temporariamente para fins de simplificação\n",
        "cols_quali = ['seller_city', 'seller_state', 'seller_id']\n",
        "df.drop(cols_quali, axis=1, inplace=True)"
      ],
      "metadata": {
        "id": "tibSIBTZVPHw"
      },
      "execution_count": null,
      "outputs": []
    },
    {
      "cell_type": "markdown",
      "source": [
        "### Visualizando os dados"
      ],
      "metadata": {
        "id": "RSfelkijVca8"
      }
    },
    {
      "cell_type": "code",
      "source": [
        "# O dataframe não possui nem valores nulos e nem categóricos\n",
        "df.info()"
      ],
      "metadata": {
        "colab": {
          "base_uri": "https://localhost:8080/"
        },
        "id": "5_p-KVTTUQgT",
        "outputId": "af6b7615-ea08-47c8-d8b3-a1c2f99c6da3"
      },
      "execution_count": null,
      "outputs": [
        {
          "output_type": "stream",
          "name": "stdout",
          "text": [
            "<class 'pandas.core.frame.DataFrame'>\n",
            "Int64Index: 5795 entries, 0 to 1740\n",
            "Data columns (total 18 columns):\n",
            " #   Column                    Non-Null Count  Dtype  \n",
            "---  ------                    --------------  -----  \n",
            " 0   avg_review_score          5795 non-null   float64\n",
            " 1   idade_base_dias           5795 non-null   float64\n",
            " 2   idade_base_mes            5795 non-null   int64  \n",
            " 3   qtde_dias_utl_venda       5795 non-null   int64  \n",
            " 4   qtde_mes_ativacao         5795 non-null   int64  \n",
            " 5   prop_ativacao             5795 non-null   float64\n",
            " 6   prop_atraso               5795 non-null   int64  \n",
            " 7   avg_tempo_entrega_est     5795 non-null   int64  \n",
            " 8   receita_total             5795 non-null   float64\n",
            " 9   avg_vl_venda              5795 non-null   float64\n",
            " 10  avg_vl_venda_mes          5795 non-null   float64\n",
            " 11  avg_vl_venda_mes_ativado  5795 non-null   float64\n",
            " 12  qtde_vendas               5795 non-null   int64  \n",
            " 13  qtde_produto              5795 non-null   int64  \n",
            " 14  qtde_produto_dst          5795 non-null   int64  \n",
            " 15  avg_vl_produto            5795 non-null   float64\n",
            " 16  avg_qtde_produto_venda    5795 non-null   int64  \n",
            " 17  flag_vendeu               5795 non-null   int64  \n",
            "dtypes: float64(8), int64(10)\n",
            "memory usage: 860.2 KB\n"
          ]
        }
      ]
    },
    {
      "cell_type": "code",
      "source": [
        "# Visualizando os dados\n",
        "df.head()"
      ],
      "metadata": {
        "colab": {
          "base_uri": "https://localhost:8080/"
        },
        "id": "x_NsDtTiUQiE",
        "outputId": "d6ef0829-3453-425e-9644-311a0cae3436"
      },
      "execution_count": null,
      "outputs": [
        {
          "output_type": "execute_result",
          "data": {
            "text/plain": [
              "   avg_review_score  idade_base_dias  idade_base_mes  qtde_dias_utl_venda  \\\n",
              "0          3.903382       182.563808               7                    0   \n",
              "1          4.549618       182.425648               7                    0   \n",
              "2          4.008929        86.593611               3                    0   \n",
              "3          4.030000       180.867674               7                    0   \n",
              "4          3.405405        68.045023               3                    0   \n",
              "\n",
              "   qtde_mes_ativacao  prop_ativacao  prop_atraso  avg_tempo_entrega_est  \\\n",
              "0                  4       0.666667            0                     34   \n",
              "1                  4       0.666667            0                     30   \n",
              "2                  4       1.333333            0                     26   \n",
              "3                  4       0.666667            0                     26   \n",
              "4                  4       1.333333            0                     32   \n",
              "\n",
              "   receita_total  avg_vl_venda  avg_vl_venda_mes  avg_vl_venda_mes_ativado  \\\n",
              "0       16494.76     98.771018       2749.126667                 4123.6900   \n",
              "1       24525.30    201.027049       4087.550000                 6131.3250   \n",
              "2       10722.40    107.224000       3574.133333                 2680.6000   \n",
              "3        2351.47     26.127444        391.911667                  587.8675   \n",
              "4       14786.63    166.141910       4928.876667                 3696.6575   \n",
              "\n",
              "   qtde_vendas  qtde_produto  qtde_produto_dst  avg_vl_produto  \\\n",
              "0          167           207               123       79.684831   \n",
              "1          122           131                28      187.216031   \n",
              "2          100           112                46       95.735714   \n",
              "3           90           100                51       23.514700   \n",
              "4           89           111                50      133.212883   \n",
              "\n",
              "   avg_qtde_produto_venda  flag_vendeu  \n",
              "0                       1            1  \n",
              "1                       1            1  \n",
              "2                       1            1  \n",
              "3                       1            1  \n",
              "4                       1            1  "
            ],
            "text/html": [
              "\n",
              "  <div id=\"df-5a005d19-bf0c-4eb4-a0ba-e82b9fb9b6a4\">\n",
              "    <div class=\"colab-df-container\">\n",
              "      <div>\n",
              "<style scoped>\n",
              "    .dataframe tbody tr th:only-of-type {\n",
              "        vertical-align: middle;\n",
              "    }\n",
              "\n",
              "    .dataframe tbody tr th {\n",
              "        vertical-align: top;\n",
              "    }\n",
              "\n",
              "    .dataframe thead th {\n",
              "        text-align: right;\n",
              "    }\n",
              "</style>\n",
              "<table border=\"1\" class=\"dataframe\">\n",
              "  <thead>\n",
              "    <tr style=\"text-align: right;\">\n",
              "      <th></th>\n",
              "      <th>avg_review_score</th>\n",
              "      <th>idade_base_dias</th>\n",
              "      <th>idade_base_mes</th>\n",
              "      <th>qtde_dias_utl_venda</th>\n",
              "      <th>qtde_mes_ativacao</th>\n",
              "      <th>prop_ativacao</th>\n",
              "      <th>prop_atraso</th>\n",
              "      <th>avg_tempo_entrega_est</th>\n",
              "      <th>receita_total</th>\n",
              "      <th>avg_vl_venda</th>\n",
              "      <th>avg_vl_venda_mes</th>\n",
              "      <th>avg_vl_venda_mes_ativado</th>\n",
              "      <th>qtde_vendas</th>\n",
              "      <th>qtde_produto</th>\n",
              "      <th>qtde_produto_dst</th>\n",
              "      <th>avg_vl_produto</th>\n",
              "      <th>avg_qtde_produto_venda</th>\n",
              "      <th>flag_vendeu</th>\n",
              "    </tr>\n",
              "  </thead>\n",
              "  <tbody>\n",
              "    <tr>\n",
              "      <th>0</th>\n",
              "      <td>3.903382</td>\n",
              "      <td>182.563808</td>\n",
              "      <td>7</td>\n",
              "      <td>0</td>\n",
              "      <td>4</td>\n",
              "      <td>0.666667</td>\n",
              "      <td>0</td>\n",
              "      <td>34</td>\n",
              "      <td>16494.76</td>\n",
              "      <td>98.771018</td>\n",
              "      <td>2749.126667</td>\n",
              "      <td>4123.6900</td>\n",
              "      <td>167</td>\n",
              "      <td>207</td>\n",
              "      <td>123</td>\n",
              "      <td>79.684831</td>\n",
              "      <td>1</td>\n",
              "      <td>1</td>\n",
              "    </tr>\n",
              "    <tr>\n",
              "      <th>1</th>\n",
              "      <td>4.549618</td>\n",
              "      <td>182.425648</td>\n",
              "      <td>7</td>\n",
              "      <td>0</td>\n",
              "      <td>4</td>\n",
              "      <td>0.666667</td>\n",
              "      <td>0</td>\n",
              "      <td>30</td>\n",
              "      <td>24525.30</td>\n",
              "      <td>201.027049</td>\n",
              "      <td>4087.550000</td>\n",
              "      <td>6131.3250</td>\n",
              "      <td>122</td>\n",
              "      <td>131</td>\n",
              "      <td>28</td>\n",
              "      <td>187.216031</td>\n",
              "      <td>1</td>\n",
              "      <td>1</td>\n",
              "    </tr>\n",
              "    <tr>\n",
              "      <th>2</th>\n",
              "      <td>4.008929</td>\n",
              "      <td>86.593611</td>\n",
              "      <td>3</td>\n",
              "      <td>0</td>\n",
              "      <td>4</td>\n",
              "      <td>1.333333</td>\n",
              "      <td>0</td>\n",
              "      <td>26</td>\n",
              "      <td>10722.40</td>\n",
              "      <td>107.224000</td>\n",
              "      <td>3574.133333</td>\n",
              "      <td>2680.6000</td>\n",
              "      <td>100</td>\n",
              "      <td>112</td>\n",
              "      <td>46</td>\n",
              "      <td>95.735714</td>\n",
              "      <td>1</td>\n",
              "      <td>1</td>\n",
              "    </tr>\n",
              "    <tr>\n",
              "      <th>3</th>\n",
              "      <td>4.030000</td>\n",
              "      <td>180.867674</td>\n",
              "      <td>7</td>\n",
              "      <td>0</td>\n",
              "      <td>4</td>\n",
              "      <td>0.666667</td>\n",
              "      <td>0</td>\n",
              "      <td>26</td>\n",
              "      <td>2351.47</td>\n",
              "      <td>26.127444</td>\n",
              "      <td>391.911667</td>\n",
              "      <td>587.8675</td>\n",
              "      <td>90</td>\n",
              "      <td>100</td>\n",
              "      <td>51</td>\n",
              "      <td>23.514700</td>\n",
              "      <td>1</td>\n",
              "      <td>1</td>\n",
              "    </tr>\n",
              "    <tr>\n",
              "      <th>4</th>\n",
              "      <td>3.405405</td>\n",
              "      <td>68.045023</td>\n",
              "      <td>3</td>\n",
              "      <td>0</td>\n",
              "      <td>4</td>\n",
              "      <td>1.333333</td>\n",
              "      <td>0</td>\n",
              "      <td>32</td>\n",
              "      <td>14786.63</td>\n",
              "      <td>166.141910</td>\n",
              "      <td>4928.876667</td>\n",
              "      <td>3696.6575</td>\n",
              "      <td>89</td>\n",
              "      <td>111</td>\n",
              "      <td>50</td>\n",
              "      <td>133.212883</td>\n",
              "      <td>1</td>\n",
              "      <td>1</td>\n",
              "    </tr>\n",
              "  </tbody>\n",
              "</table>\n",
              "</div>\n",
              "      <button class=\"colab-df-convert\" onclick=\"convertToInteractive('df-5a005d19-bf0c-4eb4-a0ba-e82b9fb9b6a4')\"\n",
              "              title=\"Convert this dataframe to an interactive table.\"\n",
              "              style=\"display:none;\">\n",
              "        \n",
              "  <svg xmlns=\"http://www.w3.org/2000/svg\" height=\"24px\"viewBox=\"0 0 24 24\"\n",
              "       width=\"24px\">\n",
              "    <path d=\"M0 0h24v24H0V0z\" fill=\"none\"/>\n",
              "    <path d=\"M18.56 5.44l.94 2.06.94-2.06 2.06-.94-2.06-.94-.94-2.06-.94 2.06-2.06.94zm-11 1L8.5 8.5l.94-2.06 2.06-.94-2.06-.94L8.5 2.5l-.94 2.06-2.06.94zm10 10l.94 2.06.94-2.06 2.06-.94-2.06-.94-.94-2.06-.94 2.06-2.06.94z\"/><path d=\"M17.41 7.96l-1.37-1.37c-.4-.4-.92-.59-1.43-.59-.52 0-1.04.2-1.43.59L10.3 9.45l-7.72 7.72c-.78.78-.78 2.05 0 2.83L4 21.41c.39.39.9.59 1.41.59.51 0 1.02-.2 1.41-.59l7.78-7.78 2.81-2.81c.8-.78.8-2.07 0-2.86zM5.41 20L4 18.59l7.72-7.72 1.47 1.35L5.41 20z\"/>\n",
              "  </svg>\n",
              "      </button>\n",
              "      \n",
              "  <style>\n",
              "    .colab-df-container {\n",
              "      display:flex;\n",
              "      flex-wrap:wrap;\n",
              "      gap: 12px;\n",
              "    }\n",
              "\n",
              "    .colab-df-convert {\n",
              "      background-color: #E8F0FE;\n",
              "      border: none;\n",
              "      border-radius: 50%;\n",
              "      cursor: pointer;\n",
              "      display: none;\n",
              "      fill: #1967D2;\n",
              "      height: 32px;\n",
              "      padding: 0 0 0 0;\n",
              "      width: 32px;\n",
              "    }\n",
              "\n",
              "    .colab-df-convert:hover {\n",
              "      background-color: #E2EBFA;\n",
              "      box-shadow: 0px 1px 2px rgba(60, 64, 67, 0.3), 0px 1px 3px 1px rgba(60, 64, 67, 0.15);\n",
              "      fill: #174EA6;\n",
              "    }\n",
              "\n",
              "    [theme=dark] .colab-df-convert {\n",
              "      background-color: #3B4455;\n",
              "      fill: #D2E3FC;\n",
              "    }\n",
              "\n",
              "    [theme=dark] .colab-df-convert:hover {\n",
              "      background-color: #434B5C;\n",
              "      box-shadow: 0px 1px 3px 1px rgba(0, 0, 0, 0.15);\n",
              "      filter: drop-shadow(0px 1px 2px rgba(0, 0, 0, 0.3));\n",
              "      fill: #FFFFFF;\n",
              "    }\n",
              "  </style>\n",
              "\n",
              "      <script>\n",
              "        const buttonEl =\n",
              "          document.querySelector('#df-5a005d19-bf0c-4eb4-a0ba-e82b9fb9b6a4 button.colab-df-convert');\n",
              "        buttonEl.style.display =\n",
              "          google.colab.kernel.accessAllowed ? 'block' : 'none';\n",
              "\n",
              "        async function convertToInteractive(key) {\n",
              "          const element = document.querySelector('#df-5a005d19-bf0c-4eb4-a0ba-e82b9fb9b6a4');\n",
              "          const dataTable =\n",
              "            await google.colab.kernel.invokeFunction('convertToInteractive',\n",
              "                                                     [key], {});\n",
              "          if (!dataTable) return;\n",
              "\n",
              "          const docLinkHtml = 'Like what you see? Visit the ' +\n",
              "            '<a target=\"_blank\" href=https://colab.research.google.com/notebooks/data_table.ipynb>data table notebook</a>'\n",
              "            + ' to learn more about interactive tables.';\n",
              "          element.innerHTML = '';\n",
              "          dataTable['output_type'] = 'display_data';\n",
              "          await google.colab.output.renderOutput(dataTable, element);\n",
              "          const docLink = document.createElement('div');\n",
              "          docLink.innerHTML = docLinkHtml;\n",
              "          element.appendChild(docLink);\n",
              "        }\n",
              "      </script>\n",
              "    </div>\n",
              "  </div>\n",
              "  "
            ]
          },
          "metadata": {},
          "execution_count": 12
        }
      ]
    },
    {
      "cell_type": "code",
      "source": [
        "# Visualizando as estatísticas dos dados\n",
        "df.describe().T"
      ],
      "metadata": {
        "colab": {
          "base_uri": "https://localhost:8080/"
        },
        "id": "9fHY8rOAUQj9",
        "outputId": "46a03f6a-2ce3-4be2-ea3a-68d32787b79b"
      },
      "execution_count": null,
      "outputs": [
        {
          "output_type": "execute_result",
          "data": {
            "text/plain": [
              "                           count         mean          std       min  \\\n",
              "avg_review_score          5795.0     4.111717     0.906045  1.000000   \n",
              "idade_base_dias           5795.0   184.299051   155.033672  0.062199   \n",
              "idade_base_mes            5795.0     6.666782     5.191426  1.000000   \n",
              "qtde_dias_utl_venda       5795.0    19.711130    23.299207  0.000000   \n",
              "qtde_mes_ativacao         5795.0     2.282657     1.115910  1.000000   \n",
              "prop_ativacao             5795.0     0.651311     0.382242  0.166667   \n",
              "prop_atraso               5795.0     0.033650     0.219218  0.000000   \n",
              "avg_tempo_entrega_est     5795.0    23.893874     7.094069  2.000000   \n",
              "receita_total             5795.0  1693.805446  4233.969712  3.540000   \n",
              "avg_vl_venda              5795.0   189.632173   367.772105  3.245000   \n",
              "avg_vl_venda_mes          5795.0   403.527666   930.996676  0.590000   \n",
              "avg_vl_venda_mes_ativado  5795.0   594.137628  1207.528203  3.245000   \n",
              "qtde_vendas               5795.0    12.467472    30.596793  1.000000   \n",
              "qtde_produto              5795.0    14.174633    35.158042  1.000000   \n",
              "qtde_produto_dst          5795.0     6.172390    10.579880  1.000000   \n",
              "avg_vl_produto            5795.0   170.062571   299.672309  3.245000   \n",
              "avg_qtde_produto_venda    5795.0     1.076963     0.438420  1.000000   \n",
              "flag_vendeu               5795.0     0.598965     0.490150  0.000000   \n",
              "\n",
              "                                 25%         50%          75%           max  \n",
              "avg_review_score            3.800000    4.300000     4.812500      5.000000  \n",
              "idade_base_dias            58.436088  142.852303   284.594201    670.569873  \n",
              "idade_base_mes              2.000000    5.000000    10.000000     23.000000  \n",
              "qtde_dias_utl_venda         2.000000    9.000000    30.500000     89.000000  \n",
              "qtde_mes_ativacao           1.000000    2.000000     3.000000      4.000000  \n",
              "prop_ativacao               0.333333    0.600000     1.000000      2.000000  \n",
              "prop_atraso                 0.000000    0.000000     0.000000      5.000000  \n",
              "avg_tempo_entrega_est      20.000000   23.000000    27.000000    146.000000  \n",
              "receita_total             169.900000  525.380000  1465.415000  96868.820000  \n",
              "avg_vl_venda               59.283333  104.833333   188.970000  13440.000000  \n",
              "avg_vl_venda_mes           53.429167  147.000000   365.208333  24217.205000  \n",
              "avg_vl_venda_mes_ativado  109.155000  254.200000   585.075000  24217.205000  \n",
              "qtde_vendas                 2.000000    4.000000    11.000000    475.000000  \n",
              "qtde_produto                2.000000    5.000000    12.000000    628.000000  \n",
              "qtde_produto_dst            1.000000    3.000000     7.000000    155.000000  \n",
              "avg_vl_produto             50.994167   94.225000   169.900000   6735.000000  \n",
              "avg_qtde_produto_venda      1.000000    1.000000     1.000000     15.000000  \n",
              "flag_vendeu                 0.000000    1.000000     1.000000      1.000000  "
            ],
            "text/html": [
              "\n",
              "  <div id=\"df-ff976043-49aa-4e85-b1f4-8fab418ca2a7\">\n",
              "    <div class=\"colab-df-container\">\n",
              "      <div>\n",
              "<style scoped>\n",
              "    .dataframe tbody tr th:only-of-type {\n",
              "        vertical-align: middle;\n",
              "    }\n",
              "\n",
              "    .dataframe tbody tr th {\n",
              "        vertical-align: top;\n",
              "    }\n",
              "\n",
              "    .dataframe thead th {\n",
              "        text-align: right;\n",
              "    }\n",
              "</style>\n",
              "<table border=\"1\" class=\"dataframe\">\n",
              "  <thead>\n",
              "    <tr style=\"text-align: right;\">\n",
              "      <th></th>\n",
              "      <th>count</th>\n",
              "      <th>mean</th>\n",
              "      <th>std</th>\n",
              "      <th>min</th>\n",
              "      <th>25%</th>\n",
              "      <th>50%</th>\n",
              "      <th>75%</th>\n",
              "      <th>max</th>\n",
              "    </tr>\n",
              "  </thead>\n",
              "  <tbody>\n",
              "    <tr>\n",
              "      <th>avg_review_score</th>\n",
              "      <td>5795.0</td>\n",
              "      <td>4.111717</td>\n",
              "      <td>0.906045</td>\n",
              "      <td>1.000000</td>\n",
              "      <td>3.800000</td>\n",
              "      <td>4.300000</td>\n",
              "      <td>4.812500</td>\n",
              "      <td>5.000000</td>\n",
              "    </tr>\n",
              "    <tr>\n",
              "      <th>idade_base_dias</th>\n",
              "      <td>5795.0</td>\n",
              "      <td>184.299051</td>\n",
              "      <td>155.033672</td>\n",
              "      <td>0.062199</td>\n",
              "      <td>58.436088</td>\n",
              "      <td>142.852303</td>\n",
              "      <td>284.594201</td>\n",
              "      <td>670.569873</td>\n",
              "    </tr>\n",
              "    <tr>\n",
              "      <th>idade_base_mes</th>\n",
              "      <td>5795.0</td>\n",
              "      <td>6.666782</td>\n",
              "      <td>5.191426</td>\n",
              "      <td>1.000000</td>\n",
              "      <td>2.000000</td>\n",
              "      <td>5.000000</td>\n",
              "      <td>10.000000</td>\n",
              "      <td>23.000000</td>\n",
              "    </tr>\n",
              "    <tr>\n",
              "      <th>qtde_dias_utl_venda</th>\n",
              "      <td>5795.0</td>\n",
              "      <td>19.711130</td>\n",
              "      <td>23.299207</td>\n",
              "      <td>0.000000</td>\n",
              "      <td>2.000000</td>\n",
              "      <td>9.000000</td>\n",
              "      <td>30.500000</td>\n",
              "      <td>89.000000</td>\n",
              "    </tr>\n",
              "    <tr>\n",
              "      <th>qtde_mes_ativacao</th>\n",
              "      <td>5795.0</td>\n",
              "      <td>2.282657</td>\n",
              "      <td>1.115910</td>\n",
              "      <td>1.000000</td>\n",
              "      <td>1.000000</td>\n",
              "      <td>2.000000</td>\n",
              "      <td>3.000000</td>\n",
              "      <td>4.000000</td>\n",
              "    </tr>\n",
              "    <tr>\n",
              "      <th>prop_ativacao</th>\n",
              "      <td>5795.0</td>\n",
              "      <td>0.651311</td>\n",
              "      <td>0.382242</td>\n",
              "      <td>0.166667</td>\n",
              "      <td>0.333333</td>\n",
              "      <td>0.600000</td>\n",
              "      <td>1.000000</td>\n",
              "      <td>2.000000</td>\n",
              "    </tr>\n",
              "    <tr>\n",
              "      <th>prop_atraso</th>\n",
              "      <td>5795.0</td>\n",
              "      <td>0.033650</td>\n",
              "      <td>0.219218</td>\n",
              "      <td>0.000000</td>\n",
              "      <td>0.000000</td>\n",
              "      <td>0.000000</td>\n",
              "      <td>0.000000</td>\n",
              "      <td>5.000000</td>\n",
              "    </tr>\n",
              "    <tr>\n",
              "      <th>avg_tempo_entrega_est</th>\n",
              "      <td>5795.0</td>\n",
              "      <td>23.893874</td>\n",
              "      <td>7.094069</td>\n",
              "      <td>2.000000</td>\n",
              "      <td>20.000000</td>\n",
              "      <td>23.000000</td>\n",
              "      <td>27.000000</td>\n",
              "      <td>146.000000</td>\n",
              "    </tr>\n",
              "    <tr>\n",
              "      <th>receita_total</th>\n",
              "      <td>5795.0</td>\n",
              "      <td>1693.805446</td>\n",
              "      <td>4233.969712</td>\n",
              "      <td>3.540000</td>\n",
              "      <td>169.900000</td>\n",
              "      <td>525.380000</td>\n",
              "      <td>1465.415000</td>\n",
              "      <td>96868.820000</td>\n",
              "    </tr>\n",
              "    <tr>\n",
              "      <th>avg_vl_venda</th>\n",
              "      <td>5795.0</td>\n",
              "      <td>189.632173</td>\n",
              "      <td>367.772105</td>\n",
              "      <td>3.245000</td>\n",
              "      <td>59.283333</td>\n",
              "      <td>104.833333</td>\n",
              "      <td>188.970000</td>\n",
              "      <td>13440.000000</td>\n",
              "    </tr>\n",
              "    <tr>\n",
              "      <th>avg_vl_venda_mes</th>\n",
              "      <td>5795.0</td>\n",
              "      <td>403.527666</td>\n",
              "      <td>930.996676</td>\n",
              "      <td>0.590000</td>\n",
              "      <td>53.429167</td>\n",
              "      <td>147.000000</td>\n",
              "      <td>365.208333</td>\n",
              "      <td>24217.205000</td>\n",
              "    </tr>\n",
              "    <tr>\n",
              "      <th>avg_vl_venda_mes_ativado</th>\n",
              "      <td>5795.0</td>\n",
              "      <td>594.137628</td>\n",
              "      <td>1207.528203</td>\n",
              "      <td>3.245000</td>\n",
              "      <td>109.155000</td>\n",
              "      <td>254.200000</td>\n",
              "      <td>585.075000</td>\n",
              "      <td>24217.205000</td>\n",
              "    </tr>\n",
              "    <tr>\n",
              "      <th>qtde_vendas</th>\n",
              "      <td>5795.0</td>\n",
              "      <td>12.467472</td>\n",
              "      <td>30.596793</td>\n",
              "      <td>1.000000</td>\n",
              "      <td>2.000000</td>\n",
              "      <td>4.000000</td>\n",
              "      <td>11.000000</td>\n",
              "      <td>475.000000</td>\n",
              "    </tr>\n",
              "    <tr>\n",
              "      <th>qtde_produto</th>\n",
              "      <td>5795.0</td>\n",
              "      <td>14.174633</td>\n",
              "      <td>35.158042</td>\n",
              "      <td>1.000000</td>\n",
              "      <td>2.000000</td>\n",
              "      <td>5.000000</td>\n",
              "      <td>12.000000</td>\n",
              "      <td>628.000000</td>\n",
              "    </tr>\n",
              "    <tr>\n",
              "      <th>qtde_produto_dst</th>\n",
              "      <td>5795.0</td>\n",
              "      <td>6.172390</td>\n",
              "      <td>10.579880</td>\n",
              "      <td>1.000000</td>\n",
              "      <td>1.000000</td>\n",
              "      <td>3.000000</td>\n",
              "      <td>7.000000</td>\n",
              "      <td>155.000000</td>\n",
              "    </tr>\n",
              "    <tr>\n",
              "      <th>avg_vl_produto</th>\n",
              "      <td>5795.0</td>\n",
              "      <td>170.062571</td>\n",
              "      <td>299.672309</td>\n",
              "      <td>3.245000</td>\n",
              "      <td>50.994167</td>\n",
              "      <td>94.225000</td>\n",
              "      <td>169.900000</td>\n",
              "      <td>6735.000000</td>\n",
              "    </tr>\n",
              "    <tr>\n",
              "      <th>avg_qtde_produto_venda</th>\n",
              "      <td>5795.0</td>\n",
              "      <td>1.076963</td>\n",
              "      <td>0.438420</td>\n",
              "      <td>1.000000</td>\n",
              "      <td>1.000000</td>\n",
              "      <td>1.000000</td>\n",
              "      <td>1.000000</td>\n",
              "      <td>15.000000</td>\n",
              "    </tr>\n",
              "    <tr>\n",
              "      <th>flag_vendeu</th>\n",
              "      <td>5795.0</td>\n",
              "      <td>0.598965</td>\n",
              "      <td>0.490150</td>\n",
              "      <td>0.000000</td>\n",
              "      <td>0.000000</td>\n",
              "      <td>1.000000</td>\n",
              "      <td>1.000000</td>\n",
              "      <td>1.000000</td>\n",
              "    </tr>\n",
              "  </tbody>\n",
              "</table>\n",
              "</div>\n",
              "      <button class=\"colab-df-convert\" onclick=\"convertToInteractive('df-ff976043-49aa-4e85-b1f4-8fab418ca2a7')\"\n",
              "              title=\"Convert this dataframe to an interactive table.\"\n",
              "              style=\"display:none;\">\n",
              "        \n",
              "  <svg xmlns=\"http://www.w3.org/2000/svg\" height=\"24px\"viewBox=\"0 0 24 24\"\n",
              "       width=\"24px\">\n",
              "    <path d=\"M0 0h24v24H0V0z\" fill=\"none\"/>\n",
              "    <path d=\"M18.56 5.44l.94 2.06.94-2.06 2.06-.94-2.06-.94-.94-2.06-.94 2.06-2.06.94zm-11 1L8.5 8.5l.94-2.06 2.06-.94-2.06-.94L8.5 2.5l-.94 2.06-2.06.94zm10 10l.94 2.06.94-2.06 2.06-.94-2.06-.94-.94-2.06-.94 2.06-2.06.94z\"/><path d=\"M17.41 7.96l-1.37-1.37c-.4-.4-.92-.59-1.43-.59-.52 0-1.04.2-1.43.59L10.3 9.45l-7.72 7.72c-.78.78-.78 2.05 0 2.83L4 21.41c.39.39.9.59 1.41.59.51 0 1.02-.2 1.41-.59l7.78-7.78 2.81-2.81c.8-.78.8-2.07 0-2.86zM5.41 20L4 18.59l7.72-7.72 1.47 1.35L5.41 20z\"/>\n",
              "  </svg>\n",
              "      </button>\n",
              "      \n",
              "  <style>\n",
              "    .colab-df-container {\n",
              "      display:flex;\n",
              "      flex-wrap:wrap;\n",
              "      gap: 12px;\n",
              "    }\n",
              "\n",
              "    .colab-df-convert {\n",
              "      background-color: #E8F0FE;\n",
              "      border: none;\n",
              "      border-radius: 50%;\n",
              "      cursor: pointer;\n",
              "      display: none;\n",
              "      fill: #1967D2;\n",
              "      height: 32px;\n",
              "      padding: 0 0 0 0;\n",
              "      width: 32px;\n",
              "    }\n",
              "\n",
              "    .colab-df-convert:hover {\n",
              "      background-color: #E2EBFA;\n",
              "      box-shadow: 0px 1px 2px rgba(60, 64, 67, 0.3), 0px 1px 3px 1px rgba(60, 64, 67, 0.15);\n",
              "      fill: #174EA6;\n",
              "    }\n",
              "\n",
              "    [theme=dark] .colab-df-convert {\n",
              "      background-color: #3B4455;\n",
              "      fill: #D2E3FC;\n",
              "    }\n",
              "\n",
              "    [theme=dark] .colab-df-convert:hover {\n",
              "      background-color: #434B5C;\n",
              "      box-shadow: 0px 1px 3px 1px rgba(0, 0, 0, 0.15);\n",
              "      filter: drop-shadow(0px 1px 2px rgba(0, 0, 0, 0.3));\n",
              "      fill: #FFFFFF;\n",
              "    }\n",
              "  </style>\n",
              "\n",
              "      <script>\n",
              "        const buttonEl =\n",
              "          document.querySelector('#df-ff976043-49aa-4e85-b1f4-8fab418ca2a7 button.colab-df-convert');\n",
              "        buttonEl.style.display =\n",
              "          google.colab.kernel.accessAllowed ? 'block' : 'none';\n",
              "\n",
              "        async function convertToInteractive(key) {\n",
              "          const element = document.querySelector('#df-ff976043-49aa-4e85-b1f4-8fab418ca2a7');\n",
              "          const dataTable =\n",
              "            await google.colab.kernel.invokeFunction('convertToInteractive',\n",
              "                                                     [key], {});\n",
              "          if (!dataTable) return;\n",
              "\n",
              "          const docLinkHtml = 'Like what you see? Visit the ' +\n",
              "            '<a target=\"_blank\" href=https://colab.research.google.com/notebooks/data_table.ipynb>data table notebook</a>'\n",
              "            + ' to learn more about interactive tables.';\n",
              "          element.innerHTML = '';\n",
              "          dataTable['output_type'] = 'display_data';\n",
              "          await google.colab.output.renderOutput(dataTable, element);\n",
              "          const docLink = document.createElement('div');\n",
              "          docLink.innerHTML = docLinkHtml;\n",
              "          element.appendChild(docLink);\n",
              "        }\n",
              "      </script>\n",
              "    </div>\n",
              "  </div>\n",
              "  "
            ]
          },
          "metadata": {},
          "execution_count": 13
        }
      ]
    },
    {
      "cell_type": "code",
      "source": [
        "# Removendo colunas com correlação maior que 90% \n",
        "cols_const = ['idade_base_mes','avg_vl_venda_mes','qtde_produto']\n",
        "df.drop(cols_const, axis=1, inplace=True)"
      ],
      "metadata": {
        "id": "YQBzyNGkUQqX"
      },
      "execution_count": null,
      "outputs": []
    },
    {
      "cell_type": "code",
      "source": [
        "# É preciso usar o método de estratificação devido a diferença de tamanho das classes afim de manter a mesma distribuição em nosso treino e teste.\n",
        "names = ['Não Churn','Churn']\n",
        "values = df['flag_vendeu'].value_counts(normalize=True).values\n",
        "values = [round(value,3) for value in values]\n",
        "\n",
        "fig = px.bar(x=names, y=values, width=550, height=400, text=values)\n",
        "fig.update_layout(title={\n",
        "      'text':'Proporção da classe Churn',\n",
        "      'x':0.5,\n",
        "      'xanchor':'center'})\n",
        "fig.show()"
      ],
      "metadata": {
        "colab": {
          "base_uri": "https://localhost:8080/"
        },
        "id": "T_BFLVsJKAhk",
        "outputId": "93b5c035-0f89-4a50-a9f3-745ee87d1bcd"
      },
      "execution_count": null,
      "outputs": [
        {
          "output_type": "display_data",
          "data": {
            "text/html": [
              "<html>\n",
              "<head><meta charset=\"utf-8\" /></head>\n",
              "<body>\n",
              "    <div>            <script src=\"https://cdnjs.cloudflare.com/ajax/libs/mathjax/2.7.5/MathJax.js?config=TeX-AMS-MML_SVG\"></script><script type=\"text/javascript\">if (window.MathJax) {MathJax.Hub.Config({SVG: {font: \"STIX-Web\"}});}</script>                <script type=\"text/javascript\">window.PlotlyConfig = {MathJaxConfig: 'local'};</script>\n",
              "        <script src=\"https://cdn.plot.ly/plotly-2.8.3.min.js\"></script>                <div id=\"374ccc5a-5cc4-4f66-ae46-cfb0d72764ec\" class=\"plotly-graph-div\" style=\"height:400px; width:550px;\"></div>            <script type=\"text/javascript\">                                    window.PLOTLYENV=window.PLOTLYENV || {};                                    if (document.getElementById(\"374ccc5a-5cc4-4f66-ae46-cfb0d72764ec\")) {                    Plotly.newPlot(                        \"374ccc5a-5cc4-4f66-ae46-cfb0d72764ec\",                        [{\"alignmentgroup\":\"True\",\"hovertemplate\":\"x=%{x}<br>y=%{y}<br>text=%{text}<extra></extra>\",\"legendgroup\":\"\",\"marker\":{\"color\":\"#636efa\",\"pattern\":{\"shape\":\"\"}},\"name\":\"\",\"offsetgroup\":\"\",\"orientation\":\"v\",\"showlegend\":false,\"text\":[0.599,0.401],\"textposition\":\"auto\",\"x\":[\"N\\u00e3o Churn\",\"Churn\"],\"xaxis\":\"x\",\"y\":[0.599,0.401],\"yaxis\":\"y\",\"type\":\"bar\"}],                        {\"template\":{\"data\":{\"bar\":[{\"error_x\":{\"color\":\"#2a3f5f\"},\"error_y\":{\"color\":\"#2a3f5f\"},\"marker\":{\"line\":{\"color\":\"#E5ECF6\",\"width\":0.5},\"pattern\":{\"fillmode\":\"overlay\",\"size\":10,\"solidity\":0.2}},\"type\":\"bar\"}],\"barpolar\":[{\"marker\":{\"line\":{\"color\":\"#E5ECF6\",\"width\":0.5},\"pattern\":{\"fillmode\":\"overlay\",\"size\":10,\"solidity\":0.2}},\"type\":\"barpolar\"}],\"carpet\":[{\"aaxis\":{\"endlinecolor\":\"#2a3f5f\",\"gridcolor\":\"white\",\"linecolor\":\"white\",\"minorgridcolor\":\"white\",\"startlinecolor\":\"#2a3f5f\"},\"baxis\":{\"endlinecolor\":\"#2a3f5f\",\"gridcolor\":\"white\",\"linecolor\":\"white\",\"minorgridcolor\":\"white\",\"startlinecolor\":\"#2a3f5f\"},\"type\":\"carpet\"}],\"choropleth\":[{\"colorbar\":{\"outlinewidth\":0,\"ticks\":\"\"},\"type\":\"choropleth\"}],\"contour\":[{\"colorbar\":{\"outlinewidth\":0,\"ticks\":\"\"},\"colorscale\":[[0.0,\"#0d0887\"],[0.1111111111111111,\"#46039f\"],[0.2222222222222222,\"#7201a8\"],[0.3333333333333333,\"#9c179e\"],[0.4444444444444444,\"#bd3786\"],[0.5555555555555556,\"#d8576b\"],[0.6666666666666666,\"#ed7953\"],[0.7777777777777778,\"#fb9f3a\"],[0.8888888888888888,\"#fdca26\"],[1.0,\"#f0f921\"]],\"type\":\"contour\"}],\"contourcarpet\":[{\"colorbar\":{\"outlinewidth\":0,\"ticks\":\"\"},\"type\":\"contourcarpet\"}],\"heatmap\":[{\"colorbar\":{\"outlinewidth\":0,\"ticks\":\"\"},\"colorscale\":[[0.0,\"#0d0887\"],[0.1111111111111111,\"#46039f\"],[0.2222222222222222,\"#7201a8\"],[0.3333333333333333,\"#9c179e\"],[0.4444444444444444,\"#bd3786\"],[0.5555555555555556,\"#d8576b\"],[0.6666666666666666,\"#ed7953\"],[0.7777777777777778,\"#fb9f3a\"],[0.8888888888888888,\"#fdca26\"],[1.0,\"#f0f921\"]],\"type\":\"heatmap\"}],\"heatmapgl\":[{\"colorbar\":{\"outlinewidth\":0,\"ticks\":\"\"},\"colorscale\":[[0.0,\"#0d0887\"],[0.1111111111111111,\"#46039f\"],[0.2222222222222222,\"#7201a8\"],[0.3333333333333333,\"#9c179e\"],[0.4444444444444444,\"#bd3786\"],[0.5555555555555556,\"#d8576b\"],[0.6666666666666666,\"#ed7953\"],[0.7777777777777778,\"#fb9f3a\"],[0.8888888888888888,\"#fdca26\"],[1.0,\"#f0f921\"]],\"type\":\"heatmapgl\"}],\"histogram\":[{\"marker\":{\"pattern\":{\"fillmode\":\"overlay\",\"size\":10,\"solidity\":0.2}},\"type\":\"histogram\"}],\"histogram2d\":[{\"colorbar\":{\"outlinewidth\":0,\"ticks\":\"\"},\"colorscale\":[[0.0,\"#0d0887\"],[0.1111111111111111,\"#46039f\"],[0.2222222222222222,\"#7201a8\"],[0.3333333333333333,\"#9c179e\"],[0.4444444444444444,\"#bd3786\"],[0.5555555555555556,\"#d8576b\"],[0.6666666666666666,\"#ed7953\"],[0.7777777777777778,\"#fb9f3a\"],[0.8888888888888888,\"#fdca26\"],[1.0,\"#f0f921\"]],\"type\":\"histogram2d\"}],\"histogram2dcontour\":[{\"colorbar\":{\"outlinewidth\":0,\"ticks\":\"\"},\"colorscale\":[[0.0,\"#0d0887\"],[0.1111111111111111,\"#46039f\"],[0.2222222222222222,\"#7201a8\"],[0.3333333333333333,\"#9c179e\"],[0.4444444444444444,\"#bd3786\"],[0.5555555555555556,\"#d8576b\"],[0.6666666666666666,\"#ed7953\"],[0.7777777777777778,\"#fb9f3a\"],[0.8888888888888888,\"#fdca26\"],[1.0,\"#f0f921\"]],\"type\":\"histogram2dcontour\"}],\"mesh3d\":[{\"colorbar\":{\"outlinewidth\":0,\"ticks\":\"\"},\"type\":\"mesh3d\"}],\"parcoords\":[{\"line\":{\"colorbar\":{\"outlinewidth\":0,\"ticks\":\"\"}},\"type\":\"parcoords\"}],\"pie\":[{\"automargin\":true,\"type\":\"pie\"}],\"scatter\":[{\"marker\":{\"colorbar\":{\"outlinewidth\":0,\"ticks\":\"\"}},\"type\":\"scatter\"}],\"scatter3d\":[{\"line\":{\"colorbar\":{\"outlinewidth\":0,\"ticks\":\"\"}},\"marker\":{\"colorbar\":{\"outlinewidth\":0,\"ticks\":\"\"}},\"type\":\"scatter3d\"}],\"scattercarpet\":[{\"marker\":{\"colorbar\":{\"outlinewidth\":0,\"ticks\":\"\"}},\"type\":\"scattercarpet\"}],\"scattergeo\":[{\"marker\":{\"colorbar\":{\"outlinewidth\":0,\"ticks\":\"\"}},\"type\":\"scattergeo\"}],\"scattergl\":[{\"marker\":{\"colorbar\":{\"outlinewidth\":0,\"ticks\":\"\"}},\"type\":\"scattergl\"}],\"scattermapbox\":[{\"marker\":{\"colorbar\":{\"outlinewidth\":0,\"ticks\":\"\"}},\"type\":\"scattermapbox\"}],\"scatterpolar\":[{\"marker\":{\"colorbar\":{\"outlinewidth\":0,\"ticks\":\"\"}},\"type\":\"scatterpolar\"}],\"scatterpolargl\":[{\"marker\":{\"colorbar\":{\"outlinewidth\":0,\"ticks\":\"\"}},\"type\":\"scatterpolargl\"}],\"scatterternary\":[{\"marker\":{\"colorbar\":{\"outlinewidth\":0,\"ticks\":\"\"}},\"type\":\"scatterternary\"}],\"surface\":[{\"colorbar\":{\"outlinewidth\":0,\"ticks\":\"\"},\"colorscale\":[[0.0,\"#0d0887\"],[0.1111111111111111,\"#46039f\"],[0.2222222222222222,\"#7201a8\"],[0.3333333333333333,\"#9c179e\"],[0.4444444444444444,\"#bd3786\"],[0.5555555555555556,\"#d8576b\"],[0.6666666666666666,\"#ed7953\"],[0.7777777777777778,\"#fb9f3a\"],[0.8888888888888888,\"#fdca26\"],[1.0,\"#f0f921\"]],\"type\":\"surface\"}],\"table\":[{\"cells\":{\"fill\":{\"color\":\"#EBF0F8\"},\"line\":{\"color\":\"white\"}},\"header\":{\"fill\":{\"color\":\"#C8D4E3\"},\"line\":{\"color\":\"white\"}},\"type\":\"table\"}]},\"layout\":{\"annotationdefaults\":{\"arrowcolor\":\"#2a3f5f\",\"arrowhead\":0,\"arrowwidth\":1},\"autotypenumbers\":\"strict\",\"coloraxis\":{\"colorbar\":{\"outlinewidth\":0,\"ticks\":\"\"}},\"colorscale\":{\"diverging\":[[0,\"#8e0152\"],[0.1,\"#c51b7d\"],[0.2,\"#de77ae\"],[0.3,\"#f1b6da\"],[0.4,\"#fde0ef\"],[0.5,\"#f7f7f7\"],[0.6,\"#e6f5d0\"],[0.7,\"#b8e186\"],[0.8,\"#7fbc41\"],[0.9,\"#4d9221\"],[1,\"#276419\"]],\"sequential\":[[0.0,\"#0d0887\"],[0.1111111111111111,\"#46039f\"],[0.2222222222222222,\"#7201a8\"],[0.3333333333333333,\"#9c179e\"],[0.4444444444444444,\"#bd3786\"],[0.5555555555555556,\"#d8576b\"],[0.6666666666666666,\"#ed7953\"],[0.7777777777777778,\"#fb9f3a\"],[0.8888888888888888,\"#fdca26\"],[1.0,\"#f0f921\"]],\"sequentialminus\":[[0.0,\"#0d0887\"],[0.1111111111111111,\"#46039f\"],[0.2222222222222222,\"#7201a8\"],[0.3333333333333333,\"#9c179e\"],[0.4444444444444444,\"#bd3786\"],[0.5555555555555556,\"#d8576b\"],[0.6666666666666666,\"#ed7953\"],[0.7777777777777778,\"#fb9f3a\"],[0.8888888888888888,\"#fdca26\"],[1.0,\"#f0f921\"]]},\"colorway\":[\"#636efa\",\"#EF553B\",\"#00cc96\",\"#ab63fa\",\"#FFA15A\",\"#19d3f3\",\"#FF6692\",\"#B6E880\",\"#FF97FF\",\"#FECB52\"],\"font\":{\"color\":\"#2a3f5f\"},\"geo\":{\"bgcolor\":\"white\",\"lakecolor\":\"white\",\"landcolor\":\"#E5ECF6\",\"showlakes\":true,\"showland\":true,\"subunitcolor\":\"white\"},\"hoverlabel\":{\"align\":\"left\"},\"hovermode\":\"closest\",\"mapbox\":{\"style\":\"light\"},\"paper_bgcolor\":\"white\",\"plot_bgcolor\":\"#E5ECF6\",\"polar\":{\"angularaxis\":{\"gridcolor\":\"white\",\"linecolor\":\"white\",\"ticks\":\"\"},\"bgcolor\":\"#E5ECF6\",\"radialaxis\":{\"gridcolor\":\"white\",\"linecolor\":\"white\",\"ticks\":\"\"}},\"scene\":{\"xaxis\":{\"backgroundcolor\":\"#E5ECF6\",\"gridcolor\":\"white\",\"gridwidth\":2,\"linecolor\":\"white\",\"showbackground\":true,\"ticks\":\"\",\"zerolinecolor\":\"white\"},\"yaxis\":{\"backgroundcolor\":\"#E5ECF6\",\"gridcolor\":\"white\",\"gridwidth\":2,\"linecolor\":\"white\",\"showbackground\":true,\"ticks\":\"\",\"zerolinecolor\":\"white\"},\"zaxis\":{\"backgroundcolor\":\"#E5ECF6\",\"gridcolor\":\"white\",\"gridwidth\":2,\"linecolor\":\"white\",\"showbackground\":true,\"ticks\":\"\",\"zerolinecolor\":\"white\"}},\"shapedefaults\":{\"line\":{\"color\":\"#2a3f5f\"}},\"ternary\":{\"aaxis\":{\"gridcolor\":\"white\",\"linecolor\":\"white\",\"ticks\":\"\"},\"baxis\":{\"gridcolor\":\"white\",\"linecolor\":\"white\",\"ticks\":\"\"},\"bgcolor\":\"#E5ECF6\",\"caxis\":{\"gridcolor\":\"white\",\"linecolor\":\"white\",\"ticks\":\"\"}},\"title\":{\"x\":0.05},\"xaxis\":{\"automargin\":true,\"gridcolor\":\"white\",\"linecolor\":\"white\",\"ticks\":\"\",\"title\":{\"standoff\":15},\"zerolinecolor\":\"white\",\"zerolinewidth\":2},\"yaxis\":{\"automargin\":true,\"gridcolor\":\"white\",\"linecolor\":\"white\",\"ticks\":\"\",\"title\":{\"standoff\":15},\"zerolinecolor\":\"white\",\"zerolinewidth\":2}}},\"xaxis\":{\"anchor\":\"y\",\"domain\":[0.0,1.0],\"title\":{\"text\":\"x\"}},\"yaxis\":{\"anchor\":\"x\",\"domain\":[0.0,1.0],\"title\":{\"text\":\"y\"}},\"legend\":{\"tracegroupgap\":0},\"margin\":{\"t\":60},\"barmode\":\"relative\",\"height\":400,\"width\":550,\"title\":{\"text\":\"Propor\\u00e7\\u00e3o da classe Churn\",\"x\":0.5,\"xanchor\":\"center\"}},                        {\"responsive\": true}                    ).then(function(){\n",
              "                            \n",
              "var gd = document.getElementById('374ccc5a-5cc4-4f66-ae46-cfb0d72764ec');\n",
              "var x = new MutationObserver(function (mutations, observer) {{\n",
              "        var display = window.getComputedStyle(gd).display;\n",
              "        if (!display || display === 'none') {{\n",
              "            console.log([gd, 'removed!']);\n",
              "            Plotly.purge(gd);\n",
              "            observer.disconnect();\n",
              "        }}\n",
              "}});\n",
              "\n",
              "// Listen for the removal of the full notebook cells\n",
              "var notebookContainer = gd.closest('#notebook-container');\n",
              "if (notebookContainer) {{\n",
              "    x.observe(notebookContainer, {childList: true});\n",
              "}}\n",
              "\n",
              "// Listen for the clearing of the current output cell\n",
              "var outputEl = gd.closest('.output');\n",
              "if (outputEl) {{\n",
              "    x.observe(outputEl, {childList: true});\n",
              "}}\n",
              "\n",
              "                        })                };                            </script>        </div>\n",
              "</body>\n",
              "</html>"
            ]
          },
          "metadata": {}
        }
      ]
    },
    {
      "cell_type": "markdown",
      "source": [
        "### Dividindo e filtrando os dados"
      ],
      "metadata": {
        "id": "ngPvqBJXYNwD"
      }
    },
    {
      "cell_type": "code",
      "source": [
        "y = df['flag_vendeu']\n",
        "df = df.iloc[:,:19].copy()\n",
        "df['flag_vendeu'] = y"
      ],
      "metadata": {
        "id": "-QWU-1Ix6abV"
      },
      "execution_count": null,
      "outputs": []
    },
    {
      "cell_type": "code",
      "source": [
        "df.head()"
      ],
      "metadata": {
        "colab": {
          "base_uri": "https://localhost:8080/"
        },
        "id": "u7oo6oi763fG",
        "outputId": "c000216c-b5de-419f-fa55-b8d867970bb1"
      },
      "execution_count": null,
      "outputs": [
        {
          "output_type": "execute_result",
          "data": {
            "text/plain": [
              "   avg_review_score  idade_base_dias  qtde_dias_utl_venda  qtde_mes_ativacao  \\\n",
              "0          3.903382       182.563808                    0                  4   \n",
              "1          4.549618       182.425648                    0                  4   \n",
              "2          4.008929        86.593611                    0                  4   \n",
              "3          4.030000       180.867674                    0                  4   \n",
              "4          3.405405        68.045023                    0                  4   \n",
              "\n",
              "   prop_ativacao  prop_atraso  avg_tempo_entrega_est  receita_total  \\\n",
              "0       0.666667            0                     34       16494.76   \n",
              "1       0.666667            0                     30       24525.30   \n",
              "2       1.333333            0                     26       10722.40   \n",
              "3       0.666667            0                     26        2351.47   \n",
              "4       1.333333            0                     32       14786.63   \n",
              "\n",
              "   avg_vl_venda  avg_vl_venda_mes_ativado  qtde_vendas  qtde_produto_dst  \\\n",
              "0     98.771018                 4123.6900          167               123   \n",
              "1    201.027049                 6131.3250          122                28   \n",
              "2    107.224000                 2680.6000          100                46   \n",
              "3     26.127444                  587.8675           90                51   \n",
              "4    166.141910                 3696.6575           89                50   \n",
              "\n",
              "   avg_vl_produto  avg_qtde_produto_venda  flag_vendeu  \n",
              "0       79.684831                       1            1  \n",
              "1      187.216031                       1            1  \n",
              "2       95.735714                       1            1  \n",
              "3       23.514700                       1            1  \n",
              "4      133.212883                       1            1  "
            ],
            "text/html": [
              "\n",
              "  <div id=\"df-f04c4bb5-5d9e-4221-adab-af2862629a8f\">\n",
              "    <div class=\"colab-df-container\">\n",
              "      <div>\n",
              "<style scoped>\n",
              "    .dataframe tbody tr th:only-of-type {\n",
              "        vertical-align: middle;\n",
              "    }\n",
              "\n",
              "    .dataframe tbody tr th {\n",
              "        vertical-align: top;\n",
              "    }\n",
              "\n",
              "    .dataframe thead th {\n",
              "        text-align: right;\n",
              "    }\n",
              "</style>\n",
              "<table border=\"1\" class=\"dataframe\">\n",
              "  <thead>\n",
              "    <tr style=\"text-align: right;\">\n",
              "      <th></th>\n",
              "      <th>avg_review_score</th>\n",
              "      <th>idade_base_dias</th>\n",
              "      <th>qtde_dias_utl_venda</th>\n",
              "      <th>qtde_mes_ativacao</th>\n",
              "      <th>prop_ativacao</th>\n",
              "      <th>prop_atraso</th>\n",
              "      <th>avg_tempo_entrega_est</th>\n",
              "      <th>receita_total</th>\n",
              "      <th>avg_vl_venda</th>\n",
              "      <th>avg_vl_venda_mes_ativado</th>\n",
              "      <th>qtde_vendas</th>\n",
              "      <th>qtde_produto_dst</th>\n",
              "      <th>avg_vl_produto</th>\n",
              "      <th>avg_qtde_produto_venda</th>\n",
              "      <th>flag_vendeu</th>\n",
              "    </tr>\n",
              "  </thead>\n",
              "  <tbody>\n",
              "    <tr>\n",
              "      <th>0</th>\n",
              "      <td>3.903382</td>\n",
              "      <td>182.563808</td>\n",
              "      <td>0</td>\n",
              "      <td>4</td>\n",
              "      <td>0.666667</td>\n",
              "      <td>0</td>\n",
              "      <td>34</td>\n",
              "      <td>16494.76</td>\n",
              "      <td>98.771018</td>\n",
              "      <td>4123.6900</td>\n",
              "      <td>167</td>\n",
              "      <td>123</td>\n",
              "      <td>79.684831</td>\n",
              "      <td>1</td>\n",
              "      <td>1</td>\n",
              "    </tr>\n",
              "    <tr>\n",
              "      <th>1</th>\n",
              "      <td>4.549618</td>\n",
              "      <td>182.425648</td>\n",
              "      <td>0</td>\n",
              "      <td>4</td>\n",
              "      <td>0.666667</td>\n",
              "      <td>0</td>\n",
              "      <td>30</td>\n",
              "      <td>24525.30</td>\n",
              "      <td>201.027049</td>\n",
              "      <td>6131.3250</td>\n",
              "      <td>122</td>\n",
              "      <td>28</td>\n",
              "      <td>187.216031</td>\n",
              "      <td>1</td>\n",
              "      <td>1</td>\n",
              "    </tr>\n",
              "    <tr>\n",
              "      <th>2</th>\n",
              "      <td>4.008929</td>\n",
              "      <td>86.593611</td>\n",
              "      <td>0</td>\n",
              "      <td>4</td>\n",
              "      <td>1.333333</td>\n",
              "      <td>0</td>\n",
              "      <td>26</td>\n",
              "      <td>10722.40</td>\n",
              "      <td>107.224000</td>\n",
              "      <td>2680.6000</td>\n",
              "      <td>100</td>\n",
              "      <td>46</td>\n",
              "      <td>95.735714</td>\n",
              "      <td>1</td>\n",
              "      <td>1</td>\n",
              "    </tr>\n",
              "    <tr>\n",
              "      <th>3</th>\n",
              "      <td>4.030000</td>\n",
              "      <td>180.867674</td>\n",
              "      <td>0</td>\n",
              "      <td>4</td>\n",
              "      <td>0.666667</td>\n",
              "      <td>0</td>\n",
              "      <td>26</td>\n",
              "      <td>2351.47</td>\n",
              "      <td>26.127444</td>\n",
              "      <td>587.8675</td>\n",
              "      <td>90</td>\n",
              "      <td>51</td>\n",
              "      <td>23.514700</td>\n",
              "      <td>1</td>\n",
              "      <td>1</td>\n",
              "    </tr>\n",
              "    <tr>\n",
              "      <th>4</th>\n",
              "      <td>3.405405</td>\n",
              "      <td>68.045023</td>\n",
              "      <td>0</td>\n",
              "      <td>4</td>\n",
              "      <td>1.333333</td>\n",
              "      <td>0</td>\n",
              "      <td>32</td>\n",
              "      <td>14786.63</td>\n",
              "      <td>166.141910</td>\n",
              "      <td>3696.6575</td>\n",
              "      <td>89</td>\n",
              "      <td>50</td>\n",
              "      <td>133.212883</td>\n",
              "      <td>1</td>\n",
              "      <td>1</td>\n",
              "    </tr>\n",
              "  </tbody>\n",
              "</table>\n",
              "</div>\n",
              "      <button class=\"colab-df-convert\" onclick=\"convertToInteractive('df-f04c4bb5-5d9e-4221-adab-af2862629a8f')\"\n",
              "              title=\"Convert this dataframe to an interactive table.\"\n",
              "              style=\"display:none;\">\n",
              "        \n",
              "  <svg xmlns=\"http://www.w3.org/2000/svg\" height=\"24px\"viewBox=\"0 0 24 24\"\n",
              "       width=\"24px\">\n",
              "    <path d=\"M0 0h24v24H0V0z\" fill=\"none\"/>\n",
              "    <path d=\"M18.56 5.44l.94 2.06.94-2.06 2.06-.94-2.06-.94-.94-2.06-.94 2.06-2.06.94zm-11 1L8.5 8.5l.94-2.06 2.06-.94-2.06-.94L8.5 2.5l-.94 2.06-2.06.94zm10 10l.94 2.06.94-2.06 2.06-.94-2.06-.94-.94-2.06-.94 2.06-2.06.94z\"/><path d=\"M17.41 7.96l-1.37-1.37c-.4-.4-.92-.59-1.43-.59-.52 0-1.04.2-1.43.59L10.3 9.45l-7.72 7.72c-.78.78-.78 2.05 0 2.83L4 21.41c.39.39.9.59 1.41.59.51 0 1.02-.2 1.41-.59l7.78-7.78 2.81-2.81c.8-.78.8-2.07 0-2.86zM5.41 20L4 18.59l7.72-7.72 1.47 1.35L5.41 20z\"/>\n",
              "  </svg>\n",
              "      </button>\n",
              "      \n",
              "  <style>\n",
              "    .colab-df-container {\n",
              "      display:flex;\n",
              "      flex-wrap:wrap;\n",
              "      gap: 12px;\n",
              "    }\n",
              "\n",
              "    .colab-df-convert {\n",
              "      background-color: #E8F0FE;\n",
              "      border: none;\n",
              "      border-radius: 50%;\n",
              "      cursor: pointer;\n",
              "      display: none;\n",
              "      fill: #1967D2;\n",
              "      height: 32px;\n",
              "      padding: 0 0 0 0;\n",
              "      width: 32px;\n",
              "    }\n",
              "\n",
              "    .colab-df-convert:hover {\n",
              "      background-color: #E2EBFA;\n",
              "      box-shadow: 0px 1px 2px rgba(60, 64, 67, 0.3), 0px 1px 3px 1px rgba(60, 64, 67, 0.15);\n",
              "      fill: #174EA6;\n",
              "    }\n",
              "\n",
              "    [theme=dark] .colab-df-convert {\n",
              "      background-color: #3B4455;\n",
              "      fill: #D2E3FC;\n",
              "    }\n",
              "\n",
              "    [theme=dark] .colab-df-convert:hover {\n",
              "      background-color: #434B5C;\n",
              "      box-shadow: 0px 1px 3px 1px rgba(0, 0, 0, 0.15);\n",
              "      filter: drop-shadow(0px 1px 2px rgba(0, 0, 0, 0.3));\n",
              "      fill: #FFFFFF;\n",
              "    }\n",
              "  </style>\n",
              "\n",
              "      <script>\n",
              "        const buttonEl =\n",
              "          document.querySelector('#df-f04c4bb5-5d9e-4221-adab-af2862629a8f button.colab-df-convert');\n",
              "        buttonEl.style.display =\n",
              "          google.colab.kernel.accessAllowed ? 'block' : 'none';\n",
              "\n",
              "        async function convertToInteractive(key) {\n",
              "          const element = document.querySelector('#df-f04c4bb5-5d9e-4221-adab-af2862629a8f');\n",
              "          const dataTable =\n",
              "            await google.colab.kernel.invokeFunction('convertToInteractive',\n",
              "                                                     [key], {});\n",
              "          if (!dataTable) return;\n",
              "\n",
              "          const docLinkHtml = 'Like what you see? Visit the ' +\n",
              "            '<a target=\"_blank\" href=https://colab.research.google.com/notebooks/data_table.ipynb>data table notebook</a>'\n",
              "            + ' to learn more about interactive tables.';\n",
              "          element.innerHTML = '';\n",
              "          dataTable['output_type'] = 'display_data';\n",
              "          await google.colab.output.renderOutput(dataTable, element);\n",
              "          const docLink = document.createElement('div');\n",
              "          docLink.innerHTML = docLinkHtml;\n",
              "          element.appendChild(docLink);\n",
              "        }\n",
              "      </script>\n",
              "    </div>\n",
              "  </div>\n",
              "  "
            ]
          },
          "metadata": {},
          "execution_count": 17
        }
      ]
    },
    {
      "cell_type": "code",
      "source": [
        "# Divisão dos dados em treino e teste\n",
        "#X =  df.iloc[:,:-1]\n",
        "#Y = df.iloc[:,-1]\n",
        "X = df.iloc[:,:-1]\n",
        "Y = df['flag_vendeu']\n",
        "X_train, X_test, y_train, y_test = train_test_split(X,Y,\n",
        "                                                   test_size=0.3,\n",
        "                                                   random_state=seed,\n",
        "                                                   stratify=df['flag_vendeu'])"
      ],
      "metadata": {
        "id": "lZpclPDkMqXF"
      },
      "execution_count": null,
      "outputs": []
    },
    {
      "cell_type": "code",
      "source": [
        "X_train.shape, X_test.shape"
      ],
      "metadata": {
        "colab": {
          "base_uri": "https://localhost:8080/"
        },
        "id": "ylGSYrgXNSs0",
        "outputId": "d79e0580-96bf-4051-d78d-24f910b327f0"
      },
      "execution_count": null,
      "outputs": [
        {
          "output_type": "execute_result",
          "data": {
            "text/plain": [
              "((4056, 14), (1739, 14))"
            ]
          },
          "metadata": {},
          "execution_count": 19
        }
      ]
    },
    {
      "cell_type": "code",
      "source": [
        "# Função que recebe o df, padroniza-o e retorna as características mais relevantes por meio de Permutação.\n",
        "def relevance(data, flag):\n",
        "  # Selecionando as colunas\n",
        "  feature_names = data.columns.tolist()\n",
        "  feature_names.remove(flag)\n",
        "  X = data[feature_names]\n",
        "  y = data[flag]\n",
        "\n",
        "  # Padronizando os dados para permutação\n",
        "  scaler = StandardScaler().fit(X)\n",
        "  X = scaler.transform(X)\n",
        "  \n",
        "  # Separando os dados\n",
        "  X_train, X_test, y_train, y_test = train_test_split(X, y , stratify=y, random_state=seed)\n",
        "\n",
        "  # Instanciando e treinando o modelo\n",
        "  forest = RandomForestClassifier(random_state=seed)\n",
        "  forest.fit(X_train, y_train)\n",
        "\n",
        "  # Calculando a importância e o Desvio Padrão de cada característica e transformando num objeto Series do pandas\n",
        "  result = permutation_importance(forest, X_test, y_test, n_repeats=10, random_state=seed, n_jobs=2)\n",
        "  forest_importances = pd.Series(result.importances_mean, index=feature_names)\n",
        "  forest_importances = forest_importances[forest_importances > 0]\n",
        "  forest_importances.sort_values(ascending=False,inplace=True)\n",
        "  std = result.importances_std\n",
        "\n",
        "  # Criando o Gráfico das informações e retornando tanto o gráfico quanto as colunas\n",
        "  fig = px.bar(forest_importances, error_y=None, width=800, height=450, text_auto='.2s')\n",
        "  fig.update_layout(title={\"text\":\"Importância das Características dos Produtos\", \"x\":0.5},showlegend=False)\n",
        "  return fig, forest_importances.index"
      ],
      "metadata": {
        "id": "XH_JHIx-MqZN"
      },
      "execution_count": null,
      "outputs": []
    },
    {
      "cell_type": "code",
      "source": [
        "graf_import, cols_imp = relevance(df, flag='flag_vendeu')"
      ],
      "metadata": {
        "id": "d6B6NYLjMqc4"
      },
      "execution_count": null,
      "outputs": []
    },
    {
      "cell_type": "code",
      "source": [
        "# Criando um dataframe filtrado para comparação de desempenho dos modelos\n",
        "X_train_f = X_train[cols_imp]\n",
        "X_test_f = X_test[cols_imp]"
      ],
      "metadata": {
        "id": "nLJnHlduclK6"
      },
      "execution_count": null,
      "outputs": []
    },
    {
      "cell_type": "markdown",
      "source": [
        "### Criando as funções para instanciar e treinar os modelos"
      ],
      "metadata": {
        "id": "4cDZOHsRmlFw"
      }
    },
    {
      "cell_type": "code",
      "source": [
        "# Step models para o Pipeline\n",
        "def GetBasedModel():\n",
        "    basedModels = []\n",
        "    basedModels.append(('LR'   , LogisticRegression()))\n",
        "    basedModels.append(('KNN'  , KNeighborsClassifier()))\n",
        "    basedModels.append(('NB'   , GaussianNB()))\n",
        "    basedModels.append(('AB'   , AdaBoostClassifier()))\n",
        "    basedModels.append(('GBM'  , GradientBoostingClassifier()))\n",
        "    basedModels.append(('RF'   , RandomForestClassifier()))\n",
        "    basedModels.append(('ET'   , ExtraTreesClassifier()))\n",
        "\n",
        "    return basedModels"
      ],
      "metadata": {
        "id": "KYE_dB6YR16i"
      },
      "execution_count": null,
      "outputs": []
    },
    {
      "cell_type": "code",
      "source": [
        "# BasedLine dos modelos\n",
        "def BasedLine2(X_train, y_train,models,obs):\n",
        "    # Parâmetros e Métricas\n",
        "    num_folds = 10\n",
        "    scoring = 'roc_auc'\n",
        "\n",
        "    results = []\n",
        "    names = []\n",
        "    dict_models = {'Models':[],'AUC':[],'Std':[]}\n",
        "    for name, model in models:\n",
        "        kfold = StratifiedKFold(n_splits=num_folds, shuffle=True)\n",
        "        cv_results = cross_val_score(model, X_train, y_train, cv=kfold, scoring=scoring)\n",
        "        results.append(cv_results)\n",
        "        names.append(name)\n",
        "        dict_models['Models'].append(name+obs)\n",
        "        dict_models['AUC'].append(cv_results.mean())\n",
        "        dict_models['Std'].append(cv_results.std())\n",
        "        \n",
        "    return names, results, dict_models"
      ],
      "metadata": {
        "id": "UW6K86rCYLV3"
      },
      "execution_count": null,
      "outputs": []
    },
    {
      "cell_type": "code",
      "source": [
        "# Plotagem da distribuição do desempenho\n",
        "class PlotBoxR(object):\n",
        "    # Calcula o boxplot para o modelo selecionado\n",
        "    def __Trace(self,nameOfFeature,value): \n",
        "        trace = go.Box(\n",
        "            y=value,\n",
        "            name = nameOfFeature,\n",
        "            marker = dict(color = 'rgb(0, 128, 128)',)\n",
        "        )\n",
        "        return trace\n",
        "\n",
        "    # Envia cada uma dos modelos para a função acima e retorna o conjunto com os boxplots\n",
        "    def PlotResult(self,names,results):\n",
        "        data = []\n",
        "        for i in range(len(names)):\n",
        "            data.append(self.__Trace(names[i],results[i]))\n",
        "        py.iplot(data)"
      ],
      "metadata": {
        "id": "baG4J76wYcCt"
      },
      "execution_count": null,
      "outputs": []
    },
    {
      "cell_type": "code",
      "source": [
        "# Converte os dados de desempenho dos modelos num DataFrame pandas\n",
        "def ScoreDataFrame(names,results):\n",
        "    def floatingDecimals(f_val, dec=6):\n",
        "        prc = \"{:.\"+str(dec)+\"f}\" \n",
        "        return float(prc.format(f_val))\n",
        "\n",
        "    scores = []\n",
        "    for r in results:\n",
        "        scores.append(floatingDecimals(r.mean()))\n",
        "\n",
        "    scoreDataFrame = pd.DataFrame({'Model':names, 'AUC': scores})\n",
        "    return scoreDataFrame"
      ],
      "metadata": {
        "id": "nBoCltijZwRM"
      },
      "execution_count": null,
      "outputs": []
    },
    {
      "cell_type": "code",
      "source": [
        "# Seleciona o tipo de padronização desejada e retorna um step para o Pipe\n",
        "def GetScaledModel(nameOfScaler):\n",
        "    if nameOfScaler == 'standard':\n",
        "        scaler = StandardScaler()\n",
        "    elif nameOfScaler =='minmax':\n",
        "        scaler = MinMaxScaler()\n",
        "\n",
        "    pipelines = []\n",
        "    pipelines.append(('LR'  , Pipeline([('Scaler', scaler),('LR'  , LogisticRegression())])))\n",
        "    pipelines.append(('KNN' , Pipeline([('Scaler', scaler),('KNN' , KNeighborsClassifier())])))\n",
        "    pipelines.append(('NB'  , Pipeline([('Scaler', scaler),('NB'  , GaussianNB())])))\n",
        "    pipelines.append(('AB'  , Pipeline([('Scaler', scaler),('AB'  , AdaBoostClassifier())])  ))\n",
        "    pipelines.append(('GBM' , Pipeline([('Scaler', scaler),('GMB' , GradientBoostingClassifier())])  ))\n",
        "    pipelines.append(('RF'  , Pipeline([('Scaler', scaler),('RF'  , RandomForestClassifier())])  ))\n",
        "    pipelines.append(('ET'  , Pipeline([('Scaler', scaler),('ET'  , ExtraTreesClassifier())])  ))\n",
        "\n",
        "    return pipelines "
      ],
      "metadata": {
        "id": "riOhIMTmaFZ2"
      },
      "execution_count": null,
      "outputs": []
    },
    {
      "cell_type": "markdown",
      "source": [
        "### Instanciando e treinando os modelos para os dados completos (21 características)"
      ],
      "metadata": {
        "id": "70zzrR0KdS4y"
      }
    },
    {
      "cell_type": "code",
      "source": [
        "# Treinando os modelos com os dados originais\n",
        "models = GetBasedModel()\n",
        "names, results, dict_model = BasedLine2(X_train, y_train,models,'_BasedLine')\n",
        "PlotBoxR().PlotResult(names,results)"
      ],
      "metadata": {
        "id": "7I3UjvhbR1_a",
        "colab": {
          "base_uri": "https://localhost:8080/",
          "height": 542
        },
        "outputId": "0bd48aa9-d60a-48bf-c241-5b1a001a0fbf"
      },
      "execution_count": null,
      "outputs": [
        {
          "output_type": "display_data",
          "data": {
            "text/html": [
              "<html>\n",
              "<head><meta charset=\"utf-8\" /></head>\n",
              "<body>\n",
              "    <div>            <script src=\"https://cdnjs.cloudflare.com/ajax/libs/mathjax/2.7.5/MathJax.js?config=TeX-AMS-MML_SVG\"></script><script type=\"text/javascript\">if (window.MathJax) {MathJax.Hub.Config({SVG: {font: \"STIX-Web\"}});}</script>                <script type=\"text/javascript\">window.PlotlyConfig = {MathJaxConfig: 'local'};</script>\n",
              "        <script src=\"https://cdn.plot.ly/plotly-2.8.3.min.js\"></script>                <div id=\"93c9d4a3-9b2a-478e-92f5-67d395b660a2\" class=\"plotly-graph-div\" style=\"height:525px; width:100%;\"></div>            <script type=\"text/javascript\">                                    window.PLOTLYENV=window.PLOTLYENV || {};                                    if (document.getElementById(\"93c9d4a3-9b2a-478e-92f5-67d395b660a2\")) {                    Plotly.newPlot(                        \"93c9d4a3-9b2a-478e-92f5-67d395b660a2\",                        [{\"marker\":{\"color\":\"rgb(0, 128, 128)\"},\"name\":\"LR\",\"y\":[0.8416773965512889,0.8134514882981141,0.8062561539044156,0.8283218460450907,0.823701683960716,0.8036052412330532,0.7742483395021043,0.817736117461769,0.8137733069145963,0.816796220088401],\"type\":\"box\"},{\"marker\":{\"color\":\"rgb(0, 128, 128)\"},\"name\":\"KNN\",\"y\":[0.776982503976369,0.7627559393067231,0.7267161503698655,0.698995177863617,0.7247973945315458,0.7363856699235023,0.7869745981848604,0.718043489305492,0.7601356500533455,0.7728750698572372],\"type\":\"box\"},{\"marker\":{\"color\":\"rgb(0, 128, 128)\"},\"name\":\"NB\",\"y\":[0.8261253755459618,0.8078088313262137,0.7788760130273422,0.7846196571486277,0.827513948850009,0.7973945315458608,0.7919434163159762,0.7797337804196515,0.790186963369405,0.8054158410811361],\"type\":\"box\"},{\"marker\":{\"color\":\"rgb(0, 128, 128)\"},\"name\":\"AB\",\"y\":[0.7895554040748315,0.8132495139993436,0.8266555580802343,0.8171122724633291,0.8711656441717791,0.7908429902294933,0.7937053186634893,0.7904028857389624,0.7872529594065946,0.774475435655134],\"type\":\"box\"},{\"marker\":{\"color\":\"rgb(0, 128, 128)\"},\"name\":\"GBM\",\"y\":[0.8350627382665556,0.8312504733772627,0.7877755055669166,0.8066979726829762,0.8376884041505719,0.8351511020222677,0.8312376413324545,0.7859066199258243,0.7899583396839913,0.8042981252857796],\"type\":\"box\"},{\"marker\":{\"color\":\"rgb(0, 128, 128)\"},\"name\":\"RF\",\"y\":[0.791145951677649,0.8132242672119974,0.787396803756722,0.8075942336337701,0.8119997980257012,0.7981266883789038,0.7936926431070324,0.7923969923284052,0.7915714067977442,0.8176472082507749],\"type\":\"box\"},{\"marker\":{\"color\":\"rgb(0, 128, 128)\"},\"name\":\"ET\",\"y\":[0.8167461940468074,0.8143856194299276,0.7630715241485522,0.7921053295968088,0.8441515817112272,0.8060036860309525,0.7606347918673629,0.7786033633084388,0.8022786160646244,0.8051110095005843],\"type\":\"box\"}],                        {\"template\":{\"data\":{\"barpolar\":[{\"marker\":{\"line\":{\"color\":\"#E5ECF6\",\"width\":0.5},\"pattern\":{\"fillmode\":\"overlay\",\"size\":10,\"solidity\":0.2}},\"type\":\"barpolar\"}],\"bar\":[{\"error_x\":{\"color\":\"#2a3f5f\"},\"error_y\":{\"color\":\"#2a3f5f\"},\"marker\":{\"line\":{\"color\":\"#E5ECF6\",\"width\":0.5},\"pattern\":{\"fillmode\":\"overlay\",\"size\":10,\"solidity\":0.2}},\"type\":\"bar\"}],\"carpet\":[{\"aaxis\":{\"endlinecolor\":\"#2a3f5f\",\"gridcolor\":\"white\",\"linecolor\":\"white\",\"minorgridcolor\":\"white\",\"startlinecolor\":\"#2a3f5f\"},\"baxis\":{\"endlinecolor\":\"#2a3f5f\",\"gridcolor\":\"white\",\"linecolor\":\"white\",\"minorgridcolor\":\"white\",\"startlinecolor\":\"#2a3f5f\"},\"type\":\"carpet\"}],\"choropleth\":[{\"colorbar\":{\"outlinewidth\":0,\"ticks\":\"\"},\"type\":\"choropleth\"}],\"contourcarpet\":[{\"colorbar\":{\"outlinewidth\":0,\"ticks\":\"\"},\"type\":\"contourcarpet\"}],\"contour\":[{\"colorbar\":{\"outlinewidth\":0,\"ticks\":\"\"},\"colorscale\":[[0.0,\"#0d0887\"],[0.1111111111111111,\"#46039f\"],[0.2222222222222222,\"#7201a8\"],[0.3333333333333333,\"#9c179e\"],[0.4444444444444444,\"#bd3786\"],[0.5555555555555556,\"#d8576b\"],[0.6666666666666666,\"#ed7953\"],[0.7777777777777778,\"#fb9f3a\"],[0.8888888888888888,\"#fdca26\"],[1.0,\"#f0f921\"]],\"type\":\"contour\"}],\"heatmapgl\":[{\"colorbar\":{\"outlinewidth\":0,\"ticks\":\"\"},\"colorscale\":[[0.0,\"#0d0887\"],[0.1111111111111111,\"#46039f\"],[0.2222222222222222,\"#7201a8\"],[0.3333333333333333,\"#9c179e\"],[0.4444444444444444,\"#bd3786\"],[0.5555555555555556,\"#d8576b\"],[0.6666666666666666,\"#ed7953\"],[0.7777777777777778,\"#fb9f3a\"],[0.8888888888888888,\"#fdca26\"],[1.0,\"#f0f921\"]],\"type\":\"heatmapgl\"}],\"heatmap\":[{\"colorbar\":{\"outlinewidth\":0,\"ticks\":\"\"},\"colorscale\":[[0.0,\"#0d0887\"],[0.1111111111111111,\"#46039f\"],[0.2222222222222222,\"#7201a8\"],[0.3333333333333333,\"#9c179e\"],[0.4444444444444444,\"#bd3786\"],[0.5555555555555556,\"#d8576b\"],[0.6666666666666666,\"#ed7953\"],[0.7777777777777778,\"#fb9f3a\"],[0.8888888888888888,\"#fdca26\"],[1.0,\"#f0f921\"]],\"type\":\"heatmap\"}],\"histogram2dcontour\":[{\"colorbar\":{\"outlinewidth\":0,\"ticks\":\"\"},\"colorscale\":[[0.0,\"#0d0887\"],[0.1111111111111111,\"#46039f\"],[0.2222222222222222,\"#7201a8\"],[0.3333333333333333,\"#9c179e\"],[0.4444444444444444,\"#bd3786\"],[0.5555555555555556,\"#d8576b\"],[0.6666666666666666,\"#ed7953\"],[0.7777777777777778,\"#fb9f3a\"],[0.8888888888888888,\"#fdca26\"],[1.0,\"#f0f921\"]],\"type\":\"histogram2dcontour\"}],\"histogram2d\":[{\"colorbar\":{\"outlinewidth\":0,\"ticks\":\"\"},\"colorscale\":[[0.0,\"#0d0887\"],[0.1111111111111111,\"#46039f\"],[0.2222222222222222,\"#7201a8\"],[0.3333333333333333,\"#9c179e\"],[0.4444444444444444,\"#bd3786\"],[0.5555555555555556,\"#d8576b\"],[0.6666666666666666,\"#ed7953\"],[0.7777777777777778,\"#fb9f3a\"],[0.8888888888888888,\"#fdca26\"],[1.0,\"#f0f921\"]],\"type\":\"histogram2d\"}],\"histogram\":[{\"marker\":{\"pattern\":{\"fillmode\":\"overlay\",\"size\":10,\"solidity\":0.2}},\"type\":\"histogram\"}],\"mesh3d\":[{\"colorbar\":{\"outlinewidth\":0,\"ticks\":\"\"},\"type\":\"mesh3d\"}],\"parcoords\":[{\"line\":{\"colorbar\":{\"outlinewidth\":0,\"ticks\":\"\"}},\"type\":\"parcoords\"}],\"pie\":[{\"automargin\":true,\"type\":\"pie\"}],\"scatter3d\":[{\"line\":{\"colorbar\":{\"outlinewidth\":0,\"ticks\":\"\"}},\"marker\":{\"colorbar\":{\"outlinewidth\":0,\"ticks\":\"\"}},\"type\":\"scatter3d\"}],\"scattercarpet\":[{\"marker\":{\"colorbar\":{\"outlinewidth\":0,\"ticks\":\"\"}},\"type\":\"scattercarpet\"}],\"scattergeo\":[{\"marker\":{\"colorbar\":{\"outlinewidth\":0,\"ticks\":\"\"}},\"type\":\"scattergeo\"}],\"scattergl\":[{\"marker\":{\"colorbar\":{\"outlinewidth\":0,\"ticks\":\"\"}},\"type\":\"scattergl\"}],\"scattermapbox\":[{\"marker\":{\"colorbar\":{\"outlinewidth\":0,\"ticks\":\"\"}},\"type\":\"scattermapbox\"}],\"scatterpolargl\":[{\"marker\":{\"colorbar\":{\"outlinewidth\":0,\"ticks\":\"\"}},\"type\":\"scatterpolargl\"}],\"scatterpolar\":[{\"marker\":{\"colorbar\":{\"outlinewidth\":0,\"ticks\":\"\"}},\"type\":\"scatterpolar\"}],\"scatter\":[{\"marker\":{\"colorbar\":{\"outlinewidth\":0,\"ticks\":\"\"}},\"type\":\"scatter\"}],\"scatterternary\":[{\"marker\":{\"colorbar\":{\"outlinewidth\":0,\"ticks\":\"\"}},\"type\":\"scatterternary\"}],\"surface\":[{\"colorbar\":{\"outlinewidth\":0,\"ticks\":\"\"},\"colorscale\":[[0.0,\"#0d0887\"],[0.1111111111111111,\"#46039f\"],[0.2222222222222222,\"#7201a8\"],[0.3333333333333333,\"#9c179e\"],[0.4444444444444444,\"#bd3786\"],[0.5555555555555556,\"#d8576b\"],[0.6666666666666666,\"#ed7953\"],[0.7777777777777778,\"#fb9f3a\"],[0.8888888888888888,\"#fdca26\"],[1.0,\"#f0f921\"]],\"type\":\"surface\"}],\"table\":[{\"cells\":{\"fill\":{\"color\":\"#EBF0F8\"},\"line\":{\"color\":\"white\"}},\"header\":{\"fill\":{\"color\":\"#C8D4E3\"},\"line\":{\"color\":\"white\"}},\"type\":\"table\"}]},\"layout\":{\"annotationdefaults\":{\"arrowcolor\":\"#2a3f5f\",\"arrowhead\":0,\"arrowwidth\":1},\"autotypenumbers\":\"strict\",\"coloraxis\":{\"colorbar\":{\"outlinewidth\":0,\"ticks\":\"\"}},\"colorscale\":{\"diverging\":[[0,\"#8e0152\"],[0.1,\"#c51b7d\"],[0.2,\"#de77ae\"],[0.3,\"#f1b6da\"],[0.4,\"#fde0ef\"],[0.5,\"#f7f7f7\"],[0.6,\"#e6f5d0\"],[0.7,\"#b8e186\"],[0.8,\"#7fbc41\"],[0.9,\"#4d9221\"],[1,\"#276419\"]],\"sequential\":[[0.0,\"#0d0887\"],[0.1111111111111111,\"#46039f\"],[0.2222222222222222,\"#7201a8\"],[0.3333333333333333,\"#9c179e\"],[0.4444444444444444,\"#bd3786\"],[0.5555555555555556,\"#d8576b\"],[0.6666666666666666,\"#ed7953\"],[0.7777777777777778,\"#fb9f3a\"],[0.8888888888888888,\"#fdca26\"],[1.0,\"#f0f921\"]],\"sequentialminus\":[[0.0,\"#0d0887\"],[0.1111111111111111,\"#46039f\"],[0.2222222222222222,\"#7201a8\"],[0.3333333333333333,\"#9c179e\"],[0.4444444444444444,\"#bd3786\"],[0.5555555555555556,\"#d8576b\"],[0.6666666666666666,\"#ed7953\"],[0.7777777777777778,\"#fb9f3a\"],[0.8888888888888888,\"#fdca26\"],[1.0,\"#f0f921\"]]},\"colorway\":[\"#636efa\",\"#EF553B\",\"#00cc96\",\"#ab63fa\",\"#FFA15A\",\"#19d3f3\",\"#FF6692\",\"#B6E880\",\"#FF97FF\",\"#FECB52\"],\"font\":{\"color\":\"#2a3f5f\"},\"geo\":{\"bgcolor\":\"white\",\"lakecolor\":\"white\",\"landcolor\":\"#E5ECF6\",\"showlakes\":true,\"showland\":true,\"subunitcolor\":\"white\"},\"hoverlabel\":{\"align\":\"left\"},\"hovermode\":\"closest\",\"mapbox\":{\"style\":\"light\"},\"paper_bgcolor\":\"white\",\"plot_bgcolor\":\"#E5ECF6\",\"polar\":{\"angularaxis\":{\"gridcolor\":\"white\",\"linecolor\":\"white\",\"ticks\":\"\"},\"bgcolor\":\"#E5ECF6\",\"radialaxis\":{\"gridcolor\":\"white\",\"linecolor\":\"white\",\"ticks\":\"\"}},\"scene\":{\"xaxis\":{\"backgroundcolor\":\"#E5ECF6\",\"gridcolor\":\"white\",\"gridwidth\":2,\"linecolor\":\"white\",\"showbackground\":true,\"ticks\":\"\",\"zerolinecolor\":\"white\"},\"yaxis\":{\"backgroundcolor\":\"#E5ECF6\",\"gridcolor\":\"white\",\"gridwidth\":2,\"linecolor\":\"white\",\"showbackground\":true,\"ticks\":\"\",\"zerolinecolor\":\"white\"},\"zaxis\":{\"backgroundcolor\":\"#E5ECF6\",\"gridcolor\":\"white\",\"gridwidth\":2,\"linecolor\":\"white\",\"showbackground\":true,\"ticks\":\"\",\"zerolinecolor\":\"white\"}},\"shapedefaults\":{\"line\":{\"color\":\"#2a3f5f\"}},\"ternary\":{\"aaxis\":{\"gridcolor\":\"white\",\"linecolor\":\"white\",\"ticks\":\"\"},\"baxis\":{\"gridcolor\":\"white\",\"linecolor\":\"white\",\"ticks\":\"\"},\"bgcolor\":\"#E5ECF6\",\"caxis\":{\"gridcolor\":\"white\",\"linecolor\":\"white\",\"ticks\":\"\"}},\"title\":{\"x\":0.05},\"xaxis\":{\"automargin\":true,\"gridcolor\":\"white\",\"linecolor\":\"white\",\"ticks\":\"\",\"title\":{\"standoff\":15},\"zerolinecolor\":\"white\",\"zerolinewidth\":2},\"yaxis\":{\"automargin\":true,\"gridcolor\":\"white\",\"linecolor\":\"white\",\"ticks\":\"\",\"title\":{\"standoff\":15},\"zerolinecolor\":\"white\",\"zerolinewidth\":2}}}},                        {\"responsive\": true}                    ).then(function(){\n",
              "                            \n",
              "var gd = document.getElementById('93c9d4a3-9b2a-478e-92f5-67d395b660a2');\n",
              "var x = new MutationObserver(function (mutations, observer) {{\n",
              "        var display = window.getComputedStyle(gd).display;\n",
              "        if (!display || display === 'none') {{\n",
              "            console.log([gd, 'removed!']);\n",
              "            Plotly.purge(gd);\n",
              "            observer.disconnect();\n",
              "        }}\n",
              "}});\n",
              "\n",
              "// Listen for the removal of the full notebook cells\n",
              "var notebookContainer = gd.closest('#notebook-container');\n",
              "if (notebookContainer) {{\n",
              "    x.observe(notebookContainer, {childList: true});\n",
              "}}\n",
              "\n",
              "// Listen for the clearing of the current output cell\n",
              "var outputEl = gd.closest('.output');\n",
              "if (outputEl) {{\n",
              "    x.observe(outputEl, {childList: true});\n",
              "}}\n",
              "\n",
              "                        })                };                            </script>        </div>\n",
              "</body>\n",
              "</html>"
            ]
          },
          "metadata": {}
        }
      ]
    },
    {
      "cell_type": "code",
      "source": [
        "basedLineScore = ScoreDataFrame(dict_model['Models'],dict_model['AUC']).sort_values(by='AUC', ascending=False)\n",
        "print(f'Média dos 5 melhores: \\n{round(basedLineScore[\"AUC\"].head().mean(),6)}')\n",
        "basedLineScore.head()"
      ],
      "metadata": {
        "colab": {
          "base_uri": "https://localhost:8080/",
          "height": 241
        },
        "outputId": "4e3cb375-427f-4ee8-f3e5-6ba82e8ee245",
        "id": "gYPVK8IYZwRN"
      },
      "execution_count": null,
      "outputs": [
        {
          "output_type": "stream",
          "name": "stdout",
          "text": [
            "Média dos 5 melhores: \n",
            "0.806669\n"
          ]
        },
        {
          "output_type": "execute_result",
          "data": {
            "text/plain": [
              "           Model       AUC\n",
              "4  GBM_BasedLine  0.814503\n",
              "0   LR_BasedLine  0.813957\n",
              "3   AB_BasedLine  0.805442\n",
              "5   RF_BasedLine  0.800480\n",
              "2   NB_BasedLine  0.798962"
            ],
            "text/html": [
              "\n",
              "  <div id=\"df-4e2ac099-1cbb-49a0-9459-814cc5294c0f\">\n",
              "    <div class=\"colab-df-container\">\n",
              "      <div>\n",
              "<style scoped>\n",
              "    .dataframe tbody tr th:only-of-type {\n",
              "        vertical-align: middle;\n",
              "    }\n",
              "\n",
              "    .dataframe tbody tr th {\n",
              "        vertical-align: top;\n",
              "    }\n",
              "\n",
              "    .dataframe thead th {\n",
              "        text-align: right;\n",
              "    }\n",
              "</style>\n",
              "<table border=\"1\" class=\"dataframe\">\n",
              "  <thead>\n",
              "    <tr style=\"text-align: right;\">\n",
              "      <th></th>\n",
              "      <th>Model</th>\n",
              "      <th>AUC</th>\n",
              "    </tr>\n",
              "  </thead>\n",
              "  <tbody>\n",
              "    <tr>\n",
              "      <th>4</th>\n",
              "      <td>GBM_BasedLine</td>\n",
              "      <td>0.814503</td>\n",
              "    </tr>\n",
              "    <tr>\n",
              "      <th>0</th>\n",
              "      <td>LR_BasedLine</td>\n",
              "      <td>0.813957</td>\n",
              "    </tr>\n",
              "    <tr>\n",
              "      <th>3</th>\n",
              "      <td>AB_BasedLine</td>\n",
              "      <td>0.805442</td>\n",
              "    </tr>\n",
              "    <tr>\n",
              "      <th>5</th>\n",
              "      <td>RF_BasedLine</td>\n",
              "      <td>0.800480</td>\n",
              "    </tr>\n",
              "    <tr>\n",
              "      <th>2</th>\n",
              "      <td>NB_BasedLine</td>\n",
              "      <td>0.798962</td>\n",
              "    </tr>\n",
              "  </tbody>\n",
              "</table>\n",
              "</div>\n",
              "      <button class=\"colab-df-convert\" onclick=\"convertToInteractive('df-4e2ac099-1cbb-49a0-9459-814cc5294c0f')\"\n",
              "              title=\"Convert this dataframe to an interactive table.\"\n",
              "              style=\"display:none;\">\n",
              "        \n",
              "  <svg xmlns=\"http://www.w3.org/2000/svg\" height=\"24px\"viewBox=\"0 0 24 24\"\n",
              "       width=\"24px\">\n",
              "    <path d=\"M0 0h24v24H0V0z\" fill=\"none\"/>\n",
              "    <path d=\"M18.56 5.44l.94 2.06.94-2.06 2.06-.94-2.06-.94-.94-2.06-.94 2.06-2.06.94zm-11 1L8.5 8.5l.94-2.06 2.06-.94-2.06-.94L8.5 2.5l-.94 2.06-2.06.94zm10 10l.94 2.06.94-2.06 2.06-.94-2.06-.94-.94-2.06-.94 2.06-2.06.94z\"/><path d=\"M17.41 7.96l-1.37-1.37c-.4-.4-.92-.59-1.43-.59-.52 0-1.04.2-1.43.59L10.3 9.45l-7.72 7.72c-.78.78-.78 2.05 0 2.83L4 21.41c.39.39.9.59 1.41.59.51 0 1.02-.2 1.41-.59l7.78-7.78 2.81-2.81c.8-.78.8-2.07 0-2.86zM5.41 20L4 18.59l7.72-7.72 1.47 1.35L5.41 20z\"/>\n",
              "  </svg>\n",
              "      </button>\n",
              "      \n",
              "  <style>\n",
              "    .colab-df-container {\n",
              "      display:flex;\n",
              "      flex-wrap:wrap;\n",
              "      gap: 12px;\n",
              "    }\n",
              "\n",
              "    .colab-df-convert {\n",
              "      background-color: #E8F0FE;\n",
              "      border: none;\n",
              "      border-radius: 50%;\n",
              "      cursor: pointer;\n",
              "      display: none;\n",
              "      fill: #1967D2;\n",
              "      height: 32px;\n",
              "      padding: 0 0 0 0;\n",
              "      width: 32px;\n",
              "    }\n",
              "\n",
              "    .colab-df-convert:hover {\n",
              "      background-color: #E2EBFA;\n",
              "      box-shadow: 0px 1px 2px rgba(60, 64, 67, 0.3), 0px 1px 3px 1px rgba(60, 64, 67, 0.15);\n",
              "      fill: #174EA6;\n",
              "    }\n",
              "\n",
              "    [theme=dark] .colab-df-convert {\n",
              "      background-color: #3B4455;\n",
              "      fill: #D2E3FC;\n",
              "    }\n",
              "\n",
              "    [theme=dark] .colab-df-convert:hover {\n",
              "      background-color: #434B5C;\n",
              "      box-shadow: 0px 1px 3px 1px rgba(0, 0, 0, 0.15);\n",
              "      filter: drop-shadow(0px 1px 2px rgba(0, 0, 0, 0.3));\n",
              "      fill: #FFFFFF;\n",
              "    }\n",
              "  </style>\n",
              "\n",
              "      <script>\n",
              "        const buttonEl =\n",
              "          document.querySelector('#df-4e2ac099-1cbb-49a0-9459-814cc5294c0f button.colab-df-convert');\n",
              "        buttonEl.style.display =\n",
              "          google.colab.kernel.accessAllowed ? 'block' : 'none';\n",
              "\n",
              "        async function convertToInteractive(key) {\n",
              "          const element = document.querySelector('#df-4e2ac099-1cbb-49a0-9459-814cc5294c0f');\n",
              "          const dataTable =\n",
              "            await google.colab.kernel.invokeFunction('convertToInteractive',\n",
              "                                                     [key], {});\n",
              "          if (!dataTable) return;\n",
              "\n",
              "          const docLinkHtml = 'Like what you see? Visit the ' +\n",
              "            '<a target=\"_blank\" href=https://colab.research.google.com/notebooks/data_table.ipynb>data table notebook</a>'\n",
              "            + ' to learn more about interactive tables.';\n",
              "          element.innerHTML = '';\n",
              "          dataTable['output_type'] = 'display_data';\n",
              "          await google.colab.output.renderOutput(dataTable, element);\n",
              "          const docLink = document.createElement('div');\n",
              "          docLink.innerHTML = docLinkHtml;\n",
              "          element.appendChild(docLink);\n",
              "        }\n",
              "      </script>\n",
              "    </div>\n",
              "  </div>\n",
              "  "
            ]
          },
          "metadata": {},
          "execution_count": 29
        }
      ]
    },
    {
      "cell_type": "code",
      "source": [
        "# Treinando com o método StandardScaler\n",
        "models = GetScaledModel('standard')\n",
        "names, results, dict_model = BasedLine2(X_train, y_train,models,'_standard')\n",
        "PlotBoxR().PlotResult(names,results)\n",
        "\n",
        "scaledScoreStandard = ScoreDataFrame(dict_model['Models'],dict_model['AUC'])\n",
        "compareModels = pd.concat([basedLineScore,\n",
        "                           scaledScoreStandard], axis=0).sort_values(by='AUC', ascending=False)"
      ],
      "metadata": {
        "id": "go2ZQZ17aFZ3",
        "colab": {
          "base_uri": "https://localhost:8080/",
          "height": 542
        },
        "outputId": "4c702703-5170-46c7-bc5c-2b1b3718ab58"
      },
      "execution_count": null,
      "outputs": [
        {
          "output_type": "display_data",
          "data": {
            "text/html": [
              "<html>\n",
              "<head><meta charset=\"utf-8\" /></head>\n",
              "<body>\n",
              "    <div>            <script src=\"https://cdnjs.cloudflare.com/ajax/libs/mathjax/2.7.5/MathJax.js?config=TeX-AMS-MML_SVG\"></script><script type=\"text/javascript\">if (window.MathJax) {MathJax.Hub.Config({SVG: {font: \"STIX-Web\"}});}</script>                <script type=\"text/javascript\">window.PlotlyConfig = {MathJaxConfig: 'local'};</script>\n",
              "        <script src=\"https://cdn.plot.ly/plotly-2.8.3.min.js\"></script>                <div id=\"c07def63-eae8-439a-a7d3-6913eb3413ac\" class=\"plotly-graph-div\" style=\"height:525px; width:100%;\"></div>            <script type=\"text/javascript\">                                    window.PLOTLYENV=window.PLOTLYENV || {};                                    if (document.getElementById(\"c07def63-eae8-439a-a7d3-6913eb3413ac\")) {                    Plotly.newPlot(                        \"c07def63-eae8-439a-a7d3-6913eb3413ac\",                        [{\"marker\":{\"color\":\"rgb(0, 128, 128)\"},\"name\":\"LR\",\"y\":[0.8336741649625085,0.8381428463228054,0.8250145169027241,0.8054482567093336,0.8000959377919161,0.8188795475775709,0.793591238655377,0.819107859574252,0.7951785805009399,0.791952446273434],\"type\":\"box\"},{\"marker\":{\"color\":\"rgb(0, 128, 128)\"},\"name\":\"KNN\",\"y\":[0.7459920725087732,0.7808705092277007,0.7186119316316999,0.7695599484965538,0.7365119038602339,0.7526572243681993,0.7498859199918877,0.7401564802113498,0.7409312604785856,0.7940100594421581],\"type\":\"box\"},{\"marker\":{\"color\":\"rgb(0, 128, 128)\"},\"name\":\"NB\",\"y\":[0.8075437400590775,0.779999495064253,0.8020273170239087,0.8076952207831555,0.792850109823525,0.7788255194526497,0.7840085179739391,0.8206828227404359,0.8080323121475386,0.7955342173449168],\"type\":\"box\"},{\"marker\":{\"color\":\"rgb(0, 128, 128)\"},\"name\":\"AB\",\"y\":[0.8047665934509833,0.7424827690676362,0.7923577974702719,0.8114443687040824,0.824926153147012,0.8019010830871772,0.8052907772651219,0.8296753543667124,0.8433038662805468,0.7984047147284459],\"type\":\"box\"},{\"marker\":{\"color\":\"rgb(0, 128, 128)\"},\"name\":\"GBM\",\"y\":[0.7938852281047236,0.8224898381680931,0.8359716226110229,0.8146128405160443,0.8154964780731652,0.8234365926935798,0.8205521472392638,0.7958644515571813,0.8171772595640909,0.8094802621551592],\"type\":\"box\"},{\"marker\":{\"color\":\"rgb(0, 128, 128)\"},\"name\":\"RF\",\"y\":[0.78470802090434,0.7587543235123331,0.8089196899694514,0.8223636042313616,0.7966371279254716,0.8199146658587695,0.7977107945038787,0.8323299293806838,0.7734212264390591,0.7933114870700605],\"type\":\"box\"},{\"marker\":{\"color\":\"rgb(0, 128, 128)\"},\"name\":\"ET\",\"y\":[0.8134893584791335,0.8112928879800045,0.8011941730414804,0.782839758640713,0.7843293190941453,0.7776262970537,0.7896998428230999,0.8098613016308489,0.7971345831428135,0.8112203424274754],\"type\":\"box\"}],                        {\"template\":{\"data\":{\"barpolar\":[{\"marker\":{\"line\":{\"color\":\"#E5ECF6\",\"width\":0.5},\"pattern\":{\"fillmode\":\"overlay\",\"size\":10,\"solidity\":0.2}},\"type\":\"barpolar\"}],\"bar\":[{\"error_x\":{\"color\":\"#2a3f5f\"},\"error_y\":{\"color\":\"#2a3f5f\"},\"marker\":{\"line\":{\"color\":\"#E5ECF6\",\"width\":0.5},\"pattern\":{\"fillmode\":\"overlay\",\"size\":10,\"solidity\":0.2}},\"type\":\"bar\"}],\"carpet\":[{\"aaxis\":{\"endlinecolor\":\"#2a3f5f\",\"gridcolor\":\"white\",\"linecolor\":\"white\",\"minorgridcolor\":\"white\",\"startlinecolor\":\"#2a3f5f\"},\"baxis\":{\"endlinecolor\":\"#2a3f5f\",\"gridcolor\":\"white\",\"linecolor\":\"white\",\"minorgridcolor\":\"white\",\"startlinecolor\":\"#2a3f5f\"},\"type\":\"carpet\"}],\"choropleth\":[{\"colorbar\":{\"outlinewidth\":0,\"ticks\":\"\"},\"type\":\"choropleth\"}],\"contourcarpet\":[{\"colorbar\":{\"outlinewidth\":0,\"ticks\":\"\"},\"type\":\"contourcarpet\"}],\"contour\":[{\"colorbar\":{\"outlinewidth\":0,\"ticks\":\"\"},\"colorscale\":[[0.0,\"#0d0887\"],[0.1111111111111111,\"#46039f\"],[0.2222222222222222,\"#7201a8\"],[0.3333333333333333,\"#9c179e\"],[0.4444444444444444,\"#bd3786\"],[0.5555555555555556,\"#d8576b\"],[0.6666666666666666,\"#ed7953\"],[0.7777777777777778,\"#fb9f3a\"],[0.8888888888888888,\"#fdca26\"],[1.0,\"#f0f921\"]],\"type\":\"contour\"}],\"heatmapgl\":[{\"colorbar\":{\"outlinewidth\":0,\"ticks\":\"\"},\"colorscale\":[[0.0,\"#0d0887\"],[0.1111111111111111,\"#46039f\"],[0.2222222222222222,\"#7201a8\"],[0.3333333333333333,\"#9c179e\"],[0.4444444444444444,\"#bd3786\"],[0.5555555555555556,\"#d8576b\"],[0.6666666666666666,\"#ed7953\"],[0.7777777777777778,\"#fb9f3a\"],[0.8888888888888888,\"#fdca26\"],[1.0,\"#f0f921\"]],\"type\":\"heatmapgl\"}],\"heatmap\":[{\"colorbar\":{\"outlinewidth\":0,\"ticks\":\"\"},\"colorscale\":[[0.0,\"#0d0887\"],[0.1111111111111111,\"#46039f\"],[0.2222222222222222,\"#7201a8\"],[0.3333333333333333,\"#9c179e\"],[0.4444444444444444,\"#bd3786\"],[0.5555555555555556,\"#d8576b\"],[0.6666666666666666,\"#ed7953\"],[0.7777777777777778,\"#fb9f3a\"],[0.8888888888888888,\"#fdca26\"],[1.0,\"#f0f921\"]],\"type\":\"heatmap\"}],\"histogram2dcontour\":[{\"colorbar\":{\"outlinewidth\":0,\"ticks\":\"\"},\"colorscale\":[[0.0,\"#0d0887\"],[0.1111111111111111,\"#46039f\"],[0.2222222222222222,\"#7201a8\"],[0.3333333333333333,\"#9c179e\"],[0.4444444444444444,\"#bd3786\"],[0.5555555555555556,\"#d8576b\"],[0.6666666666666666,\"#ed7953\"],[0.7777777777777778,\"#fb9f3a\"],[0.8888888888888888,\"#fdca26\"],[1.0,\"#f0f921\"]],\"type\":\"histogram2dcontour\"}],\"histogram2d\":[{\"colorbar\":{\"outlinewidth\":0,\"ticks\":\"\"},\"colorscale\":[[0.0,\"#0d0887\"],[0.1111111111111111,\"#46039f\"],[0.2222222222222222,\"#7201a8\"],[0.3333333333333333,\"#9c179e\"],[0.4444444444444444,\"#bd3786\"],[0.5555555555555556,\"#d8576b\"],[0.6666666666666666,\"#ed7953\"],[0.7777777777777778,\"#fb9f3a\"],[0.8888888888888888,\"#fdca26\"],[1.0,\"#f0f921\"]],\"type\":\"histogram2d\"}],\"histogram\":[{\"marker\":{\"pattern\":{\"fillmode\":\"overlay\",\"size\":10,\"solidity\":0.2}},\"type\":\"histogram\"}],\"mesh3d\":[{\"colorbar\":{\"outlinewidth\":0,\"ticks\":\"\"},\"type\":\"mesh3d\"}],\"parcoords\":[{\"line\":{\"colorbar\":{\"outlinewidth\":0,\"ticks\":\"\"}},\"type\":\"parcoords\"}],\"pie\":[{\"automargin\":true,\"type\":\"pie\"}],\"scatter3d\":[{\"line\":{\"colorbar\":{\"outlinewidth\":0,\"ticks\":\"\"}},\"marker\":{\"colorbar\":{\"outlinewidth\":0,\"ticks\":\"\"}},\"type\":\"scatter3d\"}],\"scattercarpet\":[{\"marker\":{\"colorbar\":{\"outlinewidth\":0,\"ticks\":\"\"}},\"type\":\"scattercarpet\"}],\"scattergeo\":[{\"marker\":{\"colorbar\":{\"outlinewidth\":0,\"ticks\":\"\"}},\"type\":\"scattergeo\"}],\"scattergl\":[{\"marker\":{\"colorbar\":{\"outlinewidth\":0,\"ticks\":\"\"}},\"type\":\"scattergl\"}],\"scattermapbox\":[{\"marker\":{\"colorbar\":{\"outlinewidth\":0,\"ticks\":\"\"}},\"type\":\"scattermapbox\"}],\"scatterpolargl\":[{\"marker\":{\"colorbar\":{\"outlinewidth\":0,\"ticks\":\"\"}},\"type\":\"scatterpolargl\"}],\"scatterpolar\":[{\"marker\":{\"colorbar\":{\"outlinewidth\":0,\"ticks\":\"\"}},\"type\":\"scatterpolar\"}],\"scatter\":[{\"marker\":{\"colorbar\":{\"outlinewidth\":0,\"ticks\":\"\"}},\"type\":\"scatter\"}],\"scatterternary\":[{\"marker\":{\"colorbar\":{\"outlinewidth\":0,\"ticks\":\"\"}},\"type\":\"scatterternary\"}],\"surface\":[{\"colorbar\":{\"outlinewidth\":0,\"ticks\":\"\"},\"colorscale\":[[0.0,\"#0d0887\"],[0.1111111111111111,\"#46039f\"],[0.2222222222222222,\"#7201a8\"],[0.3333333333333333,\"#9c179e\"],[0.4444444444444444,\"#bd3786\"],[0.5555555555555556,\"#d8576b\"],[0.6666666666666666,\"#ed7953\"],[0.7777777777777778,\"#fb9f3a\"],[0.8888888888888888,\"#fdca26\"],[1.0,\"#f0f921\"]],\"type\":\"surface\"}],\"table\":[{\"cells\":{\"fill\":{\"color\":\"#EBF0F8\"},\"line\":{\"color\":\"white\"}},\"header\":{\"fill\":{\"color\":\"#C8D4E3\"},\"line\":{\"color\":\"white\"}},\"type\":\"table\"}]},\"layout\":{\"annotationdefaults\":{\"arrowcolor\":\"#2a3f5f\",\"arrowhead\":0,\"arrowwidth\":1},\"autotypenumbers\":\"strict\",\"coloraxis\":{\"colorbar\":{\"outlinewidth\":0,\"ticks\":\"\"}},\"colorscale\":{\"diverging\":[[0,\"#8e0152\"],[0.1,\"#c51b7d\"],[0.2,\"#de77ae\"],[0.3,\"#f1b6da\"],[0.4,\"#fde0ef\"],[0.5,\"#f7f7f7\"],[0.6,\"#e6f5d0\"],[0.7,\"#b8e186\"],[0.8,\"#7fbc41\"],[0.9,\"#4d9221\"],[1,\"#276419\"]],\"sequential\":[[0.0,\"#0d0887\"],[0.1111111111111111,\"#46039f\"],[0.2222222222222222,\"#7201a8\"],[0.3333333333333333,\"#9c179e\"],[0.4444444444444444,\"#bd3786\"],[0.5555555555555556,\"#d8576b\"],[0.6666666666666666,\"#ed7953\"],[0.7777777777777778,\"#fb9f3a\"],[0.8888888888888888,\"#fdca26\"],[1.0,\"#f0f921\"]],\"sequentialminus\":[[0.0,\"#0d0887\"],[0.1111111111111111,\"#46039f\"],[0.2222222222222222,\"#7201a8\"],[0.3333333333333333,\"#9c179e\"],[0.4444444444444444,\"#bd3786\"],[0.5555555555555556,\"#d8576b\"],[0.6666666666666666,\"#ed7953\"],[0.7777777777777778,\"#fb9f3a\"],[0.8888888888888888,\"#fdca26\"],[1.0,\"#f0f921\"]]},\"colorway\":[\"#636efa\",\"#EF553B\",\"#00cc96\",\"#ab63fa\",\"#FFA15A\",\"#19d3f3\",\"#FF6692\",\"#B6E880\",\"#FF97FF\",\"#FECB52\"],\"font\":{\"color\":\"#2a3f5f\"},\"geo\":{\"bgcolor\":\"white\",\"lakecolor\":\"white\",\"landcolor\":\"#E5ECF6\",\"showlakes\":true,\"showland\":true,\"subunitcolor\":\"white\"},\"hoverlabel\":{\"align\":\"left\"},\"hovermode\":\"closest\",\"mapbox\":{\"style\":\"light\"},\"paper_bgcolor\":\"white\",\"plot_bgcolor\":\"#E5ECF6\",\"polar\":{\"angularaxis\":{\"gridcolor\":\"white\",\"linecolor\":\"white\",\"ticks\":\"\"},\"bgcolor\":\"#E5ECF6\",\"radialaxis\":{\"gridcolor\":\"white\",\"linecolor\":\"white\",\"ticks\":\"\"}},\"scene\":{\"xaxis\":{\"backgroundcolor\":\"#E5ECF6\",\"gridcolor\":\"white\",\"gridwidth\":2,\"linecolor\":\"white\",\"showbackground\":true,\"ticks\":\"\",\"zerolinecolor\":\"white\"},\"yaxis\":{\"backgroundcolor\":\"#E5ECF6\",\"gridcolor\":\"white\",\"gridwidth\":2,\"linecolor\":\"white\",\"showbackground\":true,\"ticks\":\"\",\"zerolinecolor\":\"white\"},\"zaxis\":{\"backgroundcolor\":\"#E5ECF6\",\"gridcolor\":\"white\",\"gridwidth\":2,\"linecolor\":\"white\",\"showbackground\":true,\"ticks\":\"\",\"zerolinecolor\":\"white\"}},\"shapedefaults\":{\"line\":{\"color\":\"#2a3f5f\"}},\"ternary\":{\"aaxis\":{\"gridcolor\":\"white\",\"linecolor\":\"white\",\"ticks\":\"\"},\"baxis\":{\"gridcolor\":\"white\",\"linecolor\":\"white\",\"ticks\":\"\"},\"bgcolor\":\"#E5ECF6\",\"caxis\":{\"gridcolor\":\"white\",\"linecolor\":\"white\",\"ticks\":\"\"}},\"title\":{\"x\":0.05},\"xaxis\":{\"automargin\":true,\"gridcolor\":\"white\",\"linecolor\":\"white\",\"ticks\":\"\",\"title\":{\"standoff\":15},\"zerolinecolor\":\"white\",\"zerolinewidth\":2},\"yaxis\":{\"automargin\":true,\"gridcolor\":\"white\",\"linecolor\":\"white\",\"ticks\":\"\",\"title\":{\"standoff\":15},\"zerolinecolor\":\"white\",\"zerolinewidth\":2}}}},                        {\"responsive\": true}                    ).then(function(){\n",
              "                            \n",
              "var gd = document.getElementById('c07def63-eae8-439a-a7d3-6913eb3413ac');\n",
              "var x = new MutationObserver(function (mutations, observer) {{\n",
              "        var display = window.getComputedStyle(gd).display;\n",
              "        if (!display || display === 'none') {{\n",
              "            console.log([gd, 'removed!']);\n",
              "            Plotly.purge(gd);\n",
              "            observer.disconnect();\n",
              "        }}\n",
              "}});\n",
              "\n",
              "// Listen for the removal of the full notebook cells\n",
              "var notebookContainer = gd.closest('#notebook-container');\n",
              "if (notebookContainer) {{\n",
              "    x.observe(notebookContainer, {childList: true});\n",
              "}}\n",
              "\n",
              "// Listen for the clearing of the current output cell\n",
              "var outputEl = gd.closest('.output');\n",
              "if (outputEl) {{\n",
              "    x.observe(outputEl, {childList: true});\n",
              "}}\n",
              "\n",
              "                        })                };                            </script>        </div>\n",
              "</body>\n",
              "</html>"
            ]
          },
          "metadata": {}
        }
      ]
    },
    {
      "cell_type": "code",
      "source": [
        "print(f'Média dos 5 melhores: \\n{round(scaledScoreStandard[\"AUC\"].head().mean(),6)}')\n",
        "scaledScoreStandard.head().sort_values(by='AUC', ascending=False)"
      ],
      "metadata": {
        "colab": {
          "base_uri": "https://localhost:8080/",
          "height": 241
        },
        "id": "vzzFCG_fbxPo",
        "outputId": "dbb37b47-c9af-404e-d93a-559f57df4567"
      },
      "execution_count": null,
      "outputs": [
        {
          "output_type": "stream",
          "name": "stdout",
          "text": [
            "Média dos 5 melhores: \n",
            "0.79662\n"
          ]
        },
        {
          "output_type": "execute_result",
          "data": {
            "text/plain": [
              "          Model       AUC\n",
              "4  GBM_standard  0.814897\n",
              "0   LR_standard  0.812109\n",
              "3   AB_standard  0.805455\n",
              "2   NB_standard  0.797720\n",
              "1  KNN_standard  0.752919"
            ],
            "text/html": [
              "\n",
              "  <div id=\"df-6e83ad32-3562-46b0-a4a2-b1cd8ecccf14\">\n",
              "    <div class=\"colab-df-container\">\n",
              "      <div>\n",
              "<style scoped>\n",
              "    .dataframe tbody tr th:only-of-type {\n",
              "        vertical-align: middle;\n",
              "    }\n",
              "\n",
              "    .dataframe tbody tr th {\n",
              "        vertical-align: top;\n",
              "    }\n",
              "\n",
              "    .dataframe thead th {\n",
              "        text-align: right;\n",
              "    }\n",
              "</style>\n",
              "<table border=\"1\" class=\"dataframe\">\n",
              "  <thead>\n",
              "    <tr style=\"text-align: right;\">\n",
              "      <th></th>\n",
              "      <th>Model</th>\n",
              "      <th>AUC</th>\n",
              "    </tr>\n",
              "  </thead>\n",
              "  <tbody>\n",
              "    <tr>\n",
              "      <th>4</th>\n",
              "      <td>GBM_standard</td>\n",
              "      <td>0.814897</td>\n",
              "    </tr>\n",
              "    <tr>\n",
              "      <th>0</th>\n",
              "      <td>LR_standard</td>\n",
              "      <td>0.812109</td>\n",
              "    </tr>\n",
              "    <tr>\n",
              "      <th>3</th>\n",
              "      <td>AB_standard</td>\n",
              "      <td>0.805455</td>\n",
              "    </tr>\n",
              "    <tr>\n",
              "      <th>2</th>\n",
              "      <td>NB_standard</td>\n",
              "      <td>0.797720</td>\n",
              "    </tr>\n",
              "    <tr>\n",
              "      <th>1</th>\n",
              "      <td>KNN_standard</td>\n",
              "      <td>0.752919</td>\n",
              "    </tr>\n",
              "  </tbody>\n",
              "</table>\n",
              "</div>\n",
              "      <button class=\"colab-df-convert\" onclick=\"convertToInteractive('df-6e83ad32-3562-46b0-a4a2-b1cd8ecccf14')\"\n",
              "              title=\"Convert this dataframe to an interactive table.\"\n",
              "              style=\"display:none;\">\n",
              "        \n",
              "  <svg xmlns=\"http://www.w3.org/2000/svg\" height=\"24px\"viewBox=\"0 0 24 24\"\n",
              "       width=\"24px\">\n",
              "    <path d=\"M0 0h24v24H0V0z\" fill=\"none\"/>\n",
              "    <path d=\"M18.56 5.44l.94 2.06.94-2.06 2.06-.94-2.06-.94-.94-2.06-.94 2.06-2.06.94zm-11 1L8.5 8.5l.94-2.06 2.06-.94-2.06-.94L8.5 2.5l-.94 2.06-2.06.94zm10 10l.94 2.06.94-2.06 2.06-.94-2.06-.94-.94-2.06-.94 2.06-2.06.94z\"/><path d=\"M17.41 7.96l-1.37-1.37c-.4-.4-.92-.59-1.43-.59-.52 0-1.04.2-1.43.59L10.3 9.45l-7.72 7.72c-.78.78-.78 2.05 0 2.83L4 21.41c.39.39.9.59 1.41.59.51 0 1.02-.2 1.41-.59l7.78-7.78 2.81-2.81c.8-.78.8-2.07 0-2.86zM5.41 20L4 18.59l7.72-7.72 1.47 1.35L5.41 20z\"/>\n",
              "  </svg>\n",
              "      </button>\n",
              "      \n",
              "  <style>\n",
              "    .colab-df-container {\n",
              "      display:flex;\n",
              "      flex-wrap:wrap;\n",
              "      gap: 12px;\n",
              "    }\n",
              "\n",
              "    .colab-df-convert {\n",
              "      background-color: #E8F0FE;\n",
              "      border: none;\n",
              "      border-radius: 50%;\n",
              "      cursor: pointer;\n",
              "      display: none;\n",
              "      fill: #1967D2;\n",
              "      height: 32px;\n",
              "      padding: 0 0 0 0;\n",
              "      width: 32px;\n",
              "    }\n",
              "\n",
              "    .colab-df-convert:hover {\n",
              "      background-color: #E2EBFA;\n",
              "      box-shadow: 0px 1px 2px rgba(60, 64, 67, 0.3), 0px 1px 3px 1px rgba(60, 64, 67, 0.15);\n",
              "      fill: #174EA6;\n",
              "    }\n",
              "\n",
              "    [theme=dark] .colab-df-convert {\n",
              "      background-color: #3B4455;\n",
              "      fill: #D2E3FC;\n",
              "    }\n",
              "\n",
              "    [theme=dark] .colab-df-convert:hover {\n",
              "      background-color: #434B5C;\n",
              "      box-shadow: 0px 1px 3px 1px rgba(0, 0, 0, 0.15);\n",
              "      filter: drop-shadow(0px 1px 2px rgba(0, 0, 0, 0.3));\n",
              "      fill: #FFFFFF;\n",
              "    }\n",
              "  </style>\n",
              "\n",
              "      <script>\n",
              "        const buttonEl =\n",
              "          document.querySelector('#df-6e83ad32-3562-46b0-a4a2-b1cd8ecccf14 button.colab-df-convert');\n",
              "        buttonEl.style.display =\n",
              "          google.colab.kernel.accessAllowed ? 'block' : 'none';\n",
              "\n",
              "        async function convertToInteractive(key) {\n",
              "          const element = document.querySelector('#df-6e83ad32-3562-46b0-a4a2-b1cd8ecccf14');\n",
              "          const dataTable =\n",
              "            await google.colab.kernel.invokeFunction('convertToInteractive',\n",
              "                                                     [key], {});\n",
              "          if (!dataTable) return;\n",
              "\n",
              "          const docLinkHtml = 'Like what you see? Visit the ' +\n",
              "            '<a target=\"_blank\" href=https://colab.research.google.com/notebooks/data_table.ipynb>data table notebook</a>'\n",
              "            + ' to learn more about interactive tables.';\n",
              "          element.innerHTML = '';\n",
              "          dataTable['output_type'] = 'display_data';\n",
              "          await google.colab.output.renderOutput(dataTable, element);\n",
              "          const docLink = document.createElement('div');\n",
              "          docLink.innerHTML = docLinkHtml;\n",
              "          element.appendChild(docLink);\n",
              "        }\n",
              "      </script>\n",
              "    </div>\n",
              "  </div>\n",
              "  "
            ]
          },
          "metadata": {},
          "execution_count": 31
        }
      ]
    },
    {
      "cell_type": "code",
      "source": [
        "# Dataset Normal com minmax\n",
        "models = GetScaledModel('minmax')\n",
        "names,results,dict_model = BasedLine2(X_train, y_train,models,'_minmax')\n",
        "PlotBoxR().PlotResult(names,results)\n",
        "\n",
        "scaledScoreMinMax = ScoreDataFrame(dict_model['Models'],dict_model['AUC'])\n",
        "compareModels = pd.concat([compareModels,\n",
        "                          scaledScoreMinMax], axis=0).sort_values(by='AUC', ascending=False)"
      ],
      "metadata": {
        "id": "9hqPA-NUR2Bj",
        "colab": {
          "base_uri": "https://localhost:8080/",
          "height": 542
        },
        "outputId": "12aba49e-0d2d-4610-d74c-9dd6ad4b664b"
      },
      "execution_count": null,
      "outputs": [
        {
          "output_type": "display_data",
          "data": {
            "text/html": [
              "<html>\n",
              "<head><meta charset=\"utf-8\" /></head>\n",
              "<body>\n",
              "    <div>            <script src=\"https://cdnjs.cloudflare.com/ajax/libs/mathjax/2.7.5/MathJax.js?config=TeX-AMS-MML_SVG\"></script><script type=\"text/javascript\">if (window.MathJax) {MathJax.Hub.Config({SVG: {font: \"STIX-Web\"}});}</script>                <script type=\"text/javascript\">window.PlotlyConfig = {MathJaxConfig: 'local'};</script>\n",
              "        <script src=\"https://cdn.plot.ly/plotly-2.8.3.min.js\"></script>                <div id=\"211807e5-4821-40f2-ab2d-ab15e9dfd144\" class=\"plotly-graph-div\" style=\"height:525px; width:100%;\"></div>            <script type=\"text/javascript\">                                    window.PLOTLYENV=window.PLOTLYENV || {};                                    if (document.getElementById(\"211807e5-4821-40f2-ab2d-ab15e9dfd144\")) {                    Plotly.newPlot(                        \"211807e5-4821-40f2-ab2d-ab15e9dfd144\",                        [{\"marker\":{\"color\":\"rgb(0, 128, 128)\"},\"name\":\"LR\",\"y\":[0.8101694059430937,0.7844429296372036,0.7863111919008307,0.8002474185159938,0.8103208866671716,0.838597288495039,0.8060639862089944,0.8393537570492302,0.7991667936798252,0.7979220647259057],\"type\":\"box\"},{\"marker\":{\"color\":\"rgb(0, 128, 128)\"},\"name\":\"KNN\",\"y\":[0.7203034663839027,0.7554343709762933,0.7681713751925068,0.7427731071221187,0.7370673331818526,0.7500820520588755,0.7694696547178421,0.7659909566631102,0.7716684448508865,0.7508763907940863],\"type\":\"box\"},{\"marker\":{\"color\":\"rgb(0, 128, 128)\"},\"name\":\"NB\",\"y\":[0.8099548082506501,0.7885834027619986,0.7595748441010881,0.8037314751697846,0.8040470600116136,0.7941881895528793,0.8234548496679004,0.8052126200274348,0.8157801148198953,0.7741452014428694],\"type\":\"box\"},{\"marker\":{\"color\":\"rgb(0, 128, 128)\"},\"name\":\"AB\",\"y\":[0.8058900754878942,0.7944406574263425,0.7915372768815168,0.7977101163876896,0.8448079981822313,0.7711883662803908,0.7859098514424783,0.7845602804450541,0.8273383122491491,0.7759487882944672],\"type\":\"box\"},{\"marker\":{\"color\":\"rgb(0, 128, 128)\"},\"name\":\"GBM\",\"y\":[0.816619960110076,0.7997172359817213,0.8310737458658387,0.8062309071170695,0.798467520008079,0.8100431720063622,0.7968361811083505,0.8270080780368847,0.8222577859066199,0.8498196413148401],\"type\":\"box\"},{\"marker\":{\"color\":\"rgb(0, 128, 128)\"},\"name\":\"RF\",\"y\":[0.7765280618041354,0.789113585296271,0.7721603675932238,0.8015223812769826,0.7870433487338736,0.8045646191522129,0.8309207524210313,0.8046156581821876,0.8108393029517857,0.81462429507697],\"type\":\"box\"},{\"marker\":{\"color\":\"rgb(0, 128, 128)\"},\"name\":\"ET\",\"y\":[0.7944406574263425,0.7804286904491403,0.8207856800222171,0.8064455048095128,0.7691559998990128,0.8088313262137393,0.7980403589717587,0.8027866686988773,0.8132652542803435,0.8021770055377737],\"type\":\"box\"}],                        {\"template\":{\"data\":{\"barpolar\":[{\"marker\":{\"line\":{\"color\":\"#E5ECF6\",\"width\":0.5},\"pattern\":{\"fillmode\":\"overlay\",\"size\":10,\"solidity\":0.2}},\"type\":\"barpolar\"}],\"bar\":[{\"error_x\":{\"color\":\"#2a3f5f\"},\"error_y\":{\"color\":\"#2a3f5f\"},\"marker\":{\"line\":{\"color\":\"#E5ECF6\",\"width\":0.5},\"pattern\":{\"fillmode\":\"overlay\",\"size\":10,\"solidity\":0.2}},\"type\":\"bar\"}],\"carpet\":[{\"aaxis\":{\"endlinecolor\":\"#2a3f5f\",\"gridcolor\":\"white\",\"linecolor\":\"white\",\"minorgridcolor\":\"white\",\"startlinecolor\":\"#2a3f5f\"},\"baxis\":{\"endlinecolor\":\"#2a3f5f\",\"gridcolor\":\"white\",\"linecolor\":\"white\",\"minorgridcolor\":\"white\",\"startlinecolor\":\"#2a3f5f\"},\"type\":\"carpet\"}],\"choropleth\":[{\"colorbar\":{\"outlinewidth\":0,\"ticks\":\"\"},\"type\":\"choropleth\"}],\"contourcarpet\":[{\"colorbar\":{\"outlinewidth\":0,\"ticks\":\"\"},\"type\":\"contourcarpet\"}],\"contour\":[{\"colorbar\":{\"outlinewidth\":0,\"ticks\":\"\"},\"colorscale\":[[0.0,\"#0d0887\"],[0.1111111111111111,\"#46039f\"],[0.2222222222222222,\"#7201a8\"],[0.3333333333333333,\"#9c179e\"],[0.4444444444444444,\"#bd3786\"],[0.5555555555555556,\"#d8576b\"],[0.6666666666666666,\"#ed7953\"],[0.7777777777777778,\"#fb9f3a\"],[0.8888888888888888,\"#fdca26\"],[1.0,\"#f0f921\"]],\"type\":\"contour\"}],\"heatmapgl\":[{\"colorbar\":{\"outlinewidth\":0,\"ticks\":\"\"},\"colorscale\":[[0.0,\"#0d0887\"],[0.1111111111111111,\"#46039f\"],[0.2222222222222222,\"#7201a8\"],[0.3333333333333333,\"#9c179e\"],[0.4444444444444444,\"#bd3786\"],[0.5555555555555556,\"#d8576b\"],[0.6666666666666666,\"#ed7953\"],[0.7777777777777778,\"#fb9f3a\"],[0.8888888888888888,\"#fdca26\"],[1.0,\"#f0f921\"]],\"type\":\"heatmapgl\"}],\"heatmap\":[{\"colorbar\":{\"outlinewidth\":0,\"ticks\":\"\"},\"colorscale\":[[0.0,\"#0d0887\"],[0.1111111111111111,\"#46039f\"],[0.2222222222222222,\"#7201a8\"],[0.3333333333333333,\"#9c179e\"],[0.4444444444444444,\"#bd3786\"],[0.5555555555555556,\"#d8576b\"],[0.6666666666666666,\"#ed7953\"],[0.7777777777777778,\"#fb9f3a\"],[0.8888888888888888,\"#fdca26\"],[1.0,\"#f0f921\"]],\"type\":\"heatmap\"}],\"histogram2dcontour\":[{\"colorbar\":{\"outlinewidth\":0,\"ticks\":\"\"},\"colorscale\":[[0.0,\"#0d0887\"],[0.1111111111111111,\"#46039f\"],[0.2222222222222222,\"#7201a8\"],[0.3333333333333333,\"#9c179e\"],[0.4444444444444444,\"#bd3786\"],[0.5555555555555556,\"#d8576b\"],[0.6666666666666666,\"#ed7953\"],[0.7777777777777778,\"#fb9f3a\"],[0.8888888888888888,\"#fdca26\"],[1.0,\"#f0f921\"]],\"type\":\"histogram2dcontour\"}],\"histogram2d\":[{\"colorbar\":{\"outlinewidth\":0,\"ticks\":\"\"},\"colorscale\":[[0.0,\"#0d0887\"],[0.1111111111111111,\"#46039f\"],[0.2222222222222222,\"#7201a8\"],[0.3333333333333333,\"#9c179e\"],[0.4444444444444444,\"#bd3786\"],[0.5555555555555556,\"#d8576b\"],[0.6666666666666666,\"#ed7953\"],[0.7777777777777778,\"#fb9f3a\"],[0.8888888888888888,\"#fdca26\"],[1.0,\"#f0f921\"]],\"type\":\"histogram2d\"}],\"histogram\":[{\"marker\":{\"pattern\":{\"fillmode\":\"overlay\",\"size\":10,\"solidity\":0.2}},\"type\":\"histogram\"}],\"mesh3d\":[{\"colorbar\":{\"outlinewidth\":0,\"ticks\":\"\"},\"type\":\"mesh3d\"}],\"parcoords\":[{\"line\":{\"colorbar\":{\"outlinewidth\":0,\"ticks\":\"\"}},\"type\":\"parcoords\"}],\"pie\":[{\"automargin\":true,\"type\":\"pie\"}],\"scatter3d\":[{\"line\":{\"colorbar\":{\"outlinewidth\":0,\"ticks\":\"\"}},\"marker\":{\"colorbar\":{\"outlinewidth\":0,\"ticks\":\"\"}},\"type\":\"scatter3d\"}],\"scattercarpet\":[{\"marker\":{\"colorbar\":{\"outlinewidth\":0,\"ticks\":\"\"}},\"type\":\"scattercarpet\"}],\"scattergeo\":[{\"marker\":{\"colorbar\":{\"outlinewidth\":0,\"ticks\":\"\"}},\"type\":\"scattergeo\"}],\"scattergl\":[{\"marker\":{\"colorbar\":{\"outlinewidth\":0,\"ticks\":\"\"}},\"type\":\"scattergl\"}],\"scattermapbox\":[{\"marker\":{\"colorbar\":{\"outlinewidth\":0,\"ticks\":\"\"}},\"type\":\"scattermapbox\"}],\"scatterpolargl\":[{\"marker\":{\"colorbar\":{\"outlinewidth\":0,\"ticks\":\"\"}},\"type\":\"scatterpolargl\"}],\"scatterpolar\":[{\"marker\":{\"colorbar\":{\"outlinewidth\":0,\"ticks\":\"\"}},\"type\":\"scatterpolar\"}],\"scatter\":[{\"marker\":{\"colorbar\":{\"outlinewidth\":0,\"ticks\":\"\"}},\"type\":\"scatter\"}],\"scatterternary\":[{\"marker\":{\"colorbar\":{\"outlinewidth\":0,\"ticks\":\"\"}},\"type\":\"scatterternary\"}],\"surface\":[{\"colorbar\":{\"outlinewidth\":0,\"ticks\":\"\"},\"colorscale\":[[0.0,\"#0d0887\"],[0.1111111111111111,\"#46039f\"],[0.2222222222222222,\"#7201a8\"],[0.3333333333333333,\"#9c179e\"],[0.4444444444444444,\"#bd3786\"],[0.5555555555555556,\"#d8576b\"],[0.6666666666666666,\"#ed7953\"],[0.7777777777777778,\"#fb9f3a\"],[0.8888888888888888,\"#fdca26\"],[1.0,\"#f0f921\"]],\"type\":\"surface\"}],\"table\":[{\"cells\":{\"fill\":{\"color\":\"#EBF0F8\"},\"line\":{\"color\":\"white\"}},\"header\":{\"fill\":{\"color\":\"#C8D4E3\"},\"line\":{\"color\":\"white\"}},\"type\":\"table\"}]},\"layout\":{\"annotationdefaults\":{\"arrowcolor\":\"#2a3f5f\",\"arrowhead\":0,\"arrowwidth\":1},\"autotypenumbers\":\"strict\",\"coloraxis\":{\"colorbar\":{\"outlinewidth\":0,\"ticks\":\"\"}},\"colorscale\":{\"diverging\":[[0,\"#8e0152\"],[0.1,\"#c51b7d\"],[0.2,\"#de77ae\"],[0.3,\"#f1b6da\"],[0.4,\"#fde0ef\"],[0.5,\"#f7f7f7\"],[0.6,\"#e6f5d0\"],[0.7,\"#b8e186\"],[0.8,\"#7fbc41\"],[0.9,\"#4d9221\"],[1,\"#276419\"]],\"sequential\":[[0.0,\"#0d0887\"],[0.1111111111111111,\"#46039f\"],[0.2222222222222222,\"#7201a8\"],[0.3333333333333333,\"#9c179e\"],[0.4444444444444444,\"#bd3786\"],[0.5555555555555556,\"#d8576b\"],[0.6666666666666666,\"#ed7953\"],[0.7777777777777778,\"#fb9f3a\"],[0.8888888888888888,\"#fdca26\"],[1.0,\"#f0f921\"]],\"sequentialminus\":[[0.0,\"#0d0887\"],[0.1111111111111111,\"#46039f\"],[0.2222222222222222,\"#7201a8\"],[0.3333333333333333,\"#9c179e\"],[0.4444444444444444,\"#bd3786\"],[0.5555555555555556,\"#d8576b\"],[0.6666666666666666,\"#ed7953\"],[0.7777777777777778,\"#fb9f3a\"],[0.8888888888888888,\"#fdca26\"],[1.0,\"#f0f921\"]]},\"colorway\":[\"#636efa\",\"#EF553B\",\"#00cc96\",\"#ab63fa\",\"#FFA15A\",\"#19d3f3\",\"#FF6692\",\"#B6E880\",\"#FF97FF\",\"#FECB52\"],\"font\":{\"color\":\"#2a3f5f\"},\"geo\":{\"bgcolor\":\"white\",\"lakecolor\":\"white\",\"landcolor\":\"#E5ECF6\",\"showlakes\":true,\"showland\":true,\"subunitcolor\":\"white\"},\"hoverlabel\":{\"align\":\"left\"},\"hovermode\":\"closest\",\"mapbox\":{\"style\":\"light\"},\"paper_bgcolor\":\"white\",\"plot_bgcolor\":\"#E5ECF6\",\"polar\":{\"angularaxis\":{\"gridcolor\":\"white\",\"linecolor\":\"white\",\"ticks\":\"\"},\"bgcolor\":\"#E5ECF6\",\"radialaxis\":{\"gridcolor\":\"white\",\"linecolor\":\"white\",\"ticks\":\"\"}},\"scene\":{\"xaxis\":{\"backgroundcolor\":\"#E5ECF6\",\"gridcolor\":\"white\",\"gridwidth\":2,\"linecolor\":\"white\",\"showbackground\":true,\"ticks\":\"\",\"zerolinecolor\":\"white\"},\"yaxis\":{\"backgroundcolor\":\"#E5ECF6\",\"gridcolor\":\"white\",\"gridwidth\":2,\"linecolor\":\"white\",\"showbackground\":true,\"ticks\":\"\",\"zerolinecolor\":\"white\"},\"zaxis\":{\"backgroundcolor\":\"#E5ECF6\",\"gridcolor\":\"white\",\"gridwidth\":2,\"linecolor\":\"white\",\"showbackground\":true,\"ticks\":\"\",\"zerolinecolor\":\"white\"}},\"shapedefaults\":{\"line\":{\"color\":\"#2a3f5f\"}},\"ternary\":{\"aaxis\":{\"gridcolor\":\"white\",\"linecolor\":\"white\",\"ticks\":\"\"},\"baxis\":{\"gridcolor\":\"white\",\"linecolor\":\"white\",\"ticks\":\"\"},\"bgcolor\":\"#E5ECF6\",\"caxis\":{\"gridcolor\":\"white\",\"linecolor\":\"white\",\"ticks\":\"\"}},\"title\":{\"x\":0.05},\"xaxis\":{\"automargin\":true,\"gridcolor\":\"white\",\"linecolor\":\"white\",\"ticks\":\"\",\"title\":{\"standoff\":15},\"zerolinecolor\":\"white\",\"zerolinewidth\":2},\"yaxis\":{\"automargin\":true,\"gridcolor\":\"white\",\"linecolor\":\"white\",\"ticks\":\"\",\"title\":{\"standoff\":15},\"zerolinecolor\":\"white\",\"zerolinewidth\":2}}}},                        {\"responsive\": true}                    ).then(function(){\n",
              "                            \n",
              "var gd = document.getElementById('211807e5-4821-40f2-ab2d-ab15e9dfd144');\n",
              "var x = new MutationObserver(function (mutations, observer) {{\n",
              "        var display = window.getComputedStyle(gd).display;\n",
              "        if (!display || display === 'none') {{\n",
              "            console.log([gd, 'removed!']);\n",
              "            Plotly.purge(gd);\n",
              "            observer.disconnect();\n",
              "        }}\n",
              "}});\n",
              "\n",
              "// Listen for the removal of the full notebook cells\n",
              "var notebookContainer = gd.closest('#notebook-container');\n",
              "if (notebookContainer) {{\n",
              "    x.observe(notebookContainer, {childList: true});\n",
              "}}\n",
              "\n",
              "// Listen for the clearing of the current output cell\n",
              "var outputEl = gd.closest('.output');\n",
              "if (outputEl) {{\n",
              "    x.observe(outputEl, {childList: true});\n",
              "}}\n",
              "\n",
              "                        })                };                            </script>        </div>\n",
              "</body>\n",
              "</html>"
            ]
          },
          "metadata": {}
        }
      ]
    },
    {
      "cell_type": "code",
      "source": [
        "print(f'Média dos 5 melhores: \\n{round(scaledScoreMinMax[\"AUC\"].head().mean(),6)}')\n",
        "scaledScoreMinMax.head().sort_values(by='AUC', ascending=False)"
      ],
      "metadata": {
        "colab": {
          "base_uri": "https://localhost:8080/",
          "height": 241
        },
        "id": "srwYiGfzR2DX",
        "outputId": "ef242235-0e16-4ffb-d8c4-7471fed7b3f9"
      },
      "execution_count": null,
      "outputs": [
        {
          "output_type": "stream",
          "name": "stdout",
          "text": [
            "Média dos 5 melhores: \n",
            "0.79441\n"
          ]
        },
        {
          "output_type": "execute_result",
          "data": {
            "text/plain": [
              "        Model       AUC\n",
              "4  GBM_minmax  0.815807\n",
              "0   LR_minmax  0.807260\n",
              "3   AB_minmax  0.797933\n",
              "2   NB_minmax  0.797867\n",
              "1  KNN_minmax  0.753184"
            ],
            "text/html": [
              "\n",
              "  <div id=\"df-3dfd7753-f952-469f-91aa-d6ed5da0b3fc\">\n",
              "    <div class=\"colab-df-container\">\n",
              "      <div>\n",
              "<style scoped>\n",
              "    .dataframe tbody tr th:only-of-type {\n",
              "        vertical-align: middle;\n",
              "    }\n",
              "\n",
              "    .dataframe tbody tr th {\n",
              "        vertical-align: top;\n",
              "    }\n",
              "\n",
              "    .dataframe thead th {\n",
              "        text-align: right;\n",
              "    }\n",
              "</style>\n",
              "<table border=\"1\" class=\"dataframe\">\n",
              "  <thead>\n",
              "    <tr style=\"text-align: right;\">\n",
              "      <th></th>\n",
              "      <th>Model</th>\n",
              "      <th>AUC</th>\n",
              "    </tr>\n",
              "  </thead>\n",
              "  <tbody>\n",
              "    <tr>\n",
              "      <th>4</th>\n",
              "      <td>GBM_minmax</td>\n",
              "      <td>0.815807</td>\n",
              "    </tr>\n",
              "    <tr>\n",
              "      <th>0</th>\n",
              "      <td>LR_minmax</td>\n",
              "      <td>0.807260</td>\n",
              "    </tr>\n",
              "    <tr>\n",
              "      <th>3</th>\n",
              "      <td>AB_minmax</td>\n",
              "      <td>0.797933</td>\n",
              "    </tr>\n",
              "    <tr>\n",
              "      <th>2</th>\n",
              "      <td>NB_minmax</td>\n",
              "      <td>0.797867</td>\n",
              "    </tr>\n",
              "    <tr>\n",
              "      <th>1</th>\n",
              "      <td>KNN_minmax</td>\n",
              "      <td>0.753184</td>\n",
              "    </tr>\n",
              "  </tbody>\n",
              "</table>\n",
              "</div>\n",
              "      <button class=\"colab-df-convert\" onclick=\"convertToInteractive('df-3dfd7753-f952-469f-91aa-d6ed5da0b3fc')\"\n",
              "              title=\"Convert this dataframe to an interactive table.\"\n",
              "              style=\"display:none;\">\n",
              "        \n",
              "  <svg xmlns=\"http://www.w3.org/2000/svg\" height=\"24px\"viewBox=\"0 0 24 24\"\n",
              "       width=\"24px\">\n",
              "    <path d=\"M0 0h24v24H0V0z\" fill=\"none\"/>\n",
              "    <path d=\"M18.56 5.44l.94 2.06.94-2.06 2.06-.94-2.06-.94-.94-2.06-.94 2.06-2.06.94zm-11 1L8.5 8.5l.94-2.06 2.06-.94-2.06-.94L8.5 2.5l-.94 2.06-2.06.94zm10 10l.94 2.06.94-2.06 2.06-.94-2.06-.94-.94-2.06-.94 2.06-2.06.94z\"/><path d=\"M17.41 7.96l-1.37-1.37c-.4-.4-.92-.59-1.43-.59-.52 0-1.04.2-1.43.59L10.3 9.45l-7.72 7.72c-.78.78-.78 2.05 0 2.83L4 21.41c.39.39.9.59 1.41.59.51 0 1.02-.2 1.41-.59l7.78-7.78 2.81-2.81c.8-.78.8-2.07 0-2.86zM5.41 20L4 18.59l7.72-7.72 1.47 1.35L5.41 20z\"/>\n",
              "  </svg>\n",
              "      </button>\n",
              "      \n",
              "  <style>\n",
              "    .colab-df-container {\n",
              "      display:flex;\n",
              "      flex-wrap:wrap;\n",
              "      gap: 12px;\n",
              "    }\n",
              "\n",
              "    .colab-df-convert {\n",
              "      background-color: #E8F0FE;\n",
              "      border: none;\n",
              "      border-radius: 50%;\n",
              "      cursor: pointer;\n",
              "      display: none;\n",
              "      fill: #1967D2;\n",
              "      height: 32px;\n",
              "      padding: 0 0 0 0;\n",
              "      width: 32px;\n",
              "    }\n",
              "\n",
              "    .colab-df-convert:hover {\n",
              "      background-color: #E2EBFA;\n",
              "      box-shadow: 0px 1px 2px rgba(60, 64, 67, 0.3), 0px 1px 3px 1px rgba(60, 64, 67, 0.15);\n",
              "      fill: #174EA6;\n",
              "    }\n",
              "\n",
              "    [theme=dark] .colab-df-convert {\n",
              "      background-color: #3B4455;\n",
              "      fill: #D2E3FC;\n",
              "    }\n",
              "\n",
              "    [theme=dark] .colab-df-convert:hover {\n",
              "      background-color: #434B5C;\n",
              "      box-shadow: 0px 1px 3px 1px rgba(0, 0, 0, 0.15);\n",
              "      filter: drop-shadow(0px 1px 2px rgba(0, 0, 0, 0.3));\n",
              "      fill: #FFFFFF;\n",
              "    }\n",
              "  </style>\n",
              "\n",
              "      <script>\n",
              "        const buttonEl =\n",
              "          document.querySelector('#df-3dfd7753-f952-469f-91aa-d6ed5da0b3fc button.colab-df-convert');\n",
              "        buttonEl.style.display =\n",
              "          google.colab.kernel.accessAllowed ? 'block' : 'none';\n",
              "\n",
              "        async function convertToInteractive(key) {\n",
              "          const element = document.querySelector('#df-3dfd7753-f952-469f-91aa-d6ed5da0b3fc');\n",
              "          const dataTable =\n",
              "            await google.colab.kernel.invokeFunction('convertToInteractive',\n",
              "                                                     [key], {});\n",
              "          if (!dataTable) return;\n",
              "\n",
              "          const docLinkHtml = 'Like what you see? Visit the ' +\n",
              "            '<a target=\"_blank\" href=https://colab.research.google.com/notebooks/data_table.ipynb>data table notebook</a>'\n",
              "            + ' to learn more about interactive tables.';\n",
              "          element.innerHTML = '';\n",
              "          dataTable['output_type'] = 'display_data';\n",
              "          await google.colab.output.renderOutput(dataTable, element);\n",
              "          const docLink = document.createElement('div');\n",
              "          docLink.innerHTML = docLinkHtml;\n",
              "          element.appendChild(docLink);\n",
              "        }\n",
              "      </script>\n",
              "    </div>\n",
              "  </div>\n",
              "  "
            ]
          },
          "metadata": {},
          "execution_count": 33
        }
      ]
    },
    {
      "cell_type": "markdown",
      "source": [
        "### Instanciando e treinando os modelos para os dados filtrados (11 características)"
      ],
      "metadata": {
        "id": "6dA3QMYVbwCI"
      }
    },
    {
      "cell_type": "code",
      "source": [
        "# Treinando os modelos com os dados originais\n",
        "models = GetBasedModel()\n",
        "names_f, results_f, dict_model_f = BasedLine2(X_train_f, y_train, models, '_BasedLine_f')\n",
        "PlotBoxR().PlotResult(names_f,results_f)\n",
        "basedLineScore_f = ScoreDataFrame(dict_model_f['Models'],dict_model_f['AUC']).sort_values(by='AUC', ascending=False)"
      ],
      "metadata": {
        "id": "EBAnWohqcvj_",
        "colab": {
          "base_uri": "https://localhost:8080/",
          "height": 542
        },
        "outputId": "89639d38-d46a-437b-887a-a64571133e78"
      },
      "execution_count": null,
      "outputs": [
        {
          "output_type": "display_data",
          "data": {
            "text/html": [
              "<html>\n",
              "<head><meta charset=\"utf-8\" /></head>\n",
              "<body>\n",
              "    <div>            <script src=\"https://cdnjs.cloudflare.com/ajax/libs/mathjax/2.7.5/MathJax.js?config=TeX-AMS-MML_SVG\"></script><script type=\"text/javascript\">if (window.MathJax) {MathJax.Hub.Config({SVG: {font: \"STIX-Web\"}});}</script>                <script type=\"text/javascript\">window.PlotlyConfig = {MathJaxConfig: 'local'};</script>\n",
              "        <script src=\"https://cdn.plot.ly/plotly-2.8.3.min.js\"></script>                <div id=\"a75554d5-b401-4d5f-94d1-f1ee3fcebac4\" class=\"plotly-graph-div\" style=\"height:525px; width:100%;\"></div>            <script type=\"text/javascript\">                                    window.PLOTLYENV=window.PLOTLYENV || {};                                    if (document.getElementById(\"a75554d5-b401-4d5f-94d1-f1ee3fcebac4\")) {                    Plotly.newPlot(                        \"a75554d5-b401-4d5f-94d1-f1ee3fcebac4\",                        [{\"marker\":{\"color\":\"rgb(0, 128, 128)\"},\"name\":\"LR\",\"y\":[0.8006766139008811,0.8032012926355122,0.8050948016864854,0.7839632406776238,0.8057764649448358,0.8285238203438613,0.8433301221923641,0.8157039069247574,0.810293146369964,0.8457044149773917],\"type\":\"box\"},{\"marker\":{\"color\":\"rgb(0, 128, 128)\"},\"name\":\"KNN\",\"y\":[0.7874094271503952,0.7583629983084652,0.785124592895554,0.717728294074579,0.7387967381150748,0.7594738569517029,0.7247122648684277,0.7463674236650917,0.7619900421683686,0.7097495300513132],\"type\":\"box\"},{\"marker\":{\"color\":\"rgb(0, 128, 128)\"},\"name\":\"NB\",\"y\":[0.7802014693630235,0.7816531596354364,0.8229190335529804,0.8229821505213463,0.778939129995708,0.8150672826882779,0.8062921462252193,0.7807752883198698,0.8070416095107454,0.7734085251232027],\"type\":\"box\"},{\"marker\":{\"color\":\"rgb(0, 128, 128)\"},\"name\":\"AB\",\"y\":[0.81067434169002,0.8135650988411726,0.7787876492716302,0.7824610568305183,0.830291095458103,0.807266025398268,0.7633980631749735,0.8584819387288523,0.827808260935833,0.7874434791444392],\"type\":\"box\"},{\"marker\":{\"color\":\"rgb(0, 128, 128)\"},\"name\":\"GBM\",\"y\":[0.7941124491908406,0.8309096417480876,0.8172006362190412,0.8236638137796966,0.8002726653033402,0.8160140372137645,0.8246590275313087,0.8453487781334147,0.8040568002845095,0.7932225778590662],\"type\":\"box\"},{\"marker\":{\"color\":\"rgb(0, 128, 128)\"},\"name\":\"RF\",\"y\":[0.8202681208816179,0.8101694059430937,0.7903885480572598,0.7749122674139715,0.823625943598677,0.8074932464843847,0.7882168027176393,0.7885484936239394,0.8041076055479348,0.777790479093634],\"type\":\"box\"},{\"marker\":{\"color\":\"rgb(0, 128, 128)\"},\"name\":\"ET\",\"y\":[0.8118861874826429,0.8176929485722942,0.7928374864298517,0.7877755055669167,0.7876745184175313,0.7469766972152793,0.8183085737463875,0.786363867296652,0.7769521922471169,0.814662399024539],\"type\":\"box\"}],                        {\"template\":{\"data\":{\"barpolar\":[{\"marker\":{\"line\":{\"color\":\"#E5ECF6\",\"width\":0.5},\"pattern\":{\"fillmode\":\"overlay\",\"size\":10,\"solidity\":0.2}},\"type\":\"barpolar\"}],\"bar\":[{\"error_x\":{\"color\":\"#2a3f5f\"},\"error_y\":{\"color\":\"#2a3f5f\"},\"marker\":{\"line\":{\"color\":\"#E5ECF6\",\"width\":0.5},\"pattern\":{\"fillmode\":\"overlay\",\"size\":10,\"solidity\":0.2}},\"type\":\"bar\"}],\"carpet\":[{\"aaxis\":{\"endlinecolor\":\"#2a3f5f\",\"gridcolor\":\"white\",\"linecolor\":\"white\",\"minorgridcolor\":\"white\",\"startlinecolor\":\"#2a3f5f\"},\"baxis\":{\"endlinecolor\":\"#2a3f5f\",\"gridcolor\":\"white\",\"linecolor\":\"white\",\"minorgridcolor\":\"white\",\"startlinecolor\":\"#2a3f5f\"},\"type\":\"carpet\"}],\"choropleth\":[{\"colorbar\":{\"outlinewidth\":0,\"ticks\":\"\"},\"type\":\"choropleth\"}],\"contourcarpet\":[{\"colorbar\":{\"outlinewidth\":0,\"ticks\":\"\"},\"type\":\"contourcarpet\"}],\"contour\":[{\"colorbar\":{\"outlinewidth\":0,\"ticks\":\"\"},\"colorscale\":[[0.0,\"#0d0887\"],[0.1111111111111111,\"#46039f\"],[0.2222222222222222,\"#7201a8\"],[0.3333333333333333,\"#9c179e\"],[0.4444444444444444,\"#bd3786\"],[0.5555555555555556,\"#d8576b\"],[0.6666666666666666,\"#ed7953\"],[0.7777777777777778,\"#fb9f3a\"],[0.8888888888888888,\"#fdca26\"],[1.0,\"#f0f921\"]],\"type\":\"contour\"}],\"heatmapgl\":[{\"colorbar\":{\"outlinewidth\":0,\"ticks\":\"\"},\"colorscale\":[[0.0,\"#0d0887\"],[0.1111111111111111,\"#46039f\"],[0.2222222222222222,\"#7201a8\"],[0.3333333333333333,\"#9c179e\"],[0.4444444444444444,\"#bd3786\"],[0.5555555555555556,\"#d8576b\"],[0.6666666666666666,\"#ed7953\"],[0.7777777777777778,\"#fb9f3a\"],[0.8888888888888888,\"#fdca26\"],[1.0,\"#f0f921\"]],\"type\":\"heatmapgl\"}],\"heatmap\":[{\"colorbar\":{\"outlinewidth\":0,\"ticks\":\"\"},\"colorscale\":[[0.0,\"#0d0887\"],[0.1111111111111111,\"#46039f\"],[0.2222222222222222,\"#7201a8\"],[0.3333333333333333,\"#9c179e\"],[0.4444444444444444,\"#bd3786\"],[0.5555555555555556,\"#d8576b\"],[0.6666666666666666,\"#ed7953\"],[0.7777777777777778,\"#fb9f3a\"],[0.8888888888888888,\"#fdca26\"],[1.0,\"#f0f921\"]],\"type\":\"heatmap\"}],\"histogram2dcontour\":[{\"colorbar\":{\"outlinewidth\":0,\"ticks\":\"\"},\"colorscale\":[[0.0,\"#0d0887\"],[0.1111111111111111,\"#46039f\"],[0.2222222222222222,\"#7201a8\"],[0.3333333333333333,\"#9c179e\"],[0.4444444444444444,\"#bd3786\"],[0.5555555555555556,\"#d8576b\"],[0.6666666666666666,\"#ed7953\"],[0.7777777777777778,\"#fb9f3a\"],[0.8888888888888888,\"#fdca26\"],[1.0,\"#f0f921\"]],\"type\":\"histogram2dcontour\"}],\"histogram2d\":[{\"colorbar\":{\"outlinewidth\":0,\"ticks\":\"\"},\"colorscale\":[[0.0,\"#0d0887\"],[0.1111111111111111,\"#46039f\"],[0.2222222222222222,\"#7201a8\"],[0.3333333333333333,\"#9c179e\"],[0.4444444444444444,\"#bd3786\"],[0.5555555555555556,\"#d8576b\"],[0.6666666666666666,\"#ed7953\"],[0.7777777777777778,\"#fb9f3a\"],[0.8888888888888888,\"#fdca26\"],[1.0,\"#f0f921\"]],\"type\":\"histogram2d\"}],\"histogram\":[{\"marker\":{\"pattern\":{\"fillmode\":\"overlay\",\"size\":10,\"solidity\":0.2}},\"type\":\"histogram\"}],\"mesh3d\":[{\"colorbar\":{\"outlinewidth\":0,\"ticks\":\"\"},\"type\":\"mesh3d\"}],\"parcoords\":[{\"line\":{\"colorbar\":{\"outlinewidth\":0,\"ticks\":\"\"}},\"type\":\"parcoords\"}],\"pie\":[{\"automargin\":true,\"type\":\"pie\"}],\"scatter3d\":[{\"line\":{\"colorbar\":{\"outlinewidth\":0,\"ticks\":\"\"}},\"marker\":{\"colorbar\":{\"outlinewidth\":0,\"ticks\":\"\"}},\"type\":\"scatter3d\"}],\"scattercarpet\":[{\"marker\":{\"colorbar\":{\"outlinewidth\":0,\"ticks\":\"\"}},\"type\":\"scattercarpet\"}],\"scattergeo\":[{\"marker\":{\"colorbar\":{\"outlinewidth\":0,\"ticks\":\"\"}},\"type\":\"scattergeo\"}],\"scattergl\":[{\"marker\":{\"colorbar\":{\"outlinewidth\":0,\"ticks\":\"\"}},\"type\":\"scattergl\"}],\"scattermapbox\":[{\"marker\":{\"colorbar\":{\"outlinewidth\":0,\"ticks\":\"\"}},\"type\":\"scattermapbox\"}],\"scatterpolargl\":[{\"marker\":{\"colorbar\":{\"outlinewidth\":0,\"ticks\":\"\"}},\"type\":\"scatterpolargl\"}],\"scatterpolar\":[{\"marker\":{\"colorbar\":{\"outlinewidth\":0,\"ticks\":\"\"}},\"type\":\"scatterpolar\"}],\"scatter\":[{\"marker\":{\"colorbar\":{\"outlinewidth\":0,\"ticks\":\"\"}},\"type\":\"scatter\"}],\"scatterternary\":[{\"marker\":{\"colorbar\":{\"outlinewidth\":0,\"ticks\":\"\"}},\"type\":\"scatterternary\"}],\"surface\":[{\"colorbar\":{\"outlinewidth\":0,\"ticks\":\"\"},\"colorscale\":[[0.0,\"#0d0887\"],[0.1111111111111111,\"#46039f\"],[0.2222222222222222,\"#7201a8\"],[0.3333333333333333,\"#9c179e\"],[0.4444444444444444,\"#bd3786\"],[0.5555555555555556,\"#d8576b\"],[0.6666666666666666,\"#ed7953\"],[0.7777777777777778,\"#fb9f3a\"],[0.8888888888888888,\"#fdca26\"],[1.0,\"#f0f921\"]],\"type\":\"surface\"}],\"table\":[{\"cells\":{\"fill\":{\"color\":\"#EBF0F8\"},\"line\":{\"color\":\"white\"}},\"header\":{\"fill\":{\"color\":\"#C8D4E3\"},\"line\":{\"color\":\"white\"}},\"type\":\"table\"}]},\"layout\":{\"annotationdefaults\":{\"arrowcolor\":\"#2a3f5f\",\"arrowhead\":0,\"arrowwidth\":1},\"autotypenumbers\":\"strict\",\"coloraxis\":{\"colorbar\":{\"outlinewidth\":0,\"ticks\":\"\"}},\"colorscale\":{\"diverging\":[[0,\"#8e0152\"],[0.1,\"#c51b7d\"],[0.2,\"#de77ae\"],[0.3,\"#f1b6da\"],[0.4,\"#fde0ef\"],[0.5,\"#f7f7f7\"],[0.6,\"#e6f5d0\"],[0.7,\"#b8e186\"],[0.8,\"#7fbc41\"],[0.9,\"#4d9221\"],[1,\"#276419\"]],\"sequential\":[[0.0,\"#0d0887\"],[0.1111111111111111,\"#46039f\"],[0.2222222222222222,\"#7201a8\"],[0.3333333333333333,\"#9c179e\"],[0.4444444444444444,\"#bd3786\"],[0.5555555555555556,\"#d8576b\"],[0.6666666666666666,\"#ed7953\"],[0.7777777777777778,\"#fb9f3a\"],[0.8888888888888888,\"#fdca26\"],[1.0,\"#f0f921\"]],\"sequentialminus\":[[0.0,\"#0d0887\"],[0.1111111111111111,\"#46039f\"],[0.2222222222222222,\"#7201a8\"],[0.3333333333333333,\"#9c179e\"],[0.4444444444444444,\"#bd3786\"],[0.5555555555555556,\"#d8576b\"],[0.6666666666666666,\"#ed7953\"],[0.7777777777777778,\"#fb9f3a\"],[0.8888888888888888,\"#fdca26\"],[1.0,\"#f0f921\"]]},\"colorway\":[\"#636efa\",\"#EF553B\",\"#00cc96\",\"#ab63fa\",\"#FFA15A\",\"#19d3f3\",\"#FF6692\",\"#B6E880\",\"#FF97FF\",\"#FECB52\"],\"font\":{\"color\":\"#2a3f5f\"},\"geo\":{\"bgcolor\":\"white\",\"lakecolor\":\"white\",\"landcolor\":\"#E5ECF6\",\"showlakes\":true,\"showland\":true,\"subunitcolor\":\"white\"},\"hoverlabel\":{\"align\":\"left\"},\"hovermode\":\"closest\",\"mapbox\":{\"style\":\"light\"},\"paper_bgcolor\":\"white\",\"plot_bgcolor\":\"#E5ECF6\",\"polar\":{\"angularaxis\":{\"gridcolor\":\"white\",\"linecolor\":\"white\",\"ticks\":\"\"},\"bgcolor\":\"#E5ECF6\",\"radialaxis\":{\"gridcolor\":\"white\",\"linecolor\":\"white\",\"ticks\":\"\"}},\"scene\":{\"xaxis\":{\"backgroundcolor\":\"#E5ECF6\",\"gridcolor\":\"white\",\"gridwidth\":2,\"linecolor\":\"white\",\"showbackground\":true,\"ticks\":\"\",\"zerolinecolor\":\"white\"},\"yaxis\":{\"backgroundcolor\":\"#E5ECF6\",\"gridcolor\":\"white\",\"gridwidth\":2,\"linecolor\":\"white\",\"showbackground\":true,\"ticks\":\"\",\"zerolinecolor\":\"white\"},\"zaxis\":{\"backgroundcolor\":\"#E5ECF6\",\"gridcolor\":\"white\",\"gridwidth\":2,\"linecolor\":\"white\",\"showbackground\":true,\"ticks\":\"\",\"zerolinecolor\":\"white\"}},\"shapedefaults\":{\"line\":{\"color\":\"#2a3f5f\"}},\"ternary\":{\"aaxis\":{\"gridcolor\":\"white\",\"linecolor\":\"white\",\"ticks\":\"\"},\"baxis\":{\"gridcolor\":\"white\",\"linecolor\":\"white\",\"ticks\":\"\"},\"bgcolor\":\"#E5ECF6\",\"caxis\":{\"gridcolor\":\"white\",\"linecolor\":\"white\",\"ticks\":\"\"}},\"title\":{\"x\":0.05},\"xaxis\":{\"automargin\":true,\"gridcolor\":\"white\",\"linecolor\":\"white\",\"ticks\":\"\",\"title\":{\"standoff\":15},\"zerolinecolor\":\"white\",\"zerolinewidth\":2},\"yaxis\":{\"automargin\":true,\"gridcolor\":\"white\",\"linecolor\":\"white\",\"ticks\":\"\",\"title\":{\"standoff\":15},\"zerolinecolor\":\"white\",\"zerolinewidth\":2}}}},                        {\"responsive\": true}                    ).then(function(){\n",
              "                            \n",
              "var gd = document.getElementById('a75554d5-b401-4d5f-94d1-f1ee3fcebac4');\n",
              "var x = new MutationObserver(function (mutations, observer) {{\n",
              "        var display = window.getComputedStyle(gd).display;\n",
              "        if (!display || display === 'none') {{\n",
              "            console.log([gd, 'removed!']);\n",
              "            Plotly.purge(gd);\n",
              "            observer.disconnect();\n",
              "        }}\n",
              "}});\n",
              "\n",
              "// Listen for the removal of the full notebook cells\n",
              "var notebookContainer = gd.closest('#notebook-container');\n",
              "if (notebookContainer) {{\n",
              "    x.observe(notebookContainer, {childList: true});\n",
              "}}\n",
              "\n",
              "// Listen for the clearing of the current output cell\n",
              "var outputEl = gd.closest('.output');\n",
              "if (outputEl) {{\n",
              "    x.observe(outputEl, {childList: true});\n",
              "}}\n",
              "\n",
              "                        })                };                            </script>        </div>\n",
              "</body>\n",
              "</html>"
            ]
          },
          "metadata": {}
        }
      ]
    },
    {
      "cell_type": "code",
      "source": [
        "print(f'Média dos 5 melhores: \\n{round(basedLineScore_f[\"AUC\"].head().mean(),6)}')\n",
        "basedLineScore_f.head().sort_values(by='AUC', ascending=False)"
      ],
      "metadata": {
        "colab": {
          "base_uri": "https://localhost:8080/",
          "height": 241
        },
        "id": "XzAxK1GDcBGx",
        "outputId": "17aef6ea-11d0-4aed-9da2-87bc5c3e939f"
      },
      "execution_count": null,
      "outputs": [
        {
          "output_type": "stream",
          "name": "stdout",
          "text": [
            "Média dos 5 melhores: \n",
            "0.806134\n"
          ]
        },
        {
          "output_type": "execute_result",
          "data": {
            "text/plain": [
              "             Model       AUC\n",
              "4  GBM_BasedLine_f  0.814946\n",
              "0   LR_BasedLine_f  0.814227\n",
              "3   AB_BasedLine_f  0.806018\n",
              "5   RF_BasedLine_f  0.798552\n",
              "2   NB_BasedLine_f  0.796928"
            ],
            "text/html": [
              "\n",
              "  <div id=\"df-8a159197-bf1c-4135-8257-17b19d7dc986\">\n",
              "    <div class=\"colab-df-container\">\n",
              "      <div>\n",
              "<style scoped>\n",
              "    .dataframe tbody tr th:only-of-type {\n",
              "        vertical-align: middle;\n",
              "    }\n",
              "\n",
              "    .dataframe tbody tr th {\n",
              "        vertical-align: top;\n",
              "    }\n",
              "\n",
              "    .dataframe thead th {\n",
              "        text-align: right;\n",
              "    }\n",
              "</style>\n",
              "<table border=\"1\" class=\"dataframe\">\n",
              "  <thead>\n",
              "    <tr style=\"text-align: right;\">\n",
              "      <th></th>\n",
              "      <th>Model</th>\n",
              "      <th>AUC</th>\n",
              "    </tr>\n",
              "  </thead>\n",
              "  <tbody>\n",
              "    <tr>\n",
              "      <th>4</th>\n",
              "      <td>GBM_BasedLine_f</td>\n",
              "      <td>0.814946</td>\n",
              "    </tr>\n",
              "    <tr>\n",
              "      <th>0</th>\n",
              "      <td>LR_BasedLine_f</td>\n",
              "      <td>0.814227</td>\n",
              "    </tr>\n",
              "    <tr>\n",
              "      <th>3</th>\n",
              "      <td>AB_BasedLine_f</td>\n",
              "      <td>0.806018</td>\n",
              "    </tr>\n",
              "    <tr>\n",
              "      <th>5</th>\n",
              "      <td>RF_BasedLine_f</td>\n",
              "      <td>0.798552</td>\n",
              "    </tr>\n",
              "    <tr>\n",
              "      <th>2</th>\n",
              "      <td>NB_BasedLine_f</td>\n",
              "      <td>0.796928</td>\n",
              "    </tr>\n",
              "  </tbody>\n",
              "</table>\n",
              "</div>\n",
              "      <button class=\"colab-df-convert\" onclick=\"convertToInteractive('df-8a159197-bf1c-4135-8257-17b19d7dc986')\"\n",
              "              title=\"Convert this dataframe to an interactive table.\"\n",
              "              style=\"display:none;\">\n",
              "        \n",
              "  <svg xmlns=\"http://www.w3.org/2000/svg\" height=\"24px\"viewBox=\"0 0 24 24\"\n",
              "       width=\"24px\">\n",
              "    <path d=\"M0 0h24v24H0V0z\" fill=\"none\"/>\n",
              "    <path d=\"M18.56 5.44l.94 2.06.94-2.06 2.06-.94-2.06-.94-.94-2.06-.94 2.06-2.06.94zm-11 1L8.5 8.5l.94-2.06 2.06-.94-2.06-.94L8.5 2.5l-.94 2.06-2.06.94zm10 10l.94 2.06.94-2.06 2.06-.94-2.06-.94-.94-2.06-.94 2.06-2.06.94z\"/><path d=\"M17.41 7.96l-1.37-1.37c-.4-.4-.92-.59-1.43-.59-.52 0-1.04.2-1.43.59L10.3 9.45l-7.72 7.72c-.78.78-.78 2.05 0 2.83L4 21.41c.39.39.9.59 1.41.59.51 0 1.02-.2 1.41-.59l7.78-7.78 2.81-2.81c.8-.78.8-2.07 0-2.86zM5.41 20L4 18.59l7.72-7.72 1.47 1.35L5.41 20z\"/>\n",
              "  </svg>\n",
              "      </button>\n",
              "      \n",
              "  <style>\n",
              "    .colab-df-container {\n",
              "      display:flex;\n",
              "      flex-wrap:wrap;\n",
              "      gap: 12px;\n",
              "    }\n",
              "\n",
              "    .colab-df-convert {\n",
              "      background-color: #E8F0FE;\n",
              "      border: none;\n",
              "      border-radius: 50%;\n",
              "      cursor: pointer;\n",
              "      display: none;\n",
              "      fill: #1967D2;\n",
              "      height: 32px;\n",
              "      padding: 0 0 0 0;\n",
              "      width: 32px;\n",
              "    }\n",
              "\n",
              "    .colab-df-convert:hover {\n",
              "      background-color: #E2EBFA;\n",
              "      box-shadow: 0px 1px 2px rgba(60, 64, 67, 0.3), 0px 1px 3px 1px rgba(60, 64, 67, 0.15);\n",
              "      fill: #174EA6;\n",
              "    }\n",
              "\n",
              "    [theme=dark] .colab-df-convert {\n",
              "      background-color: #3B4455;\n",
              "      fill: #D2E3FC;\n",
              "    }\n",
              "\n",
              "    [theme=dark] .colab-df-convert:hover {\n",
              "      background-color: #434B5C;\n",
              "      box-shadow: 0px 1px 3px 1px rgba(0, 0, 0, 0.15);\n",
              "      filter: drop-shadow(0px 1px 2px rgba(0, 0, 0, 0.3));\n",
              "      fill: #FFFFFF;\n",
              "    }\n",
              "  </style>\n",
              "\n",
              "      <script>\n",
              "        const buttonEl =\n",
              "          document.querySelector('#df-8a159197-bf1c-4135-8257-17b19d7dc986 button.colab-df-convert');\n",
              "        buttonEl.style.display =\n",
              "          google.colab.kernel.accessAllowed ? 'block' : 'none';\n",
              "\n",
              "        async function convertToInteractive(key) {\n",
              "          const element = document.querySelector('#df-8a159197-bf1c-4135-8257-17b19d7dc986');\n",
              "          const dataTable =\n",
              "            await google.colab.kernel.invokeFunction('convertToInteractive',\n",
              "                                                     [key], {});\n",
              "          if (!dataTable) return;\n",
              "\n",
              "          const docLinkHtml = 'Like what you see? Visit the ' +\n",
              "            '<a target=\"_blank\" href=https://colab.research.google.com/notebooks/data_table.ipynb>data table notebook</a>'\n",
              "            + ' to learn more about interactive tables.';\n",
              "          element.innerHTML = '';\n",
              "          dataTable['output_type'] = 'display_data';\n",
              "          await google.colab.output.renderOutput(dataTable, element);\n",
              "          const docLink = document.createElement('div');\n",
              "          docLink.innerHTML = docLinkHtml;\n",
              "          element.appendChild(docLink);\n",
              "        }\n",
              "      </script>\n",
              "    </div>\n",
              "  </div>\n",
              "  "
            ]
          },
          "metadata": {},
          "execution_count": 35
        }
      ]
    },
    {
      "cell_type": "code",
      "source": [
        "# Dataset Filtrado com standard\n",
        "models = GetScaledModel('standard')\n",
        "names_f,results_f,dict_model_f = BasedLine2(X_train_f, y_train,models,'_standard_f')\n",
        "PlotBoxR().PlotResult(names_f,results_f)\n",
        "\n",
        "scaledScoreStandard_f = ScoreDataFrame(dict_model_f['Models'],dict_model_f['AUC'])\n",
        "compareModels_f = pd.concat([basedLineScore_f,\n",
        "                           scaledScoreStandard_f], axis=0).sort_values(by='AUC', ascending=False)"
      ],
      "metadata": {
        "id": "2B14h0VZcBLX",
        "colab": {
          "base_uri": "https://localhost:8080/",
          "height": 542
        },
        "outputId": "de2c4396-fdc6-4f17-9f10-fb8c253bdd3b"
      },
      "execution_count": null,
      "outputs": [
        {
          "output_type": "display_data",
          "data": {
            "text/html": [
              "<html>\n",
              "<head><meta charset=\"utf-8\" /></head>\n",
              "<body>\n",
              "    <div>            <script src=\"https://cdnjs.cloudflare.com/ajax/libs/mathjax/2.7.5/MathJax.js?config=TeX-AMS-MML_SVG\"></script><script type=\"text/javascript\">if (window.MathJax) {MathJax.Hub.Config({SVG: {font: \"STIX-Web\"}});}</script>                <script type=\"text/javascript\">window.PlotlyConfig = {MathJaxConfig: 'local'};</script>\n",
              "        <script src=\"https://cdn.plot.ly/plotly-2.8.3.min.js\"></script>                <div id=\"5c19e8de-42a5-4c5f-ae40-5725bd30e9c0\" class=\"plotly-graph-div\" style=\"height:525px; width:100%;\"></div>            <script type=\"text/javascript\">                                    window.PLOTLYENV=window.PLOTLYENV || {};                                    if (document.getElementById(\"5c19e8de-42a5-4c5f-ae40-5725bd30e9c0\")) {                    Plotly.newPlot(                        \"5c19e8de-42a5-4c5f-ae40-5725bd30e9c0\",                        [{\"marker\":{\"color\":\"rgb(0, 128, 128)\"},\"name\":\"LR\",\"y\":[0.8122396425054912,0.8171627660380216,0.8039839430432478,0.7919917190537503,0.8522053068747001,0.8357444015249059,0.8347360949145668,0.7749072803942487,0.8155514911344817,0.786567088350353],\"type\":\"box\"},{\"marker\":{\"color\":\"rgb(0, 128, 128)\"},\"name\":\"KNN\",\"y\":[0.7795450528920196,0.7226261708197632,0.7890378449342321,0.7580979070413291,0.741005832007877,0.7880153500467065,0.7770369619226284,0.7007061931616116,0.7284966722552457,0.7614057816389779],\"type\":\"box\"},{\"marker\":{\"color\":\"rgb(0, 128, 128)\"},\"name\":\"NB\",\"y\":[0.7808578858340278,0.7937337473806457,0.7801004822136384,0.7914362897321315,0.7986821177005227,0.7731071221187104,0.8207676316990316,0.7965376212975663,0.8029263831732968,0.815335568764924],\"type\":\"box\"},{\"marker\":{\"color\":\"rgb(0, 128, 128)\"},\"name\":\"AB\",\"y\":[0.7862354515387916,0.77502587795703,0.8426872680451414,0.8150420359009316,0.7942513065212453,0.8032391628165314,0.8361304061248289,0.8252298938169993,0.814903724025809,0.7714144185337601],\"type\":\"box\"},{\"marker\":{\"color\":\"rgb(0, 128, 128)\"},\"name\":\"GBM\",\"y\":[0.8140574111944254,0.8548814663334091,0.7767552828902522,0.7924335378323107,0.8283218460450908,0.8188290540028781,0.8453455356690159,0.8132144490169182,0.795572321292486,0.8128842148046538],\"type\":\"box\"},{\"marker\":{\"color\":\"rgb(0, 128, 128)\"},\"name\":\"RF\",\"y\":[0.7772097250624859,0.8213789795248556,0.7952864248024437,0.8002600419096669,0.7948319826302103,0.791966472266404,0.7966206966485829,0.8039805923893715,0.8023421226439059,0.7817659909566631],\"type\":\"box\"},{\"marker\":{\"color\":\"rgb(0, 128, 128)\"},\"name\":\"ET\",\"y\":[0.7574919841450176,0.7771592314877932,0.8294453280820017,0.8126814612840516,0.7967886086495494,0.7591204019288545,0.812528520002028,0.8258268556622466,0.7877229080932784,0.7648732408677539],\"type\":\"box\"}],                        {\"template\":{\"data\":{\"barpolar\":[{\"marker\":{\"line\":{\"color\":\"#E5ECF6\",\"width\":0.5},\"pattern\":{\"fillmode\":\"overlay\",\"size\":10,\"solidity\":0.2}},\"type\":\"barpolar\"}],\"bar\":[{\"error_x\":{\"color\":\"#2a3f5f\"},\"error_y\":{\"color\":\"#2a3f5f\"},\"marker\":{\"line\":{\"color\":\"#E5ECF6\",\"width\":0.5},\"pattern\":{\"fillmode\":\"overlay\",\"size\":10,\"solidity\":0.2}},\"type\":\"bar\"}],\"carpet\":[{\"aaxis\":{\"endlinecolor\":\"#2a3f5f\",\"gridcolor\":\"white\",\"linecolor\":\"white\",\"minorgridcolor\":\"white\",\"startlinecolor\":\"#2a3f5f\"},\"baxis\":{\"endlinecolor\":\"#2a3f5f\",\"gridcolor\":\"white\",\"linecolor\":\"white\",\"minorgridcolor\":\"white\",\"startlinecolor\":\"#2a3f5f\"},\"type\":\"carpet\"}],\"choropleth\":[{\"colorbar\":{\"outlinewidth\":0,\"ticks\":\"\"},\"type\":\"choropleth\"}],\"contourcarpet\":[{\"colorbar\":{\"outlinewidth\":0,\"ticks\":\"\"},\"type\":\"contourcarpet\"}],\"contour\":[{\"colorbar\":{\"outlinewidth\":0,\"ticks\":\"\"},\"colorscale\":[[0.0,\"#0d0887\"],[0.1111111111111111,\"#46039f\"],[0.2222222222222222,\"#7201a8\"],[0.3333333333333333,\"#9c179e\"],[0.4444444444444444,\"#bd3786\"],[0.5555555555555556,\"#d8576b\"],[0.6666666666666666,\"#ed7953\"],[0.7777777777777778,\"#fb9f3a\"],[0.8888888888888888,\"#fdca26\"],[1.0,\"#f0f921\"]],\"type\":\"contour\"}],\"heatmapgl\":[{\"colorbar\":{\"outlinewidth\":0,\"ticks\":\"\"},\"colorscale\":[[0.0,\"#0d0887\"],[0.1111111111111111,\"#46039f\"],[0.2222222222222222,\"#7201a8\"],[0.3333333333333333,\"#9c179e\"],[0.4444444444444444,\"#bd3786\"],[0.5555555555555556,\"#d8576b\"],[0.6666666666666666,\"#ed7953\"],[0.7777777777777778,\"#fb9f3a\"],[0.8888888888888888,\"#fdca26\"],[1.0,\"#f0f921\"]],\"type\":\"heatmapgl\"}],\"heatmap\":[{\"colorbar\":{\"outlinewidth\":0,\"ticks\":\"\"},\"colorscale\":[[0.0,\"#0d0887\"],[0.1111111111111111,\"#46039f\"],[0.2222222222222222,\"#7201a8\"],[0.3333333333333333,\"#9c179e\"],[0.4444444444444444,\"#bd3786\"],[0.5555555555555556,\"#d8576b\"],[0.6666666666666666,\"#ed7953\"],[0.7777777777777778,\"#fb9f3a\"],[0.8888888888888888,\"#fdca26\"],[1.0,\"#f0f921\"]],\"type\":\"heatmap\"}],\"histogram2dcontour\":[{\"colorbar\":{\"outlinewidth\":0,\"ticks\":\"\"},\"colorscale\":[[0.0,\"#0d0887\"],[0.1111111111111111,\"#46039f\"],[0.2222222222222222,\"#7201a8\"],[0.3333333333333333,\"#9c179e\"],[0.4444444444444444,\"#bd3786\"],[0.5555555555555556,\"#d8576b\"],[0.6666666666666666,\"#ed7953\"],[0.7777777777777778,\"#fb9f3a\"],[0.8888888888888888,\"#fdca26\"],[1.0,\"#f0f921\"]],\"type\":\"histogram2dcontour\"}],\"histogram2d\":[{\"colorbar\":{\"outlinewidth\":0,\"ticks\":\"\"},\"colorscale\":[[0.0,\"#0d0887\"],[0.1111111111111111,\"#46039f\"],[0.2222222222222222,\"#7201a8\"],[0.3333333333333333,\"#9c179e\"],[0.4444444444444444,\"#bd3786\"],[0.5555555555555556,\"#d8576b\"],[0.6666666666666666,\"#ed7953\"],[0.7777777777777778,\"#fb9f3a\"],[0.8888888888888888,\"#fdca26\"],[1.0,\"#f0f921\"]],\"type\":\"histogram2d\"}],\"histogram\":[{\"marker\":{\"pattern\":{\"fillmode\":\"overlay\",\"size\":10,\"solidity\":0.2}},\"type\":\"histogram\"}],\"mesh3d\":[{\"colorbar\":{\"outlinewidth\":0,\"ticks\":\"\"},\"type\":\"mesh3d\"}],\"parcoords\":[{\"line\":{\"colorbar\":{\"outlinewidth\":0,\"ticks\":\"\"}},\"type\":\"parcoords\"}],\"pie\":[{\"automargin\":true,\"type\":\"pie\"}],\"scatter3d\":[{\"line\":{\"colorbar\":{\"outlinewidth\":0,\"ticks\":\"\"}},\"marker\":{\"colorbar\":{\"outlinewidth\":0,\"ticks\":\"\"}},\"type\":\"scatter3d\"}],\"scattercarpet\":[{\"marker\":{\"colorbar\":{\"outlinewidth\":0,\"ticks\":\"\"}},\"type\":\"scattercarpet\"}],\"scattergeo\":[{\"marker\":{\"colorbar\":{\"outlinewidth\":0,\"ticks\":\"\"}},\"type\":\"scattergeo\"}],\"scattergl\":[{\"marker\":{\"colorbar\":{\"outlinewidth\":0,\"ticks\":\"\"}},\"type\":\"scattergl\"}],\"scattermapbox\":[{\"marker\":{\"colorbar\":{\"outlinewidth\":0,\"ticks\":\"\"}},\"type\":\"scattermapbox\"}],\"scatterpolargl\":[{\"marker\":{\"colorbar\":{\"outlinewidth\":0,\"ticks\":\"\"}},\"type\":\"scatterpolargl\"}],\"scatterpolar\":[{\"marker\":{\"colorbar\":{\"outlinewidth\":0,\"ticks\":\"\"}},\"type\":\"scatterpolar\"}],\"scatter\":[{\"marker\":{\"colorbar\":{\"outlinewidth\":0,\"ticks\":\"\"}},\"type\":\"scatter\"}],\"scatterternary\":[{\"marker\":{\"colorbar\":{\"outlinewidth\":0,\"ticks\":\"\"}},\"type\":\"scatterternary\"}],\"surface\":[{\"colorbar\":{\"outlinewidth\":0,\"ticks\":\"\"},\"colorscale\":[[0.0,\"#0d0887\"],[0.1111111111111111,\"#46039f\"],[0.2222222222222222,\"#7201a8\"],[0.3333333333333333,\"#9c179e\"],[0.4444444444444444,\"#bd3786\"],[0.5555555555555556,\"#d8576b\"],[0.6666666666666666,\"#ed7953\"],[0.7777777777777778,\"#fb9f3a\"],[0.8888888888888888,\"#fdca26\"],[1.0,\"#f0f921\"]],\"type\":\"surface\"}],\"table\":[{\"cells\":{\"fill\":{\"color\":\"#EBF0F8\"},\"line\":{\"color\":\"white\"}},\"header\":{\"fill\":{\"color\":\"#C8D4E3\"},\"line\":{\"color\":\"white\"}},\"type\":\"table\"}]},\"layout\":{\"annotationdefaults\":{\"arrowcolor\":\"#2a3f5f\",\"arrowhead\":0,\"arrowwidth\":1},\"autotypenumbers\":\"strict\",\"coloraxis\":{\"colorbar\":{\"outlinewidth\":0,\"ticks\":\"\"}},\"colorscale\":{\"diverging\":[[0,\"#8e0152\"],[0.1,\"#c51b7d\"],[0.2,\"#de77ae\"],[0.3,\"#f1b6da\"],[0.4,\"#fde0ef\"],[0.5,\"#f7f7f7\"],[0.6,\"#e6f5d0\"],[0.7,\"#b8e186\"],[0.8,\"#7fbc41\"],[0.9,\"#4d9221\"],[1,\"#276419\"]],\"sequential\":[[0.0,\"#0d0887\"],[0.1111111111111111,\"#46039f\"],[0.2222222222222222,\"#7201a8\"],[0.3333333333333333,\"#9c179e\"],[0.4444444444444444,\"#bd3786\"],[0.5555555555555556,\"#d8576b\"],[0.6666666666666666,\"#ed7953\"],[0.7777777777777778,\"#fb9f3a\"],[0.8888888888888888,\"#fdca26\"],[1.0,\"#f0f921\"]],\"sequentialminus\":[[0.0,\"#0d0887\"],[0.1111111111111111,\"#46039f\"],[0.2222222222222222,\"#7201a8\"],[0.3333333333333333,\"#9c179e\"],[0.4444444444444444,\"#bd3786\"],[0.5555555555555556,\"#d8576b\"],[0.6666666666666666,\"#ed7953\"],[0.7777777777777778,\"#fb9f3a\"],[0.8888888888888888,\"#fdca26\"],[1.0,\"#f0f921\"]]},\"colorway\":[\"#636efa\",\"#EF553B\",\"#00cc96\",\"#ab63fa\",\"#FFA15A\",\"#19d3f3\",\"#FF6692\",\"#B6E880\",\"#FF97FF\",\"#FECB52\"],\"font\":{\"color\":\"#2a3f5f\"},\"geo\":{\"bgcolor\":\"white\",\"lakecolor\":\"white\",\"landcolor\":\"#E5ECF6\",\"showlakes\":true,\"showland\":true,\"subunitcolor\":\"white\"},\"hoverlabel\":{\"align\":\"left\"},\"hovermode\":\"closest\",\"mapbox\":{\"style\":\"light\"},\"paper_bgcolor\":\"white\",\"plot_bgcolor\":\"#E5ECF6\",\"polar\":{\"angularaxis\":{\"gridcolor\":\"white\",\"linecolor\":\"white\",\"ticks\":\"\"},\"bgcolor\":\"#E5ECF6\",\"radialaxis\":{\"gridcolor\":\"white\",\"linecolor\":\"white\",\"ticks\":\"\"}},\"scene\":{\"xaxis\":{\"backgroundcolor\":\"#E5ECF6\",\"gridcolor\":\"white\",\"gridwidth\":2,\"linecolor\":\"white\",\"showbackground\":true,\"ticks\":\"\",\"zerolinecolor\":\"white\"},\"yaxis\":{\"backgroundcolor\":\"#E5ECF6\",\"gridcolor\":\"white\",\"gridwidth\":2,\"linecolor\":\"white\",\"showbackground\":true,\"ticks\":\"\",\"zerolinecolor\":\"white\"},\"zaxis\":{\"backgroundcolor\":\"#E5ECF6\",\"gridcolor\":\"white\",\"gridwidth\":2,\"linecolor\":\"white\",\"showbackground\":true,\"ticks\":\"\",\"zerolinecolor\":\"white\"}},\"shapedefaults\":{\"line\":{\"color\":\"#2a3f5f\"}},\"ternary\":{\"aaxis\":{\"gridcolor\":\"white\",\"linecolor\":\"white\",\"ticks\":\"\"},\"baxis\":{\"gridcolor\":\"white\",\"linecolor\":\"white\",\"ticks\":\"\"},\"bgcolor\":\"#E5ECF6\",\"caxis\":{\"gridcolor\":\"white\",\"linecolor\":\"white\",\"ticks\":\"\"}},\"title\":{\"x\":0.05},\"xaxis\":{\"automargin\":true,\"gridcolor\":\"white\",\"linecolor\":\"white\",\"ticks\":\"\",\"title\":{\"standoff\":15},\"zerolinecolor\":\"white\",\"zerolinewidth\":2},\"yaxis\":{\"automargin\":true,\"gridcolor\":\"white\",\"linecolor\":\"white\",\"ticks\":\"\",\"title\":{\"standoff\":15},\"zerolinecolor\":\"white\",\"zerolinewidth\":2}}}},                        {\"responsive\": true}                    ).then(function(){\n",
              "                            \n",
              "var gd = document.getElementById('5c19e8de-42a5-4c5f-ae40-5725bd30e9c0');\n",
              "var x = new MutationObserver(function (mutations, observer) {{\n",
              "        var display = window.getComputedStyle(gd).display;\n",
              "        if (!display || display === 'none') {{\n",
              "            console.log([gd, 'removed!']);\n",
              "            Plotly.purge(gd);\n",
              "            observer.disconnect();\n",
              "        }}\n",
              "}});\n",
              "\n",
              "// Listen for the removal of the full notebook cells\n",
              "var notebookContainer = gd.closest('#notebook-container');\n",
              "if (notebookContainer) {{\n",
              "    x.observe(notebookContainer, {childList: true});\n",
              "}}\n",
              "\n",
              "// Listen for the clearing of the current output cell\n",
              "var outputEl = gd.closest('.output');\n",
              "if (outputEl) {{\n",
              "    x.observe(outputEl, {childList: true});\n",
              "}}\n",
              "\n",
              "                        })                };                            </script>        </div>\n",
              "</body>\n",
              "</html>"
            ]
          },
          "metadata": {}
        }
      ]
    },
    {
      "cell_type": "code",
      "source": [
        "print(f'Média dos 5 melhores: \\n{round(scaledScoreStandard_f[\"AUC\"].head().mean(),6)}')\n",
        "scaledScoreStandard_f.head().sort_values(by='AUC', ascending=False)"
      ],
      "metadata": {
        "colab": {
          "base_uri": "https://localhost:8080/",
          "height": 241
        },
        "id": "8z-jJ5JHd34B",
        "outputId": "dbf238ca-e572-4b78-cd02-1fe83e31e764"
      },
      "execution_count": null,
      "outputs": [
        {
          "output_type": "stream",
          "name": "stdout",
          "text": [
            "Média dos 5 melhores: \n",
            "0.79682\n"
          ]
        },
        {
          "output_type": "execute_result",
          "data": {
            "text/plain": [
              "            Model       AUC\n",
              "4  GBM_standard_f  0.815230\n",
              "0   LR_standard_f  0.812509\n",
              "3   AB_standard_f  0.806416\n",
              "2   NB_standard_f  0.795348\n",
              "1  KNN_standard_f  0.754597"
            ],
            "text/html": [
              "\n",
              "  <div id=\"df-329e1645-e28a-4e2f-9d30-00f366cba01b\">\n",
              "    <div class=\"colab-df-container\">\n",
              "      <div>\n",
              "<style scoped>\n",
              "    .dataframe tbody tr th:only-of-type {\n",
              "        vertical-align: middle;\n",
              "    }\n",
              "\n",
              "    .dataframe tbody tr th {\n",
              "        vertical-align: top;\n",
              "    }\n",
              "\n",
              "    .dataframe thead th {\n",
              "        text-align: right;\n",
              "    }\n",
              "</style>\n",
              "<table border=\"1\" class=\"dataframe\">\n",
              "  <thead>\n",
              "    <tr style=\"text-align: right;\">\n",
              "      <th></th>\n",
              "      <th>Model</th>\n",
              "      <th>AUC</th>\n",
              "    </tr>\n",
              "  </thead>\n",
              "  <tbody>\n",
              "    <tr>\n",
              "      <th>4</th>\n",
              "      <td>GBM_standard_f</td>\n",
              "      <td>0.815230</td>\n",
              "    </tr>\n",
              "    <tr>\n",
              "      <th>0</th>\n",
              "      <td>LR_standard_f</td>\n",
              "      <td>0.812509</td>\n",
              "    </tr>\n",
              "    <tr>\n",
              "      <th>3</th>\n",
              "      <td>AB_standard_f</td>\n",
              "      <td>0.806416</td>\n",
              "    </tr>\n",
              "    <tr>\n",
              "      <th>2</th>\n",
              "      <td>NB_standard_f</td>\n",
              "      <td>0.795348</td>\n",
              "    </tr>\n",
              "    <tr>\n",
              "      <th>1</th>\n",
              "      <td>KNN_standard_f</td>\n",
              "      <td>0.754597</td>\n",
              "    </tr>\n",
              "  </tbody>\n",
              "</table>\n",
              "</div>\n",
              "      <button class=\"colab-df-convert\" onclick=\"convertToInteractive('df-329e1645-e28a-4e2f-9d30-00f366cba01b')\"\n",
              "              title=\"Convert this dataframe to an interactive table.\"\n",
              "              style=\"display:none;\">\n",
              "        \n",
              "  <svg xmlns=\"http://www.w3.org/2000/svg\" height=\"24px\"viewBox=\"0 0 24 24\"\n",
              "       width=\"24px\">\n",
              "    <path d=\"M0 0h24v24H0V0z\" fill=\"none\"/>\n",
              "    <path d=\"M18.56 5.44l.94 2.06.94-2.06 2.06-.94-2.06-.94-.94-2.06-.94 2.06-2.06.94zm-11 1L8.5 8.5l.94-2.06 2.06-.94-2.06-.94L8.5 2.5l-.94 2.06-2.06.94zm10 10l.94 2.06.94-2.06 2.06-.94-2.06-.94-.94-2.06-.94 2.06-2.06.94z\"/><path d=\"M17.41 7.96l-1.37-1.37c-.4-.4-.92-.59-1.43-.59-.52 0-1.04.2-1.43.59L10.3 9.45l-7.72 7.72c-.78.78-.78 2.05 0 2.83L4 21.41c.39.39.9.59 1.41.59.51 0 1.02-.2 1.41-.59l7.78-7.78 2.81-2.81c.8-.78.8-2.07 0-2.86zM5.41 20L4 18.59l7.72-7.72 1.47 1.35L5.41 20z\"/>\n",
              "  </svg>\n",
              "      </button>\n",
              "      \n",
              "  <style>\n",
              "    .colab-df-container {\n",
              "      display:flex;\n",
              "      flex-wrap:wrap;\n",
              "      gap: 12px;\n",
              "    }\n",
              "\n",
              "    .colab-df-convert {\n",
              "      background-color: #E8F0FE;\n",
              "      border: none;\n",
              "      border-radius: 50%;\n",
              "      cursor: pointer;\n",
              "      display: none;\n",
              "      fill: #1967D2;\n",
              "      height: 32px;\n",
              "      padding: 0 0 0 0;\n",
              "      width: 32px;\n",
              "    }\n",
              "\n",
              "    .colab-df-convert:hover {\n",
              "      background-color: #E2EBFA;\n",
              "      box-shadow: 0px 1px 2px rgba(60, 64, 67, 0.3), 0px 1px 3px 1px rgba(60, 64, 67, 0.15);\n",
              "      fill: #174EA6;\n",
              "    }\n",
              "\n",
              "    [theme=dark] .colab-df-convert {\n",
              "      background-color: #3B4455;\n",
              "      fill: #D2E3FC;\n",
              "    }\n",
              "\n",
              "    [theme=dark] .colab-df-convert:hover {\n",
              "      background-color: #434B5C;\n",
              "      box-shadow: 0px 1px 3px 1px rgba(0, 0, 0, 0.15);\n",
              "      filter: drop-shadow(0px 1px 2px rgba(0, 0, 0, 0.3));\n",
              "      fill: #FFFFFF;\n",
              "    }\n",
              "  </style>\n",
              "\n",
              "      <script>\n",
              "        const buttonEl =\n",
              "          document.querySelector('#df-329e1645-e28a-4e2f-9d30-00f366cba01b button.colab-df-convert');\n",
              "        buttonEl.style.display =\n",
              "          google.colab.kernel.accessAllowed ? 'block' : 'none';\n",
              "\n",
              "        async function convertToInteractive(key) {\n",
              "          const element = document.querySelector('#df-329e1645-e28a-4e2f-9d30-00f366cba01b');\n",
              "          const dataTable =\n",
              "            await google.colab.kernel.invokeFunction('convertToInteractive',\n",
              "                                                     [key], {});\n",
              "          if (!dataTable) return;\n",
              "\n",
              "          const docLinkHtml = 'Like what you see? Visit the ' +\n",
              "            '<a target=\"_blank\" href=https://colab.research.google.com/notebooks/data_table.ipynb>data table notebook</a>'\n",
              "            + ' to learn more about interactive tables.';\n",
              "          element.innerHTML = '';\n",
              "          dataTable['output_type'] = 'display_data';\n",
              "          await google.colab.output.renderOutput(dataTable, element);\n",
              "          const docLink = document.createElement('div');\n",
              "          docLink.innerHTML = docLinkHtml;\n",
              "          element.appendChild(docLink);\n",
              "        }\n",
              "      </script>\n",
              "    </div>\n",
              "  </div>\n",
              "  "
            ]
          },
          "metadata": {},
          "execution_count": 37
        }
      ]
    },
    {
      "cell_type": "code",
      "source": [
        "# Dataset Filtrado com minmax\n",
        "models = GetScaledModel('minmax')\n",
        "names_f,results_f,dict_model_f = BasedLine2(X_train_f, y_train,models,'_minmax_f')\n",
        "PlotBoxR().PlotResult(names_f,results_f)\n",
        "\n",
        "scaledScoreMinMax_f = ScoreDataFrame(dict_model_f['Models'],dict_model_f['AUC'])\n",
        "compareModels_f = pd.concat([compareModels_f,\n",
        "                          scaledScoreMinMax_f], axis=0).sort_values(by='AUC', ascending=False)"
      ],
      "metadata": {
        "id": "LElngutPcBP1",
        "colab": {
          "base_uri": "https://localhost:8080/",
          "height": 542
        },
        "outputId": "c2cf5454-406f-499b-c702-086308be754b"
      },
      "execution_count": null,
      "outputs": [
        {
          "output_type": "display_data",
          "data": {
            "text/html": [
              "<html>\n",
              "<head><meta charset=\"utf-8\" /></head>\n",
              "<body>\n",
              "    <div>            <script src=\"https://cdnjs.cloudflare.com/ajax/libs/mathjax/2.7.5/MathJax.js?config=TeX-AMS-MML_SVG\"></script><script type=\"text/javascript\">if (window.MathJax) {MathJax.Hub.Config({SVG: {font: \"STIX-Web\"}});}</script>                <script type=\"text/javascript\">window.PlotlyConfig = {MathJaxConfig: 'local'};</script>\n",
              "        <script src=\"https://cdn.plot.ly/plotly-2.8.3.min.js\"></script>                <div id=\"c6ce12d4-faa4-4763-a560-c362d5f212ef\" class=\"plotly-graph-div\" style=\"height:525px; width:100%;\"></div>            <script type=\"text/javascript\">                                    window.PLOTLYENV=window.PLOTLYENV || {};                                    if (document.getElementById(\"c6ce12d4-faa4-4763-a560-c362d5f212ef\")) {                    Plotly.newPlot(                        \"c6ce12d4-faa4-4763-a560-c362d5f212ef\",                        [{\"marker\":{\"color\":\"rgb(0, 128, 128)\"},\"name\":\"LR\",\"y\":[0.8179706632331036,0.7739402661011385,0.8028225908253175,0.8296094321997526,0.8264535837814637,0.7836855260168144,0.8154185468742079,0.797744246303917,0.7833917593862723,0.8066859726667683],\"type\":\"box\"},{\"marker\":{\"color\":\"rgb(0, 128, 128)\"},\"name\":\"KNN\",\"y\":[0.7254790577898963,0.7646242015703502,0.7394026610113862,0.7633997323840541,0.7791158575071322,0.7714155873665076,0.7775059575115347,0.7931971752273536,0.764327084285932,0.745554539450287],\"type\":\"box\"},{\"marker\":{\"color\":\"rgb(0, 128, 128)\"},\"name\":\"NB\",\"y\":[0.8227927996162487,0.7842157085510868,0.7992249236284682,0.8148905551768537,0.7988209750309274,0.785781009366558,0.7741089083810779,0.788840623888635,0.7764060356652949,0.808641975308642],\"type\":\"box\"},{\"marker\":{\"color\":\"rgb(0, 128, 128)\"},\"name\":\"AB\",\"y\":[0.785692645610846,0.821341109343836,0.8438359968693984,0.7643717336968869,0.7772475952435052,0.8373728193087429,0.7895477361456167,0.8224229030127521,0.8172534674592289,0.8143194634964184],\"type\":\"box\"},{\"marker\":{\"color\":\"rgb(0, 128, 128)\"},\"name\":\"GBM\",\"y\":[0.8134136181170946,0.8117094599712187,0.7963720366583352,0.827690676361433,0.7923956676512914,0.7800626120326188,0.8354459260761549,0.8150561398160849,0.8485749123609206,0.816516791139562],\"type\":\"box\"},{\"marker\":{\"color\":\"rgb(0, 128, 128)\"},\"name\":\"RF\",\"y\":[0.7931656946653537,0.8162791284809008,0.8125552273473201,0.7905400287813376,0.7970158297356661,0.7459415789340806,0.8006008213760584,0.826906467510034,0.8135700858608953,0.8007036528984403],\"type\":\"box\"},{\"marker\":{\"color\":\"rgb(0, 128, 128)\"},\"name\":\"ET\",\"y\":[0.7866772703173521,0.8149410487515464,0.7771592314877933,0.8070766744931708,0.8303415890327955,0.7815647958797243,0.781372002230898,0.8112711476909007,0.8000939897373368,0.7803942488441803],\"type\":\"box\"}],                        {\"template\":{\"data\":{\"barpolar\":[{\"marker\":{\"line\":{\"color\":\"#E5ECF6\",\"width\":0.5},\"pattern\":{\"fillmode\":\"overlay\",\"size\":10,\"solidity\":0.2}},\"type\":\"barpolar\"}],\"bar\":[{\"error_x\":{\"color\":\"#2a3f5f\"},\"error_y\":{\"color\":\"#2a3f5f\"},\"marker\":{\"line\":{\"color\":\"#E5ECF6\",\"width\":0.5},\"pattern\":{\"fillmode\":\"overlay\",\"size\":10,\"solidity\":0.2}},\"type\":\"bar\"}],\"carpet\":[{\"aaxis\":{\"endlinecolor\":\"#2a3f5f\",\"gridcolor\":\"white\",\"linecolor\":\"white\",\"minorgridcolor\":\"white\",\"startlinecolor\":\"#2a3f5f\"},\"baxis\":{\"endlinecolor\":\"#2a3f5f\",\"gridcolor\":\"white\",\"linecolor\":\"white\",\"minorgridcolor\":\"white\",\"startlinecolor\":\"#2a3f5f\"},\"type\":\"carpet\"}],\"choropleth\":[{\"colorbar\":{\"outlinewidth\":0,\"ticks\":\"\"},\"type\":\"choropleth\"}],\"contourcarpet\":[{\"colorbar\":{\"outlinewidth\":0,\"ticks\":\"\"},\"type\":\"contourcarpet\"}],\"contour\":[{\"colorbar\":{\"outlinewidth\":0,\"ticks\":\"\"},\"colorscale\":[[0.0,\"#0d0887\"],[0.1111111111111111,\"#46039f\"],[0.2222222222222222,\"#7201a8\"],[0.3333333333333333,\"#9c179e\"],[0.4444444444444444,\"#bd3786\"],[0.5555555555555556,\"#d8576b\"],[0.6666666666666666,\"#ed7953\"],[0.7777777777777778,\"#fb9f3a\"],[0.8888888888888888,\"#fdca26\"],[1.0,\"#f0f921\"]],\"type\":\"contour\"}],\"heatmapgl\":[{\"colorbar\":{\"outlinewidth\":0,\"ticks\":\"\"},\"colorscale\":[[0.0,\"#0d0887\"],[0.1111111111111111,\"#46039f\"],[0.2222222222222222,\"#7201a8\"],[0.3333333333333333,\"#9c179e\"],[0.4444444444444444,\"#bd3786\"],[0.5555555555555556,\"#d8576b\"],[0.6666666666666666,\"#ed7953\"],[0.7777777777777778,\"#fb9f3a\"],[0.8888888888888888,\"#fdca26\"],[1.0,\"#f0f921\"]],\"type\":\"heatmapgl\"}],\"heatmap\":[{\"colorbar\":{\"outlinewidth\":0,\"ticks\":\"\"},\"colorscale\":[[0.0,\"#0d0887\"],[0.1111111111111111,\"#46039f\"],[0.2222222222222222,\"#7201a8\"],[0.3333333333333333,\"#9c179e\"],[0.4444444444444444,\"#bd3786\"],[0.5555555555555556,\"#d8576b\"],[0.6666666666666666,\"#ed7953\"],[0.7777777777777778,\"#fb9f3a\"],[0.8888888888888888,\"#fdca26\"],[1.0,\"#f0f921\"]],\"type\":\"heatmap\"}],\"histogram2dcontour\":[{\"colorbar\":{\"outlinewidth\":0,\"ticks\":\"\"},\"colorscale\":[[0.0,\"#0d0887\"],[0.1111111111111111,\"#46039f\"],[0.2222222222222222,\"#7201a8\"],[0.3333333333333333,\"#9c179e\"],[0.4444444444444444,\"#bd3786\"],[0.5555555555555556,\"#d8576b\"],[0.6666666666666666,\"#ed7953\"],[0.7777777777777778,\"#fb9f3a\"],[0.8888888888888888,\"#fdca26\"],[1.0,\"#f0f921\"]],\"type\":\"histogram2dcontour\"}],\"histogram2d\":[{\"colorbar\":{\"outlinewidth\":0,\"ticks\":\"\"},\"colorscale\":[[0.0,\"#0d0887\"],[0.1111111111111111,\"#46039f\"],[0.2222222222222222,\"#7201a8\"],[0.3333333333333333,\"#9c179e\"],[0.4444444444444444,\"#bd3786\"],[0.5555555555555556,\"#d8576b\"],[0.6666666666666666,\"#ed7953\"],[0.7777777777777778,\"#fb9f3a\"],[0.8888888888888888,\"#fdca26\"],[1.0,\"#f0f921\"]],\"type\":\"histogram2d\"}],\"histogram\":[{\"marker\":{\"pattern\":{\"fillmode\":\"overlay\",\"size\":10,\"solidity\":0.2}},\"type\":\"histogram\"}],\"mesh3d\":[{\"colorbar\":{\"outlinewidth\":0,\"ticks\":\"\"},\"type\":\"mesh3d\"}],\"parcoords\":[{\"line\":{\"colorbar\":{\"outlinewidth\":0,\"ticks\":\"\"}},\"type\":\"parcoords\"}],\"pie\":[{\"automargin\":true,\"type\":\"pie\"}],\"scatter3d\":[{\"line\":{\"colorbar\":{\"outlinewidth\":0,\"ticks\":\"\"}},\"marker\":{\"colorbar\":{\"outlinewidth\":0,\"ticks\":\"\"}},\"type\":\"scatter3d\"}],\"scattercarpet\":[{\"marker\":{\"colorbar\":{\"outlinewidth\":0,\"ticks\":\"\"}},\"type\":\"scattercarpet\"}],\"scattergeo\":[{\"marker\":{\"colorbar\":{\"outlinewidth\":0,\"ticks\":\"\"}},\"type\":\"scattergeo\"}],\"scattergl\":[{\"marker\":{\"colorbar\":{\"outlinewidth\":0,\"ticks\":\"\"}},\"type\":\"scattergl\"}],\"scattermapbox\":[{\"marker\":{\"colorbar\":{\"outlinewidth\":0,\"ticks\":\"\"}},\"type\":\"scattermapbox\"}],\"scatterpolargl\":[{\"marker\":{\"colorbar\":{\"outlinewidth\":0,\"ticks\":\"\"}},\"type\":\"scatterpolargl\"}],\"scatterpolar\":[{\"marker\":{\"colorbar\":{\"outlinewidth\":0,\"ticks\":\"\"}},\"type\":\"scatterpolar\"}],\"scatter\":[{\"marker\":{\"colorbar\":{\"outlinewidth\":0,\"ticks\":\"\"}},\"type\":\"scatter\"}],\"scatterternary\":[{\"marker\":{\"colorbar\":{\"outlinewidth\":0,\"ticks\":\"\"}},\"type\":\"scatterternary\"}],\"surface\":[{\"colorbar\":{\"outlinewidth\":0,\"ticks\":\"\"},\"colorscale\":[[0.0,\"#0d0887\"],[0.1111111111111111,\"#46039f\"],[0.2222222222222222,\"#7201a8\"],[0.3333333333333333,\"#9c179e\"],[0.4444444444444444,\"#bd3786\"],[0.5555555555555556,\"#d8576b\"],[0.6666666666666666,\"#ed7953\"],[0.7777777777777778,\"#fb9f3a\"],[0.8888888888888888,\"#fdca26\"],[1.0,\"#f0f921\"]],\"type\":\"surface\"}],\"table\":[{\"cells\":{\"fill\":{\"color\":\"#EBF0F8\"},\"line\":{\"color\":\"white\"}},\"header\":{\"fill\":{\"color\":\"#C8D4E3\"},\"line\":{\"color\":\"white\"}},\"type\":\"table\"}]},\"layout\":{\"annotationdefaults\":{\"arrowcolor\":\"#2a3f5f\",\"arrowhead\":0,\"arrowwidth\":1},\"autotypenumbers\":\"strict\",\"coloraxis\":{\"colorbar\":{\"outlinewidth\":0,\"ticks\":\"\"}},\"colorscale\":{\"diverging\":[[0,\"#8e0152\"],[0.1,\"#c51b7d\"],[0.2,\"#de77ae\"],[0.3,\"#f1b6da\"],[0.4,\"#fde0ef\"],[0.5,\"#f7f7f7\"],[0.6,\"#e6f5d0\"],[0.7,\"#b8e186\"],[0.8,\"#7fbc41\"],[0.9,\"#4d9221\"],[1,\"#276419\"]],\"sequential\":[[0.0,\"#0d0887\"],[0.1111111111111111,\"#46039f\"],[0.2222222222222222,\"#7201a8\"],[0.3333333333333333,\"#9c179e\"],[0.4444444444444444,\"#bd3786\"],[0.5555555555555556,\"#d8576b\"],[0.6666666666666666,\"#ed7953\"],[0.7777777777777778,\"#fb9f3a\"],[0.8888888888888888,\"#fdca26\"],[1.0,\"#f0f921\"]],\"sequentialminus\":[[0.0,\"#0d0887\"],[0.1111111111111111,\"#46039f\"],[0.2222222222222222,\"#7201a8\"],[0.3333333333333333,\"#9c179e\"],[0.4444444444444444,\"#bd3786\"],[0.5555555555555556,\"#d8576b\"],[0.6666666666666666,\"#ed7953\"],[0.7777777777777778,\"#fb9f3a\"],[0.8888888888888888,\"#fdca26\"],[1.0,\"#f0f921\"]]},\"colorway\":[\"#636efa\",\"#EF553B\",\"#00cc96\",\"#ab63fa\",\"#FFA15A\",\"#19d3f3\",\"#FF6692\",\"#B6E880\",\"#FF97FF\",\"#FECB52\"],\"font\":{\"color\":\"#2a3f5f\"},\"geo\":{\"bgcolor\":\"white\",\"lakecolor\":\"white\",\"landcolor\":\"#E5ECF6\",\"showlakes\":true,\"showland\":true,\"subunitcolor\":\"white\"},\"hoverlabel\":{\"align\":\"left\"},\"hovermode\":\"closest\",\"mapbox\":{\"style\":\"light\"},\"paper_bgcolor\":\"white\",\"plot_bgcolor\":\"#E5ECF6\",\"polar\":{\"angularaxis\":{\"gridcolor\":\"white\",\"linecolor\":\"white\",\"ticks\":\"\"},\"bgcolor\":\"#E5ECF6\",\"radialaxis\":{\"gridcolor\":\"white\",\"linecolor\":\"white\",\"ticks\":\"\"}},\"scene\":{\"xaxis\":{\"backgroundcolor\":\"#E5ECF6\",\"gridcolor\":\"white\",\"gridwidth\":2,\"linecolor\":\"white\",\"showbackground\":true,\"ticks\":\"\",\"zerolinecolor\":\"white\"},\"yaxis\":{\"backgroundcolor\":\"#E5ECF6\",\"gridcolor\":\"white\",\"gridwidth\":2,\"linecolor\":\"white\",\"showbackground\":true,\"ticks\":\"\",\"zerolinecolor\":\"white\"},\"zaxis\":{\"backgroundcolor\":\"#E5ECF6\",\"gridcolor\":\"white\",\"gridwidth\":2,\"linecolor\":\"white\",\"showbackground\":true,\"ticks\":\"\",\"zerolinecolor\":\"white\"}},\"shapedefaults\":{\"line\":{\"color\":\"#2a3f5f\"}},\"ternary\":{\"aaxis\":{\"gridcolor\":\"white\",\"linecolor\":\"white\",\"ticks\":\"\"},\"baxis\":{\"gridcolor\":\"white\",\"linecolor\":\"white\",\"ticks\":\"\"},\"bgcolor\":\"#E5ECF6\",\"caxis\":{\"gridcolor\":\"white\",\"linecolor\":\"white\",\"ticks\":\"\"}},\"title\":{\"x\":0.05},\"xaxis\":{\"automargin\":true,\"gridcolor\":\"white\",\"linecolor\":\"white\",\"ticks\":\"\",\"title\":{\"standoff\":15},\"zerolinecolor\":\"white\",\"zerolinewidth\":2},\"yaxis\":{\"automargin\":true,\"gridcolor\":\"white\",\"linecolor\":\"white\",\"ticks\":\"\",\"title\":{\"standoff\":15},\"zerolinecolor\":\"white\",\"zerolinewidth\":2}}}},                        {\"responsive\": true}                    ).then(function(){\n",
              "                            \n",
              "var gd = document.getElementById('c6ce12d4-faa4-4763-a560-c362d5f212ef');\n",
              "var x = new MutationObserver(function (mutations, observer) {{\n",
              "        var display = window.getComputedStyle(gd).display;\n",
              "        if (!display || display === 'none') {{\n",
              "            console.log([gd, 'removed!']);\n",
              "            Plotly.purge(gd);\n",
              "            observer.disconnect();\n",
              "        }}\n",
              "}});\n",
              "\n",
              "// Listen for the removal of the full notebook cells\n",
              "var notebookContainer = gd.closest('#notebook-container');\n",
              "if (notebookContainer) {{\n",
              "    x.observe(notebookContainer, {childList: true});\n",
              "}}\n",
              "\n",
              "// Listen for the clearing of the current output cell\n",
              "var outputEl = gd.closest('.output');\n",
              "if (outputEl) {{\n",
              "    x.observe(outputEl, {childList: true});\n",
              "}}\n",
              "\n",
              "                        })                };                            </script>        </div>\n",
              "</body>\n",
              "</html>"
            ]
          },
          "metadata": {}
        }
      ]
    },
    {
      "cell_type": "code",
      "source": [
        "print(f'Média dos 5 melhores: \\n{round(scaledScoreMinMax_f[\"AUC\"].head().mean(),6)}')\n",
        "scaledScoreMinMax_f.head().sort_values(by='AUC', ascending=False)"
      ],
      "metadata": {
        "colab": {
          "base_uri": "https://localhost:8080/",
          "height": 241
        },
        "id": "Zk6Mh59dcBSf",
        "outputId": "ff3f415e-be2d-4530-81ce-64ffc2919a20"
      },
      "execution_count": null,
      "outputs": [
        {
          "output_type": "stream",
          "name": "stdout",
          "text": [
            "Média dos 5 melhores: \n",
            "0.796522\n"
          ]
        },
        {
          "output_type": "execute_result",
          "data": {
            "text/plain": [
              "          Model       AUC\n",
              "4  GBM_minmax_f  0.813724\n",
              "3   AB_minmax_f  0.807341\n",
              "0   LR_minmax_f  0.803772\n",
              "2   NB_minmax_f  0.795372\n",
              "1  KNN_minmax_f  0.762402"
            ],
            "text/html": [
              "\n",
              "  <div id=\"df-4bcb58d1-f015-4b26-8711-12cc0c81ec96\">\n",
              "    <div class=\"colab-df-container\">\n",
              "      <div>\n",
              "<style scoped>\n",
              "    .dataframe tbody tr th:only-of-type {\n",
              "        vertical-align: middle;\n",
              "    }\n",
              "\n",
              "    .dataframe tbody tr th {\n",
              "        vertical-align: top;\n",
              "    }\n",
              "\n",
              "    .dataframe thead th {\n",
              "        text-align: right;\n",
              "    }\n",
              "</style>\n",
              "<table border=\"1\" class=\"dataframe\">\n",
              "  <thead>\n",
              "    <tr style=\"text-align: right;\">\n",
              "      <th></th>\n",
              "      <th>Model</th>\n",
              "      <th>AUC</th>\n",
              "    </tr>\n",
              "  </thead>\n",
              "  <tbody>\n",
              "    <tr>\n",
              "      <th>4</th>\n",
              "      <td>GBM_minmax_f</td>\n",
              "      <td>0.813724</td>\n",
              "    </tr>\n",
              "    <tr>\n",
              "      <th>3</th>\n",
              "      <td>AB_minmax_f</td>\n",
              "      <td>0.807341</td>\n",
              "    </tr>\n",
              "    <tr>\n",
              "      <th>0</th>\n",
              "      <td>LR_minmax_f</td>\n",
              "      <td>0.803772</td>\n",
              "    </tr>\n",
              "    <tr>\n",
              "      <th>2</th>\n",
              "      <td>NB_minmax_f</td>\n",
              "      <td>0.795372</td>\n",
              "    </tr>\n",
              "    <tr>\n",
              "      <th>1</th>\n",
              "      <td>KNN_minmax_f</td>\n",
              "      <td>0.762402</td>\n",
              "    </tr>\n",
              "  </tbody>\n",
              "</table>\n",
              "</div>\n",
              "      <button class=\"colab-df-convert\" onclick=\"convertToInteractive('df-4bcb58d1-f015-4b26-8711-12cc0c81ec96')\"\n",
              "              title=\"Convert this dataframe to an interactive table.\"\n",
              "              style=\"display:none;\">\n",
              "        \n",
              "  <svg xmlns=\"http://www.w3.org/2000/svg\" height=\"24px\"viewBox=\"0 0 24 24\"\n",
              "       width=\"24px\">\n",
              "    <path d=\"M0 0h24v24H0V0z\" fill=\"none\"/>\n",
              "    <path d=\"M18.56 5.44l.94 2.06.94-2.06 2.06-.94-2.06-.94-.94-2.06-.94 2.06-2.06.94zm-11 1L8.5 8.5l.94-2.06 2.06-.94-2.06-.94L8.5 2.5l-.94 2.06-2.06.94zm10 10l.94 2.06.94-2.06 2.06-.94-2.06-.94-.94-2.06-.94 2.06-2.06.94z\"/><path d=\"M17.41 7.96l-1.37-1.37c-.4-.4-.92-.59-1.43-.59-.52 0-1.04.2-1.43.59L10.3 9.45l-7.72 7.72c-.78.78-.78 2.05 0 2.83L4 21.41c.39.39.9.59 1.41.59.51 0 1.02-.2 1.41-.59l7.78-7.78 2.81-2.81c.8-.78.8-2.07 0-2.86zM5.41 20L4 18.59l7.72-7.72 1.47 1.35L5.41 20z\"/>\n",
              "  </svg>\n",
              "      </button>\n",
              "      \n",
              "  <style>\n",
              "    .colab-df-container {\n",
              "      display:flex;\n",
              "      flex-wrap:wrap;\n",
              "      gap: 12px;\n",
              "    }\n",
              "\n",
              "    .colab-df-convert {\n",
              "      background-color: #E8F0FE;\n",
              "      border: none;\n",
              "      border-radius: 50%;\n",
              "      cursor: pointer;\n",
              "      display: none;\n",
              "      fill: #1967D2;\n",
              "      height: 32px;\n",
              "      padding: 0 0 0 0;\n",
              "      width: 32px;\n",
              "    }\n",
              "\n",
              "    .colab-df-convert:hover {\n",
              "      background-color: #E2EBFA;\n",
              "      box-shadow: 0px 1px 2px rgba(60, 64, 67, 0.3), 0px 1px 3px 1px rgba(60, 64, 67, 0.15);\n",
              "      fill: #174EA6;\n",
              "    }\n",
              "\n",
              "    [theme=dark] .colab-df-convert {\n",
              "      background-color: #3B4455;\n",
              "      fill: #D2E3FC;\n",
              "    }\n",
              "\n",
              "    [theme=dark] .colab-df-convert:hover {\n",
              "      background-color: #434B5C;\n",
              "      box-shadow: 0px 1px 3px 1px rgba(0, 0, 0, 0.15);\n",
              "      filter: drop-shadow(0px 1px 2px rgba(0, 0, 0, 0.3));\n",
              "      fill: #FFFFFF;\n",
              "    }\n",
              "  </style>\n",
              "\n",
              "      <script>\n",
              "        const buttonEl =\n",
              "          document.querySelector('#df-4bcb58d1-f015-4b26-8711-12cc0c81ec96 button.colab-df-convert');\n",
              "        buttonEl.style.display =\n",
              "          google.colab.kernel.accessAllowed ? 'block' : 'none';\n",
              "\n",
              "        async function convertToInteractive(key) {\n",
              "          const element = document.querySelector('#df-4bcb58d1-f015-4b26-8711-12cc0c81ec96');\n",
              "          const dataTable =\n",
              "            await google.colab.kernel.invokeFunction('convertToInteractive',\n",
              "                                                     [key], {});\n",
              "          if (!dataTable) return;\n",
              "\n",
              "          const docLinkHtml = 'Like what you see? Visit the ' +\n",
              "            '<a target=\"_blank\" href=https://colab.research.google.com/notebooks/data_table.ipynb>data table notebook</a>'\n",
              "            + ' to learn more about interactive tables.';\n",
              "          element.innerHTML = '';\n",
              "          dataTable['output_type'] = 'display_data';\n",
              "          await google.colab.output.renderOutput(dataTable, element);\n",
              "          const docLink = document.createElement('div');\n",
              "          docLink.innerHTML = docLinkHtml;\n",
              "          element.appendChild(docLink);\n",
              "        }\n",
              "      </script>\n",
              "    </div>\n",
              "  </div>\n",
              "  "
            ]
          },
          "metadata": {},
          "execution_count": 39
        }
      ]
    },
    {
      "cell_type": "markdown",
      "source": [
        "### Conjunto de modelos para tunar os hiperparâmetros"
      ],
      "metadata": {
        "id": "F7ijVp7hpBQq"
      }
    },
    {
      "cell_type": "code",
      "source": [
        "# Conjunto de modelos a serem tunados (Todas as características)\n",
        "print(f'Média: {round(basedLineScore[\"AUC\"].head().mean(),6)}')\n",
        "basedLineScore.head().sort_values(by='AUC', ascending=False)"
      ],
      "metadata": {
        "colab": {
          "base_uri": "https://localhost:8080/",
          "height": 224
        },
        "id": "SrX4P9kSl4ro",
        "outputId": "d1c30802-8413-4261-eca3-4f6a75b72810"
      },
      "execution_count": null,
      "outputs": [
        {
          "output_type": "stream",
          "name": "stdout",
          "text": [
            "Média: 0.806669\n"
          ]
        },
        {
          "output_type": "execute_result",
          "data": {
            "text/plain": [
              "           Model       AUC\n",
              "4  GBM_BasedLine  0.814503\n",
              "0   LR_BasedLine  0.813957\n",
              "3   AB_BasedLine  0.805442\n",
              "5   RF_BasedLine  0.800480\n",
              "2   NB_BasedLine  0.798962"
            ],
            "text/html": [
              "\n",
              "  <div id=\"df-1e2fb4ec-afdc-4665-af27-ae62ec7adf8a\">\n",
              "    <div class=\"colab-df-container\">\n",
              "      <div>\n",
              "<style scoped>\n",
              "    .dataframe tbody tr th:only-of-type {\n",
              "        vertical-align: middle;\n",
              "    }\n",
              "\n",
              "    .dataframe tbody tr th {\n",
              "        vertical-align: top;\n",
              "    }\n",
              "\n",
              "    .dataframe thead th {\n",
              "        text-align: right;\n",
              "    }\n",
              "</style>\n",
              "<table border=\"1\" class=\"dataframe\">\n",
              "  <thead>\n",
              "    <tr style=\"text-align: right;\">\n",
              "      <th></th>\n",
              "      <th>Model</th>\n",
              "      <th>AUC</th>\n",
              "    </tr>\n",
              "  </thead>\n",
              "  <tbody>\n",
              "    <tr>\n",
              "      <th>4</th>\n",
              "      <td>GBM_BasedLine</td>\n",
              "      <td>0.814503</td>\n",
              "    </tr>\n",
              "    <tr>\n",
              "      <th>0</th>\n",
              "      <td>LR_BasedLine</td>\n",
              "      <td>0.813957</td>\n",
              "    </tr>\n",
              "    <tr>\n",
              "      <th>3</th>\n",
              "      <td>AB_BasedLine</td>\n",
              "      <td>0.805442</td>\n",
              "    </tr>\n",
              "    <tr>\n",
              "      <th>5</th>\n",
              "      <td>RF_BasedLine</td>\n",
              "      <td>0.800480</td>\n",
              "    </tr>\n",
              "    <tr>\n",
              "      <th>2</th>\n",
              "      <td>NB_BasedLine</td>\n",
              "      <td>0.798962</td>\n",
              "    </tr>\n",
              "  </tbody>\n",
              "</table>\n",
              "</div>\n",
              "      <button class=\"colab-df-convert\" onclick=\"convertToInteractive('df-1e2fb4ec-afdc-4665-af27-ae62ec7adf8a')\"\n",
              "              title=\"Convert this dataframe to an interactive table.\"\n",
              "              style=\"display:none;\">\n",
              "        \n",
              "  <svg xmlns=\"http://www.w3.org/2000/svg\" height=\"24px\"viewBox=\"0 0 24 24\"\n",
              "       width=\"24px\">\n",
              "    <path d=\"M0 0h24v24H0V0z\" fill=\"none\"/>\n",
              "    <path d=\"M18.56 5.44l.94 2.06.94-2.06 2.06-.94-2.06-.94-.94-2.06-.94 2.06-2.06.94zm-11 1L8.5 8.5l.94-2.06 2.06-.94-2.06-.94L8.5 2.5l-.94 2.06-2.06.94zm10 10l.94 2.06.94-2.06 2.06-.94-2.06-.94-.94-2.06-.94 2.06-2.06.94z\"/><path d=\"M17.41 7.96l-1.37-1.37c-.4-.4-.92-.59-1.43-.59-.52 0-1.04.2-1.43.59L10.3 9.45l-7.72 7.72c-.78.78-.78 2.05 0 2.83L4 21.41c.39.39.9.59 1.41.59.51 0 1.02-.2 1.41-.59l7.78-7.78 2.81-2.81c.8-.78.8-2.07 0-2.86zM5.41 20L4 18.59l7.72-7.72 1.47 1.35L5.41 20z\"/>\n",
              "  </svg>\n",
              "      </button>\n",
              "      \n",
              "  <style>\n",
              "    .colab-df-container {\n",
              "      display:flex;\n",
              "      flex-wrap:wrap;\n",
              "      gap: 12px;\n",
              "    }\n",
              "\n",
              "    .colab-df-convert {\n",
              "      background-color: #E8F0FE;\n",
              "      border: none;\n",
              "      border-radius: 50%;\n",
              "      cursor: pointer;\n",
              "      display: none;\n",
              "      fill: #1967D2;\n",
              "      height: 32px;\n",
              "      padding: 0 0 0 0;\n",
              "      width: 32px;\n",
              "    }\n",
              "\n",
              "    .colab-df-convert:hover {\n",
              "      background-color: #E2EBFA;\n",
              "      box-shadow: 0px 1px 2px rgba(60, 64, 67, 0.3), 0px 1px 3px 1px rgba(60, 64, 67, 0.15);\n",
              "      fill: #174EA6;\n",
              "    }\n",
              "\n",
              "    [theme=dark] .colab-df-convert {\n",
              "      background-color: #3B4455;\n",
              "      fill: #D2E3FC;\n",
              "    }\n",
              "\n",
              "    [theme=dark] .colab-df-convert:hover {\n",
              "      background-color: #434B5C;\n",
              "      box-shadow: 0px 1px 3px 1px rgba(0, 0, 0, 0.15);\n",
              "      filter: drop-shadow(0px 1px 2px rgba(0, 0, 0, 0.3));\n",
              "      fill: #FFFFFF;\n",
              "    }\n",
              "  </style>\n",
              "\n",
              "      <script>\n",
              "        const buttonEl =\n",
              "          document.querySelector('#df-1e2fb4ec-afdc-4665-af27-ae62ec7adf8a button.colab-df-convert');\n",
              "        buttonEl.style.display =\n",
              "          google.colab.kernel.accessAllowed ? 'block' : 'none';\n",
              "\n",
              "        async function convertToInteractive(key) {\n",
              "          const element = document.querySelector('#df-1e2fb4ec-afdc-4665-af27-ae62ec7adf8a');\n",
              "          const dataTable =\n",
              "            await google.colab.kernel.invokeFunction('convertToInteractive',\n",
              "                                                     [key], {});\n",
              "          if (!dataTable) return;\n",
              "\n",
              "          const docLinkHtml = 'Like what you see? Visit the ' +\n",
              "            '<a target=\"_blank\" href=https://colab.research.google.com/notebooks/data_table.ipynb>data table notebook</a>'\n",
              "            + ' to learn more about interactive tables.';\n",
              "          element.innerHTML = '';\n",
              "          dataTable['output_type'] = 'display_data';\n",
              "          await google.colab.output.renderOutput(dataTable, element);\n",
              "          const docLink = document.createElement('div');\n",
              "          docLink.innerHTML = docLinkHtml;\n",
              "          element.appendChild(docLink);\n",
              "        }\n",
              "      </script>\n",
              "    </div>\n",
              "  </div>\n",
              "  "
            ]
          },
          "metadata": {},
          "execution_count": 40
        }
      ]
    },
    {
      "cell_type": "code",
      "source": [
        "# Conjunto de modelos a serem tunados (Características Selecionadas)\n",
        "print(f'Média: {round(basedLineScore_f[\"AUC\"].head().mean(),6)}')\n",
        "basedLineScore_f.head().sort_values(by='AUC', ascending=False)"
      ],
      "metadata": {
        "colab": {
          "base_uri": "https://localhost:8080/",
          "height": 224
        },
        "id": "61lMoTZDkf2d",
        "outputId": "01825e89-2a04-4685-bcd8-2f2b094ef37a"
      },
      "execution_count": null,
      "outputs": [
        {
          "output_type": "stream",
          "name": "stdout",
          "text": [
            "Média: 0.806134\n"
          ]
        },
        {
          "output_type": "execute_result",
          "data": {
            "text/plain": [
              "             Model       AUC\n",
              "4  GBM_BasedLine_f  0.814946\n",
              "0   LR_BasedLine_f  0.814227\n",
              "3   AB_BasedLine_f  0.806018\n",
              "5   RF_BasedLine_f  0.798552\n",
              "2   NB_BasedLine_f  0.796928"
            ],
            "text/html": [
              "\n",
              "  <div id=\"df-623e7e6d-c0dd-4d31-99ac-86830315ec9a\">\n",
              "    <div class=\"colab-df-container\">\n",
              "      <div>\n",
              "<style scoped>\n",
              "    .dataframe tbody tr th:only-of-type {\n",
              "        vertical-align: middle;\n",
              "    }\n",
              "\n",
              "    .dataframe tbody tr th {\n",
              "        vertical-align: top;\n",
              "    }\n",
              "\n",
              "    .dataframe thead th {\n",
              "        text-align: right;\n",
              "    }\n",
              "</style>\n",
              "<table border=\"1\" class=\"dataframe\">\n",
              "  <thead>\n",
              "    <tr style=\"text-align: right;\">\n",
              "      <th></th>\n",
              "      <th>Model</th>\n",
              "      <th>AUC</th>\n",
              "    </tr>\n",
              "  </thead>\n",
              "  <tbody>\n",
              "    <tr>\n",
              "      <th>4</th>\n",
              "      <td>GBM_BasedLine_f</td>\n",
              "      <td>0.814946</td>\n",
              "    </tr>\n",
              "    <tr>\n",
              "      <th>0</th>\n",
              "      <td>LR_BasedLine_f</td>\n",
              "      <td>0.814227</td>\n",
              "    </tr>\n",
              "    <tr>\n",
              "      <th>3</th>\n",
              "      <td>AB_BasedLine_f</td>\n",
              "      <td>0.806018</td>\n",
              "    </tr>\n",
              "    <tr>\n",
              "      <th>5</th>\n",
              "      <td>RF_BasedLine_f</td>\n",
              "      <td>0.798552</td>\n",
              "    </tr>\n",
              "    <tr>\n",
              "      <th>2</th>\n",
              "      <td>NB_BasedLine_f</td>\n",
              "      <td>0.796928</td>\n",
              "    </tr>\n",
              "  </tbody>\n",
              "</table>\n",
              "</div>\n",
              "      <button class=\"colab-df-convert\" onclick=\"convertToInteractive('df-623e7e6d-c0dd-4d31-99ac-86830315ec9a')\"\n",
              "              title=\"Convert this dataframe to an interactive table.\"\n",
              "              style=\"display:none;\">\n",
              "        \n",
              "  <svg xmlns=\"http://www.w3.org/2000/svg\" height=\"24px\"viewBox=\"0 0 24 24\"\n",
              "       width=\"24px\">\n",
              "    <path d=\"M0 0h24v24H0V0z\" fill=\"none\"/>\n",
              "    <path d=\"M18.56 5.44l.94 2.06.94-2.06 2.06-.94-2.06-.94-.94-2.06-.94 2.06-2.06.94zm-11 1L8.5 8.5l.94-2.06 2.06-.94-2.06-.94L8.5 2.5l-.94 2.06-2.06.94zm10 10l.94 2.06.94-2.06 2.06-.94-2.06-.94-.94-2.06-.94 2.06-2.06.94z\"/><path d=\"M17.41 7.96l-1.37-1.37c-.4-.4-.92-.59-1.43-.59-.52 0-1.04.2-1.43.59L10.3 9.45l-7.72 7.72c-.78.78-.78 2.05 0 2.83L4 21.41c.39.39.9.59 1.41.59.51 0 1.02-.2 1.41-.59l7.78-7.78 2.81-2.81c.8-.78.8-2.07 0-2.86zM5.41 20L4 18.59l7.72-7.72 1.47 1.35L5.41 20z\"/>\n",
              "  </svg>\n",
              "      </button>\n",
              "      \n",
              "  <style>\n",
              "    .colab-df-container {\n",
              "      display:flex;\n",
              "      flex-wrap:wrap;\n",
              "      gap: 12px;\n",
              "    }\n",
              "\n",
              "    .colab-df-convert {\n",
              "      background-color: #E8F0FE;\n",
              "      border: none;\n",
              "      border-radius: 50%;\n",
              "      cursor: pointer;\n",
              "      display: none;\n",
              "      fill: #1967D2;\n",
              "      height: 32px;\n",
              "      padding: 0 0 0 0;\n",
              "      width: 32px;\n",
              "    }\n",
              "\n",
              "    .colab-df-convert:hover {\n",
              "      background-color: #E2EBFA;\n",
              "      box-shadow: 0px 1px 2px rgba(60, 64, 67, 0.3), 0px 1px 3px 1px rgba(60, 64, 67, 0.15);\n",
              "      fill: #174EA6;\n",
              "    }\n",
              "\n",
              "    [theme=dark] .colab-df-convert {\n",
              "      background-color: #3B4455;\n",
              "      fill: #D2E3FC;\n",
              "    }\n",
              "\n",
              "    [theme=dark] .colab-df-convert:hover {\n",
              "      background-color: #434B5C;\n",
              "      box-shadow: 0px 1px 3px 1px rgba(0, 0, 0, 0.15);\n",
              "      filter: drop-shadow(0px 1px 2px rgba(0, 0, 0, 0.3));\n",
              "      fill: #FFFFFF;\n",
              "    }\n",
              "  </style>\n",
              "\n",
              "      <script>\n",
              "        const buttonEl =\n",
              "          document.querySelector('#df-623e7e6d-c0dd-4d31-99ac-86830315ec9a button.colab-df-convert');\n",
              "        buttonEl.style.display =\n",
              "          google.colab.kernel.accessAllowed ? 'block' : 'none';\n",
              "\n",
              "        async function convertToInteractive(key) {\n",
              "          const element = document.querySelector('#df-623e7e6d-c0dd-4d31-99ac-86830315ec9a');\n",
              "          const dataTable =\n",
              "            await google.colab.kernel.invokeFunction('convertToInteractive',\n",
              "                                                     [key], {});\n",
              "          if (!dataTable) return;\n",
              "\n",
              "          const docLinkHtml = 'Like what you see? Visit the ' +\n",
              "            '<a target=\"_blank\" href=https://colab.research.google.com/notebooks/data_table.ipynb>data table notebook</a>'\n",
              "            + ' to learn more about interactive tables.';\n",
              "          element.innerHTML = '';\n",
              "          dataTable['output_type'] = 'display_data';\n",
              "          await google.colab.output.renderOutput(dataTable, element);\n",
              "          const docLink = document.createElement('div');\n",
              "          docLink.innerHTML = docLinkHtml;\n",
              "          element.appendChild(docLink);\n",
              "        }\n",
              "      </script>\n",
              "    </div>\n",
              "  </div>\n",
              "  "
            ]
          },
          "metadata": {},
          "execution_count": 41
        }
      ]
    },
    {
      "cell_type": "markdown",
      "source": [
        "### Tunando os modelos com todos os dados"
      ],
      "metadata": {
        "id": "_ADPU9Cdmekt"
      }
    },
    {
      "cell_type": "code",
      "source": [
        "class RandomSearch(object):\n",
        "    \n",
        "    def __init__(self,X_train,y_train,model,hyperparameters):\n",
        "        self.X_train = X_train\n",
        "        self.y_train = y_train\n",
        "        self.model = model\n",
        "        self.hyperparameters = hyperparameters\n",
        "        \n",
        "    def RandomSearch(self):\n",
        "        # Função cria randomized search com 10-folds cross validation e 100 iterações\n",
        "        cv = 4\n",
        "        clf = RandomizedSearchCV(self.model,\n",
        "                                 self.hyperparameters,\n",
        "                                 random_state=seed,\n",
        "                                 n_iter=100,\n",
        "                                 cv=cv,\n",
        "                                 verbose=0,\n",
        "                                 n_jobs=-1,\n",
        "                                 scoring='roc_auc'\n",
        "                                 )\n",
        "        # Fit randomized search\n",
        "        best_model = clf.fit(self.X_train, self.y_train)\n",
        "        message = (best_model.best_score_, best_model.best_params_)\n",
        "        print(\"Melhor Score ROC_AUC: %f Usando %s\" % (message))\n",
        "        return best_model,best_model.best_params_\n",
        "    \n",
        "    def BestModelPridict(self,X_test):\n",
        "        best_model,_ = self.RandomSearch()\n",
        "        pred = best_model.predict(X_test)\n",
        "        return pred"
      ],
      "metadata": {
        "id": "t6Ijr6whgjyR"
      },
      "execution_count": null,
      "outputs": []
    },
    {
      "cell_type": "code",
      "source": [
        "class GridSearch(object):\n",
        "    def __init__(self,X_train,y_train,model,hyperparameters,return_results_cv=False):\n",
        "        self.X_train = X_train\n",
        "        self.y_train = y_train\n",
        "        self.model = model\n",
        "        self.hyperparameters = hyperparameters\n",
        "        \n",
        "    def GridSearch(self):\n",
        "        # Função cria randomized search com 10-folds cross validation e 100 iterações\n",
        "        cv = 4\n",
        "        clf = GridSearchCV(self.model,\n",
        "                                 self.hyperparameters,\n",
        "                                 cv=cv,\n",
        "                                 verbose=0,\n",
        "                                 n_jobs=-1,\n",
        "                                scoring='roc_auc'\n",
        "                                 )\n",
        "        # Fit randomized search\n",
        "        best_model = clf.fit(self.X_train, self.y_train)\n",
        "        message = (best_model.best_score_, best_model.best_params_)\n",
        "        print(\"Melhor Score ROC_AUC: %f Usando %s\" % (message))\n",
        "\n",
        "        return best_model,best_model.best_params_, best_model.cv_results_\n",
        "        \n",
        "    def BestModelPridict(self,X_test):\n",
        "        best_model,_,cv_result = self.GridSearch()\n",
        "        pred = best_model.predict(X_test)\n",
        "        return pred, cv_result"
      ],
      "metadata": {
        "id": "x0PuHpCygjyS"
      },
      "execution_count": null,
      "outputs": []
    },
    {
      "cell_type": "code",
      "source": [
        "def floatingDecimals(f_val, dec=6):\n",
        "        prc = \"{:.\"+str(dec)+\"f}\"\n",
        "        return float(prc.format(f_val))"
      ],
      "metadata": {
        "id": "xknM_AWDhVrL"
      },
      "execution_count": null,
      "outputs": []
    },
    {
      "cell_type": "code",
      "source": [
        "model = LogisticRegression()\n",
        "\n",
        "# Penalização\n",
        "penalty = ['l1', 'l2']\n",
        "\n",
        "# Criar distribuição de hiperparâmetros de regularização usando distribuição uniforme\n",
        "C = uniform(loc=0, scale=4)\n",
        "\n",
        "# Cria opções de hiperparâmetro\n",
        "hyperparameters_lr = dict(C=C, penalty=penalty)"
      ],
      "metadata": {
        "id": "mGdjnciMgjyT"
      },
      "execution_count": null,
      "outputs": []
    },
    {
      "cell_type": "code",
      "source": [
        "LR_RandSearch = RandomSearch(X_train,y_train,model,hyperparameters_lr)"
      ],
      "metadata": {
        "id": "dRLV80nkgjyT"
      },
      "execution_count": null,
      "outputs": []
    },
    {
      "cell_type": "code",
      "source": [
        "%%time\n",
        "y_pred_lr = LR_RandSearch.BestModelPridict(X_test)\n",
        "mean_score_lr = (y_test == y_pred_lr).mean()\n",
        "print('Predição com os dados de X_test:' ,floatingDecimals(mean_score_lr))"
      ],
      "metadata": {
        "colab": {
          "base_uri": "https://localhost:8080/"
        },
        "id": "kVUn8_geB6q7",
        "outputId": "530ddc64-c1f0-4adf-e6e7-73aad0aabab5"
      },
      "execution_count": null,
      "outputs": [
        {
          "output_type": "stream",
          "name": "stdout",
          "text": [
            "Melhor Score ROC_AUC: 0.813934 Usando {'C': 0.8134181039835928, 'penalty': 'l2'}\n",
            "Predição com os dados de X_test: 0.741231\n",
            "CPU times: user 1.13 s, sys: 132 ms, total: 1.26 s\n",
            "Wall time: 11.1 s\n"
          ]
        }
      ]
    },
    {
      "cell_type": "code",
      "source": [
        "learning_rate_value = [.01,.05,.1,.5,1]\n",
        "n_estimators_value = [50,100,150,200,250,300]\n",
        "param_grid_ada = dict(learning_rate=learning_rate_value, n_estimators=n_estimators_value)"
      ],
      "metadata": {
        "id": "wEwH7DWJ3llJ"
      },
      "execution_count": null,
      "outputs": []
    },
    {
      "cell_type": "code",
      "source": [
        "%%time\n",
        "model_Ad = AdaBoostClassifier()\n",
        "Ad_GridSearch = GridSearch(X_train,y_train,model_Ad,param_grid_ada)\n",
        "\n",
        "y_pred_ada = Ad_GridSearch.BestModelPridict(X_test)\n",
        "\n",
        "mean_score_ada = (y_test == y_pred_ada[0]).mean()\n",
        "print('Predição com os dados de X_test:' ,floatingDecimals(mean_score_ada))"
      ],
      "metadata": {
        "colab": {
          "base_uri": "https://localhost:8080/"
        },
        "id": "w7Ilj3uf3lnJ",
        "outputId": "a38e9e79-f24d-4b1b-e477-f627264b35de"
      },
      "execution_count": null,
      "outputs": [
        {
          "output_type": "stream",
          "name": "stdout",
          "text": [
            "Melhor Score ROC_AUC: 0.812896 Usando {'learning_rate': 0.05, 'n_estimators': 250}\n",
            "Predição com os dados de X_test: 0.743531\n",
            "CPU times: user 3.13 s, sys: 193 ms, total: 3.33 s\n",
            "Wall time: 1min 31s\n"
          ]
        }
      ]
    },
    {
      "cell_type": "code",
      "source": [
        "%%time \n",
        "model_KNN = KNeighborsClassifier()\n",
        "\n",
        "neighbors = [1,2,3,4,5,6,7,8,9,10,11,12,13,14,15,16,17,18,19,20]\n",
        "param_grid_knn = dict(n_neighbors=neighbors)\n",
        "\n",
        "KNN_GridSearch = GridSearch(X_train,y_train,model_KNN,param_grid_knn)\n",
        "y_pred_knn = KNN_GridSearch.BestModelPridict(X_test)\n",
        "\n",
        "print('Predição com os dados de X_test:' ,floatingDecimals((y_test == y_pred_knn[0]).mean(),7))"
      ],
      "metadata": {
        "colab": {
          "base_uri": "https://localhost:8080/"
        },
        "id": "KG37x5zGKq-D",
        "outputId": "eaabb557-94d9-46ea-b816-7c85ea8d9ab2"
      },
      "execution_count": null,
      "outputs": [
        {
          "output_type": "stream",
          "name": "stdout",
          "text": [
            "Melhor Score ROC_AUC: 0.783452 Usando {'n_neighbors': 18}\n",
            "Predição com os dados de X_test: 0.7297297\n",
            "CPU times: user 339 ms, sys: 9.2 ms, total: 348 ms\n",
            "Wall time: 1.75 s\n"
          ]
        }
      ]
    },
    {
      "cell_type": "code",
      "source": [
        "max_depth_value = [3, None]\n",
        "max_features_value =  randint(1, 4)\n",
        "min_samples_leaf_value = randint(1, 4)\n",
        "criterion_value = [\"gini\", \"entropy\"]\n",
        "\n",
        "param_grid_rf = dict(max_depth = max_depth_value,\n",
        "                  max_features = max_features_value,\n",
        "                  min_samples_leaf = min_samples_leaf_value,\n",
        "                  criterion = criterion_value)"
      ],
      "metadata": {
        "id": "kbMqUcKkKaJR"
      },
      "execution_count": null,
      "outputs": []
    },
    {
      "cell_type": "code",
      "source": [
        "%%time\n",
        "model_rf = RandomForestClassifier()\n",
        "CART_RandSearch = RandomSearch(X_train,y_train,model_rf,param_grid_rf)\n",
        "y_pred_rf = CART_RandSearch.BestModelPridict(X_test)\n",
        "print('Predição com os dados de X_test:' ,floatingDecimals((y_test == y_pred_rf).mean(),7))"
      ],
      "metadata": {
        "colab": {
          "base_uri": "https://localhost:8080/"
        },
        "id": "lKozDshJLkzT",
        "outputId": "1ffe9c1e-4f60-4091-f2ae-ed13e31570fa"
      },
      "execution_count": null,
      "outputs": [
        {
          "output_type": "stream",
          "name": "stdout",
          "text": [
            "Melhor Score ROC_AUC: 0.813639 Usando {'criterion': 'gini', 'max_depth': 3, 'max_features': 3, 'min_samples_leaf': 2}\n",
            "Predição com os dados de X_test: 0.7383554\n",
            "CPU times: user 4.33 s, sys: 254 ms, total: 4.58 s\n",
            "Wall time: 2min 21s\n"
          ]
        }
      ]
    },
    {
      "cell_type": "markdown",
      "source": [
        "### Tunando os modelos com os dados filtrados"
      ],
      "metadata": {
        "id": "ZNVEyOEtpghc"
      }
    },
    {
      "cell_type": "code",
      "source": [
        "%%time\n",
        "model_f = LogisticRegression()\n",
        "LR_RandSearch_f = RandomSearch(X_train_f,y_train,model_f,hyperparameters_lr)\n",
        "y_pred_lr_f = LR_RandSearch_f.BestModelPridict(X_test_f)\n",
        "\n",
        "mean_score_lr_f = (y_test == y_pred_lr_f).mean()\n",
        "print('Predição com os dados de X_test_f:' ,floatingDecimals(mean_score_lr_f,6))"
      ],
      "metadata": {
        "colab": {
          "base_uri": "https://localhost:8080/"
        },
        "id": "d-1R0ynIpdL5",
        "outputId": "6d780cd1-255a-4cfe-aaad-6083fab366ae"
      },
      "execution_count": null,
      "outputs": [
        {
          "output_type": "stream",
          "name": "stdout",
          "text": [
            "Melhor Score ROC_AUC: 0.813454 Usando {'C': 2.0864173604591203, 'penalty': 'l2'}\n",
            "Predição com os dados de X_test_f: 0.740656\n",
            "CPU times: user 1.24 s, sys: 120 ms, total: 1.36 s\n",
            "Wall time: 11.4 s\n"
          ]
        }
      ]
    },
    {
      "cell_type": "code",
      "source": [
        "%%time\n",
        "model_Ad_f = AdaBoostClassifier()\n",
        "Ad_GridSearch = GridSearch(X_train_f,y_train,model_Ad_f,param_grid_ada)\n",
        "\n",
        "y_pred_ada_f = Ad_GridSearch.BestModelPridict(X_test_f)\n",
        "\n",
        "mean_score_ada_f = (y_test == y_pred_ada_f[0]).mean()\n",
        "print('Predição com os dados de X_test_f:' ,floatingDecimals(mean_score_ada_f,6))"
      ],
      "metadata": {
        "colab": {
          "base_uri": "https://localhost:8080/"
        },
        "id": "Hb8FicPBpdOD",
        "outputId": "fdd1490d-7717-4c71-f00a-916b03088ace"
      },
      "execution_count": null,
      "outputs": [
        {
          "output_type": "stream",
          "name": "stdout",
          "text": [
            "Melhor Score ROC_AUC: 0.812773 Usando {'learning_rate': 0.05, 'n_estimators': 300}\n",
            "Predição com os dados de X_test_f: 0.742381\n",
            "CPU times: user 3.16 s, sys: 144 ms, total: 3.3 s\n",
            "Wall time: 1min 19s\n"
          ]
        }
      ]
    },
    {
      "cell_type": "code",
      "source": [
        "%%time \n",
        "model_KNN_f = KNeighborsClassifier()\n",
        "\n",
        "neighbors = [1,2,3,4,5,6,7,8,9,10,11,12,13,14,15,16,17,18,19,20]\n",
        "param_grid_knn = dict(n_neighbors=neighbors)\n",
        "\n",
        "KNN_GridSearch = GridSearch(X_train_f,y_train,model_KNN_f,param_grid_knn)\n",
        "y_pred_knn_f = KNN_GridSearch.BestModelPridict(X_test_f)\n",
        "print('prediction on test set is:' ,floatingDecimals((y_test == y_pred_knn_f[0]).mean(),7))"
      ],
      "metadata": {
        "colab": {
          "base_uri": "https://localhost:8080/"
        },
        "id": "Z1amuQE-JL9z",
        "outputId": "fa8ee73c-e922-424c-fe90-108a2971f424"
      },
      "execution_count": null,
      "outputs": [
        {
          "output_type": "stream",
          "name": "stdout",
          "text": [
            "Melhor Score ROC_AUC: 0.783642 Usando {'n_neighbors': 20}\n",
            "prediction on test set is: 0.7257044\n",
            "CPU times: user 278 ms, sys: 15.1 ms, total: 293 ms\n",
            "Wall time: 1.47 s\n"
          ]
        }
      ]
    },
    {
      "cell_type": "code",
      "source": [
        "%%time\n",
        "model_rf_f = RandomForestClassifier()\n",
        "CART_RandSearch = RandomSearch(X_train_f,y_train,model_rf_f,param_grid_rf)\n",
        "y_pred_rf_f = CART_RandSearch.BestModelPridict(X_test_f)\n",
        "print('prediction on test set is:' ,floatingDecimals((y_test == y_pred_rf_f).mean(),7))"
      ],
      "metadata": {
        "colab": {
          "base_uri": "https://localhost:8080/"
        },
        "id": "HRiHWlq1IQIC",
        "outputId": "13ac7386-4a81-4301-de95-61eacbf88725"
      },
      "execution_count": null,
      "outputs": [
        {
          "output_type": "stream",
          "name": "stdout",
          "text": [
            "Melhor Score ROC_AUC: 0.814042 Usando {'criterion': 'gini', 'max_depth': 3, 'max_features': 3, 'min_samples_leaf': 1}\n",
            "prediction on test set is: 0.7389304\n",
            "CPU times: user 4.33 s, sys: 242 ms, total: 4.57 s\n",
            "Wall time: 2min 10s\n"
          ]
        }
      ]
    },
    {
      "cell_type": "markdown",
      "source": [
        "### Ensemble "
      ],
      "metadata": {
        "id": "tFhAGThbpi9x"
      }
    },
    {
      "cell_type": "code",
      "source": [
        "from sklearn.ensemble import VotingClassifier"
      ],
      "metadata": {
        "id": "eG3PjC1a4H2j"
      },
      "execution_count": null,
      "outputs": []
    },
    {
      "cell_type": "code",
      "source": [
        "# Modelos que se sairam melhor (df original)\n",
        "param = {'C': 2.0864173604591203, 'penalty': 'l2'}\n",
        "model1 = LogisticRegression(**param)\n",
        "\n",
        "param = {'n_neighbors': 18}\n",
        "model2 = KNeighborsClassifier(**param)\n",
        "\n",
        "param = {'learning_rate': 0.05, 'n_estimators': 200}\n",
        "model3 = AdaBoostClassifier(**param)\n",
        "\n",
        "model4 = RandomForestClassifier()"
      ],
      "metadata": {
        "id": "WtK4XuugR2Ld"
      },
      "execution_count": null,
      "outputs": []
    },
    {
      "cell_type": "code",
      "source": [
        "# create the sub models\n",
        "estimators = [('LR',model1), ('KNN',model2), ('ADa',model3), ('RF',model4)]"
      ],
      "metadata": {
        "id": "-iWXw7uq4H6l"
      },
      "execution_count": null,
      "outputs": []
    },
    {
      "cell_type": "code",
      "source": [
        "# criando o modelo ensamble com dados normalizado\n",
        "kfold = StratifiedKFold(n_splits=4, shuffle=True)\n",
        "ensemble = VotingClassifier(estimators)\n",
        "\n",
        "scaler = StandardScaler().fit(X_train)\n",
        "X_train = scaler.transform(X_train)\n",
        "\n",
        "scaler = StandardScaler().fit(X_test)\n",
        "X_test = scaler.transform(X_test)"
      ],
      "metadata": {
        "id": "CKrQ9rZ72RlV"
      },
      "execution_count": null,
      "outputs": []
    },
    {
      "cell_type": "code",
      "source": [
        "cv_results_ensemble = cross_val_score(ensemble, X_train,y_train, cv=kfold)\n",
        "print('Acurácia usando Ensemble com dados de X_train: ',cv_results_ensemble.mean())"
      ],
      "metadata": {
        "colab": {
          "base_uri": "https://localhost:8080/"
        },
        "id": "1HRteYQkClX0",
        "outputId": "f0be36bd-ed93-4665-a7c8-def7d7c90103"
      },
      "execution_count": null,
      "outputs": [
        {
          "output_type": "stream",
          "name": "stdout",
          "text": [
            "Acurácia usando Ensemble com dados de X_train:  0.7386587771203157\n"
          ]
        }
      ]
    },
    {
      "cell_type": "code",
      "source": [
        "%%time\n",
        "ensemble_model = ensemble.fit(X_train,y_train)"
      ],
      "metadata": {
        "colab": {
          "base_uri": "https://localhost:8080/"
        },
        "id": "TcygrudqCmoU",
        "outputId": "5484b099-decd-42d4-9c56-ba0489319352"
      },
      "execution_count": null,
      "outputs": [
        {
          "output_type": "stream",
          "name": "stdout",
          "text": [
            "CPU times: user 2.24 s, sys: 138 ms, total: 2.37 s\n",
            "Wall time: 2.23 s\n"
          ]
        }
      ]
    },
    {
      "cell_type": "code",
      "source": [
        "%%time\n",
        "y_pred_ensemble = ensemble_model.predict(X_test)\n",
        "\n",
        "print('Acurácia usando Ensemble com dados de X_test:' , (y_test == y_pred_ensemble).mean())"
      ],
      "metadata": {
        "colab": {
          "base_uri": "https://localhost:8080/"
        },
        "id": "in1xpailC2pB",
        "outputId": "62b5efc0-89d9-4242-8bee-8b64772bdfb7"
      },
      "execution_count": null,
      "outputs": [
        {
          "output_type": "stream",
          "name": "stdout",
          "text": [
            "Acurácia usando Ensemble com dados de X_test: 0.7441058079355952\n",
            "CPU times: user 374 ms, sys: 94 ms, total: 468 ms\n",
            "Wall time: 376 ms\n"
          ]
        }
      ]
    },
    {
      "cell_type": "code",
      "source": [
        "# Modelos que se sairam melhor (df filtrado)\n",
        "param = {'C': 1.0996804284115949, 'penalty': 'l2'}\n",
        "model1_f = LogisticRegression(**param)\n",
        "\n",
        "param = {'n_neighbors': 20}\n",
        "model2_f = KNeighborsClassifier(**param)\n",
        "\n",
        "param = {'learning_rate': 0.1, 'n_estimators': 250}\n",
        "model3_f = AdaBoostClassifier(**param)\n",
        "\n",
        "model4_f = RandomForestClassifier()"
      ],
      "metadata": {
        "id": "bCIk5lQVyxD3"
      },
      "execution_count": null,
      "outputs": []
    },
    {
      "cell_type": "code",
      "source": [
        "# create the sub models df filter\n",
        "estimators_f = [('LR',model1_f), ('KNN',model2_f), ('ADa',model3_f), ('RF',model4_f)]"
      ],
      "metadata": {
        "id": "NrgUQutw25ao"
      },
      "execution_count": null,
      "outputs": []
    },
    {
      "cell_type": "code",
      "source": [
        "# criando o modelo ensamble com os dados normalizados\n",
        "kfold_f = StratifiedKFold(n_splits=4, shuffle=True)\n",
        "ensemble_f = VotingClassifier(estimators_f)\n",
        "\n",
        "scaler = StandardScaler().fit(X_train_f)\n",
        "X_train_f = scaler.transform(X_train_f)\n",
        "\n",
        "scaler = StandardScaler().fit(X_test_f)\n",
        "X_test_f = scaler.transform(X_test_f)"
      ],
      "metadata": {
        "id": "3gMsv-9521s7"
      },
      "execution_count": null,
      "outputs": []
    },
    {
      "cell_type": "code",
      "source": [
        "cv_results_ensemble_f = cross_val_score(ensemble_f, X_train_f,y_train, cv=kfold_f)\n",
        "print('Acurácia usando Ensemble_f com dados de X_train_f: ',cv_results_ensemble_f.mean())"
      ],
      "metadata": {
        "colab": {
          "base_uri": "https://localhost:8080/"
        },
        "id": "aMaKeM59C9Ep",
        "outputId": "71e25eca-96ef-40e6-c2b9-dfb6b775d453"
      },
      "execution_count": null,
      "outputs": [
        {
          "output_type": "stream",
          "name": "stdout",
          "text": [
            "Acurácia usando Ensemble_f com dados de X_train_f:  0.7386587771203156\n"
          ]
        }
      ]
    },
    {
      "cell_type": "code",
      "source": [
        "%%time\n",
        "ensemble_model_f = ensemble_f.fit(X_train_f,y_train)\n",
        "y_pred_ensemble_f = ensemble_model_f.predict(X_test_f)\n",
        "print('Acurácia usando Ensemble_f com dados de X_test_f:' , (y_test == y_pred_ensemble_f).mean())"
      ],
      "metadata": {
        "colab": {
          "base_uri": "https://localhost:8080/"
        },
        "id": "qAtDzEB3DBuV",
        "outputId": "20e16388-cbc7-499c-9741-1ff0f39d55af"
      },
      "execution_count": null,
      "outputs": [
        {
          "output_type": "stream",
          "name": "stdout",
          "text": [
            "Acurácia usando Ensemble_f com dados de X_test_f: 0.7389304197814837\n",
            "CPU times: user 2.73 s, sys: 229 ms, total: 2.96 s\n",
            "Wall time: 2.72 s\n"
          ]
        }
      ]
    },
    {
      "cell_type": "markdown",
      "source": [
        "### Correlação entre os erros dos modelos"
      ],
      "metadata": {
        "id": "iQYvetzsyfGh"
      }
    },
    {
      "cell_type": "code",
      "source": [
        "# Correlações entre as variáveis de df\n",
        "def correlacoes(df):\n",
        "  import seaborn as sns\n",
        "  corr = df.corr() # Gerando a tabela de correlação\n",
        "  mask = np.zeros_like(corr, dtype=bool) # Criando uma matrix de valores booleanos, onde os dados só aparecerão, caso o valor seja False\n",
        "  mask[np.triu_indices_from(mask)] = True\n",
        "\n",
        "  fig, aux = plt.subplots(figsize=(12,11))\n",
        "\n",
        "  # gerando a palleta de cores\n",
        "  cmap = sns.diverging_palette(240, 10, as_cmap=True)\n",
        "\n",
        "  sns.heatmap(\n",
        "      corr,          \n",
        "      mask=mask,     # mascara triangular de True/False\n",
        "      cmap=cmap,     # palleta de cores\n",
        "      annot=True,    # plotar os valores dentro das células\n",
        "      square=True,   # Forçar células a serem quadradas\n",
        "      linewidths=.5, # Largura das linhas que dividem as células\n",
        "      cbar_kws={\"shrink\": .5})\n",
        "  fig.show();"
      ],
      "metadata": {
        "id": "HAUelTC5y8GA"
      },
      "execution_count": null,
      "outputs": []
    },
    {
      "cell_type": "code",
      "source": [
        "# Treinando os modelos e retornando y_pred_proba(P)\n",
        "def train_predict(model_list,xtrain, xtest, ytrain, ytest):\n",
        "    P = np.zeros((ytest.shape[0], len(model_list)))\n",
        "    P = pd.DataFrame(P)\n",
        "\n",
        "    print(\"Fitting models.\")\n",
        "    cols = list()\n",
        "    for i, (name, model) in enumerate(models.items()):\n",
        "        print(\"%s...\" % name, end=\" \", flush=False)\n",
        "        model.fit(xtrain, ytrain)\n",
        "        P.iloc[:, i] = model.predict_proba(xtest)[:, 1]\n",
        "        cols.append(name)\n",
        "        print(\"done\")\n",
        "\n",
        "    P.columns = cols\n",
        "    print(\"Done.\\n\")\n",
        "    return P"
      ],
      "metadata": {
        "id": "qJLBCp4AcyXG"
      },
      "execution_count": null,
      "outputs": []
    },
    {
      "cell_type": "code",
      "source": [
        "models = dict(estimators)\n",
        "P = train_predict(models,X_train,X_test,y_train,y_test)"
      ],
      "metadata": {
        "colab": {
          "base_uri": "https://localhost:8080/"
        },
        "id": "3knajwRkcyZE",
        "outputId": "abb61d86-a88f-4d92-ca4d-c48433081ced"
      },
      "execution_count": null,
      "outputs": [
        {
          "output_type": "stream",
          "name": "stdout",
          "text": [
            "Fitting models.\n",
            "LR... done\n",
            "KNN... done\n",
            "ADa... done\n",
            "RF... done\n",
            "Done.\n",
            "\n"
          ]
        }
      ]
    },
    {
      "cell_type": "code",
      "source": [
        "# Plotando correlação entre os erros dos modelos nos dados originais\n",
        "# Os erros são significativamente correlacionados, o que é esperado para modelos \n",
        "# com bom desempenho, pois normalmente são os valores discrepantes que são difíceis de acertar.\n",
        "correlacoes(P)"
      ],
      "metadata": {
        "colab": {
          "base_uri": "https://localhost:8080/"
        },
        "id": "29yOP9YMcybG",
        "outputId": "e411c1b8-3cd4-41ef-f67d-7338d5ab8300"
      },
      "execution_count": null,
      "outputs": [
        {
          "output_type": "display_data",
          "data": {
            "text/plain": [
              "<Figure size 864x792 with 2 Axes>"
            ],
            "image/png": "[encoded data removed]"
          },
          "metadata": {
            "needs_background": "light"
          }
        }
      ]
    },
    {
      "cell_type": "markdown",
      "source": [
        "O que os modelos com os dados filtrados tem a nos mostrar?"
      ],
      "metadata": {
        "id": "_18HggE32bsY"
      }
    },
    {
      "cell_type": "code",
      "source": [
        "models_f = dict(estimators_f)\n",
        "P_f = train_predict(models_f,X_train_f,X_test_f,y_train,y_test)"
      ],
      "metadata": {
        "colab": {
          "base_uri": "https://localhost:8080/"
        },
        "id": "rZZPmLhQxF5K",
        "outputId": "2228c401-bb50-48b9-e25d-75eea958f229"
      },
      "execution_count": null,
      "outputs": [
        {
          "output_type": "stream",
          "name": "stdout",
          "text": [
            "Fitting models.\n",
            "LR... done\n",
            "KNN... done\n",
            "ADa... done\n",
            "RF... done\n",
            "Done.\n",
            "\n"
          ]
        }
      ]
    },
    {
      "cell_type": "code",
      "source": [
        "# Plotando correlação entre os erros dos modelos nos dados filtrados\n",
        "correlacoes(P_f)"
      ],
      "metadata": {
        "colab": {
          "base_uri": "https://localhost:8080/"
        },
        "id": "8OT-5skdy8KX",
        "outputId": "40bb9073-2514-4571-a204-f2f0ca450e24"
      },
      "execution_count": null,
      "outputs": [
        {
          "output_type": "display_data",
          "data": {
            "text/plain": [
              "<Figure size 864x792 with 2 Axes>"
            ],
            "image/png": "[encoded data removed]"
          },
          "metadata": {
            "needs_background": "light"
          }
        }
      ]
    },
    {
      "cell_type": "markdown",
      "source": [
        "### Avaliando os resultados com dados de teste"
      ],
      "metadata": {
        "id": "xpADmeuPsq9O"
      }
    },
    {
      "cell_type": "code",
      "source": [
        "def metrics_aval(y_test, y_pred, name_mod):\n",
        "  df_metrics = pd.DataFrame(classification_report(y_test, y_pred, output_dict=True)).T\n",
        "  print(f'Relatório de Avaliação do modelo {name_mod}:')\n",
        "  return df_metrics\n",
        "\n",
        "y_preds = [y_pred_lr,y_pred_ada[0],y_pred_ensemble,y_pred_rf,y_pred_knn[0],y_pred_lr_f,y_pred_ada_f[0],y_pred_ensemble_f,y_pred_rf_f,y_pred_knn_f[0]]\n",
        "names_models = ['y_pred_lr','y_pred_ada','y_pred_ensemble','y_pred_rf','y_pred_knn','y_pred_lr_f','y_pred_ada_f','y_pred_ensemble_f','y_pred_rf_f','y_pred_knn_f']"
      ],
      "metadata": {
        "id": "vgV9xiHHRGEa"
      },
      "execution_count": null,
      "outputs": []
    },
    {
      "cell_type": "markdown",
      "source": [
        "O ranking dos modelos"
      ],
      "metadata": {
        "id": "niVB8Pux2DHB"
      }
    },
    {
      "cell_type": "code",
      "source": [
        "list_auc = {'model':[], 'roc_auc':[]}\n",
        "\n",
        "for i in range(len(y_preds)):\n",
        "  list_auc['model'].append(names_models[i])\n",
        "  list_auc['roc_auc'].append(roc_auc_score(y_test, y_preds[i]))\n",
        "\n",
        "print('Modelos e as Áreas sob a Curva ROC')\n",
        "df_auc = pd.DataFrame(list_auc['roc_auc'],list_auc['model'])\n",
        "df_auc.columns = ['AUC']\n",
        "df_auc.sort_values(by='AUC',ascending=False, inplace=True)\n",
        "df_auc"
      ],
      "metadata": {
        "colab": {
          "base_uri": "https://localhost:8080/"
        },
        "id": "yxHL1VUjRGGq",
        "outputId": "0cbe81ae-a26c-4b09-a3e5-721df5e9da69"
      },
      "execution_count": null,
      "outputs": [
        {
          "output_type": "stream",
          "name": "stdout",
          "text": [
            "Modelos e as Áreas sob a Curva ROC\n"
          ]
        },
        {
          "output_type": "execute_result",
          "data": {
            "text/plain": [
              "                        AUC\n",
              "y_pred_ensemble    0.738253\n",
              "y_pred_ensemble_f  0.735597\n",
              "y_pred_ada         0.729935\n",
              "y_pred_rf          0.729654\n",
              "y_pred_ada_f       0.728501\n",
              "y_pred_rf_f        0.726572\n",
              "y_pred_knn         0.720794\n",
              "y_pred_lr          0.718278\n",
              "y_pred_lr_f        0.716848\n",
              "y_pred_knn_f       0.716010"
            ],
            "text/html": [
              "\n",
              "  <div id=\"df-19d6019e-2b12-4225-a47b-834111d05ec0\">\n",
              "    <div class=\"colab-df-container\">\n",
              "      <div>\n",
              "<style scoped>\n",
              "    .dataframe tbody tr th:only-of-type {\n",
              "        vertical-align: middle;\n",
              "    }\n",
              "\n",
              "    .dataframe tbody tr th {\n",
              "        vertical-align: top;\n",
              "    }\n",
              "\n",
              "    .dataframe thead th {\n",
              "        text-align: right;\n",
              "    }\n",
              "</style>\n",
              "<table border=\"1\" class=\"dataframe\">\n",
              "  <thead>\n",
              "    <tr style=\"text-align: right;\">\n",
              "      <th></th>\n",
              "      <th>AUC</th>\n",
              "    </tr>\n",
              "  </thead>\n",
              "  <tbody>\n",
              "    <tr>\n",
              "      <th>y_pred_ensemble</th>\n",
              "      <td>0.738253</td>\n",
              "    </tr>\n",
              "    <tr>\n",
              "      <th>y_pred_ensemble_f</th>\n",
              "      <td>0.735597</td>\n",
              "    </tr>\n",
              "    <tr>\n",
              "      <th>y_pred_ada</th>\n",
              "      <td>0.729935</td>\n",
              "    </tr>\n",
              "    <tr>\n",
              "      <th>y_pred_rf</th>\n",
              "      <td>0.729654</td>\n",
              "    </tr>\n",
              "    <tr>\n",
              "      <th>y_pred_ada_f</th>\n",
              "      <td>0.728501</td>\n",
              "    </tr>\n",
              "    <tr>\n",
              "      <th>y_pred_rf_f</th>\n",
              "      <td>0.726572</td>\n",
              "    </tr>\n",
              "    <tr>\n",
              "      <th>y_pred_knn</th>\n",
              "      <td>0.720794</td>\n",
              "    </tr>\n",
              "    <tr>\n",
              "      <th>y_pred_lr</th>\n",
              "      <td>0.718278</td>\n",
              "    </tr>\n",
              "    <tr>\n",
              "      <th>y_pred_lr_f</th>\n",
              "      <td>0.716848</td>\n",
              "    </tr>\n",
              "    <tr>\n",
              "      <th>y_pred_knn_f</th>\n",
              "      <td>0.716010</td>\n",
              "    </tr>\n",
              "  </tbody>\n",
              "</table>\n",
              "</div>\n",
              "      <button class=\"colab-df-convert\" onclick=\"convertToInteractive('df-19d6019e-2b12-4225-a47b-834111d05ec0')\"\n",
              "              title=\"Convert this dataframe to an interactive table.\"\n",
              "              style=\"display:none;\">\n",
              "        \n",
              "  <svg xmlns=\"http://www.w3.org/2000/svg\" height=\"24px\"viewBox=\"0 0 24 24\"\n",
              "       width=\"24px\">\n",
              "    <path d=\"M0 0h24v24H0V0z\" fill=\"none\"/>\n",
              "    <path d=\"M18.56 5.44l.94 2.06.94-2.06 2.06-.94-2.06-.94-.94-2.06-.94 2.06-2.06.94zm-11 1L8.5 8.5l.94-2.06 2.06-.94-2.06-.94L8.5 2.5l-.94 2.06-2.06.94zm10 10l.94 2.06.94-2.06 2.06-.94-2.06-.94-.94-2.06-.94 2.06-2.06.94z\"/><path d=\"M17.41 7.96l-1.37-1.37c-.4-.4-.92-.59-1.43-.59-.52 0-1.04.2-1.43.59L10.3 9.45l-7.72 7.72c-.78.78-.78 2.05 0 2.83L4 21.41c.39.39.9.59 1.41.59.51 0 1.02-.2 1.41-.59l7.78-7.78 2.81-2.81c.8-.78.8-2.07 0-2.86zM5.41 20L4 18.59l7.72-7.72 1.47 1.35L5.41 20z\"/>\n",
              "  </svg>\n",
              "      </button>\n",
              "      \n",
              "  <style>\n",
              "    .colab-df-container {\n",
              "      display:flex;\n",
              "      flex-wrap:wrap;\n",
              "      gap: 12px;\n",
              "    }\n",
              "\n",
              "    .colab-df-convert {\n",
              "      background-color: #E8F0FE;\n",
              "      border: none;\n",
              "      border-radius: 50%;\n",
              "      cursor: pointer;\n",
              "      display: none;\n",
              "      fill: #1967D2;\n",
              "      height: 32px;\n",
              "      padding: 0 0 0 0;\n",
              "      width: 32px;\n",
              "    }\n",
              "\n",
              "    .colab-df-convert:hover {\n",
              "      background-color: #E2EBFA;\n",
              "      box-shadow: 0px 1px 2px rgba(60, 64, 67, 0.3), 0px 1px 3px 1px rgba(60, 64, 67, 0.15);\n",
              "      fill: #174EA6;\n",
              "    }\n",
              "\n",
              "    [theme=dark] .colab-df-convert {\n",
              "      background-color: #3B4455;\n",
              "      fill: #D2E3FC;\n",
              "    }\n",
              "\n",
              "    [theme=dark] .colab-df-convert:hover {\n",
              "      background-color: #434B5C;\n",
              "      box-shadow: 0px 1px 3px 1px rgba(0, 0, 0, 0.15);\n",
              "      filter: drop-shadow(0px 1px 2px rgba(0, 0, 0, 0.3));\n",
              "      fill: #FFFFFF;\n",
              "    }\n",
              "  </style>\n",
              "\n",
              "      <script>\n",
              "        const buttonEl =\n",
              "          document.querySelector('#df-19d6019e-2b12-4225-a47b-834111d05ec0 button.colab-df-convert');\n",
              "        buttonEl.style.display =\n",
              "          google.colab.kernel.accessAllowed ? 'block' : 'none';\n",
              "\n",
              "        async function convertToInteractive(key) {\n",
              "          const element = document.querySelector('#df-19d6019e-2b12-4225-a47b-834111d05ec0');\n",
              "          const dataTable =\n",
              "            await google.colab.kernel.invokeFunction('convertToInteractive',\n",
              "                                                     [key], {});\n",
              "          if (!dataTable) return;\n",
              "\n",
              "          const docLinkHtml = 'Like what you see? Visit the ' +\n",
              "            '<a target=\"_blank\" href=https://colab.research.google.com/notebooks/data_table.ipynb>data table notebook</a>'\n",
              "            + ' to learn more about interactive tables.';\n",
              "          element.innerHTML = '';\n",
              "          dataTable['output_type'] = 'display_data';\n",
              "          await google.colab.output.renderOutput(dataTable, element);\n",
              "          const docLink = document.createElement('div');\n",
              "          docLink.innerHTML = docLinkHtml;\n",
              "          element.appendChild(docLink);\n",
              "        }\n",
              "      </script>\n",
              "    </div>\n",
              "  </div>\n",
              "  "
            ]
          },
          "metadata": {},
          "execution_count": 76
        }
      ]
    },
    {
      "cell_type": "markdown",
      "source": [
        "As principais métricas para os 3 melhores modelos\n",
        "\n",
        "• Vou salvar o modelo `ensemble_model_f` (treinado com apenas 20 características) devido o resultado muito parecido com o `ensemble_model` (treinado com 62 características) devido o custo computacional.\n",
        "Mais detalhes, ver sobre *O Princípio da Parcimônia*"
      ],
      "metadata": {
        "id": "SmfXR7Id19NT"
      }
    },
    {
      "cell_type": "code",
      "source": [
        "metrics_aval(y_test, y_preds[2], 'y_pred_ensemble')"
      ],
      "metadata": {
        "colab": {
          "base_uri": "https://localhost:8080/"
        },
        "id": "oEm3wM4ojfh6",
        "outputId": "a51a90e0-d652-45e8-eb10-24f8522c6533"
      },
      "execution_count": null,
      "outputs": [
        {
          "output_type": "stream",
          "name": "stdout",
          "text": [
            "Relatório de Avaliação do modelo y_pred_ensemble:\n"
          ]
        },
        {
          "output_type": "execute_result",
          "data": {
            "text/plain": [
              "              precision    recall  f1-score      support\n",
              "0              0.671196  0.708752  0.689463   697.000000\n",
              "1              0.797607  0.767754  0.782396  1042.000000\n",
              "accuracy       0.744106  0.744106  0.744106     0.744106\n",
              "macro avg      0.734401  0.738253  0.735929  1739.000000\n",
              "weighted avg   0.746941  0.744106  0.745148  1739.000000"
            ],
            "text/html": [
              "\n",
              "  <div id=\"df-676f043e-23b4-4e3b-82dc-347ad3fec096\">\n",
              "    <div class=\"colab-df-container\">\n",
              "      <div>\n",
              "<style scoped>\n",
              "    .dataframe tbody tr th:only-of-type {\n",
              "        vertical-align: middle;\n",
              "    }\n",
              "\n",
              "    .dataframe tbody tr th {\n",
              "        vertical-align: top;\n",
              "    }\n",
              "\n",
              "    .dataframe thead th {\n",
              "        text-align: right;\n",
              "    }\n",
              "</style>\n",
              "<table border=\"1\" class=\"dataframe\">\n",
              "  <thead>\n",
              "    <tr style=\"text-align: right;\">\n",
              "      <th></th>\n",
              "      <th>precision</th>\n",
              "      <th>recall</th>\n",
              "      <th>f1-score</th>\n",
              "      <th>support</th>\n",
              "    </tr>\n",
              "  </thead>\n",
              "  <tbody>\n",
              "    <tr>\n",
              "      <th>0</th>\n",
              "      <td>0.671196</td>\n",
              "      <td>0.708752</td>\n",
              "      <td>0.689463</td>\n",
              "      <td>697.000000</td>\n",
              "    </tr>\n",
              "    <tr>\n",
              "      <th>1</th>\n",
              "      <td>0.797607</td>\n",
              "      <td>0.767754</td>\n",
              "      <td>0.782396</td>\n",
              "      <td>1042.000000</td>\n",
              "    </tr>\n",
              "    <tr>\n",
              "      <th>accuracy</th>\n",
              "      <td>0.744106</td>\n",
              "      <td>0.744106</td>\n",
              "      <td>0.744106</td>\n",
              "      <td>0.744106</td>\n",
              "    </tr>\n",
              "    <tr>\n",
              "      <th>macro avg</th>\n",
              "      <td>0.734401</td>\n",
              "      <td>0.738253</td>\n",
              "      <td>0.735929</td>\n",
              "      <td>1739.000000</td>\n",
              "    </tr>\n",
              "    <tr>\n",
              "      <th>weighted avg</th>\n",
              "      <td>0.746941</td>\n",
              "      <td>0.744106</td>\n",
              "      <td>0.745148</td>\n",
              "      <td>1739.000000</td>\n",
              "    </tr>\n",
              "  </tbody>\n",
              "</table>\n",
              "</div>\n",
              "      <button class=\"colab-df-convert\" onclick=\"convertToInteractive('df-676f043e-23b4-4e3b-82dc-347ad3fec096')\"\n",
              "              title=\"Convert this dataframe to an interactive table.\"\n",
              "              style=\"display:none;\">\n",
              "        \n",
              "  <svg xmlns=\"http://www.w3.org/2000/svg\" height=\"24px\"viewBox=\"0 0 24 24\"\n",
              "       width=\"24px\">\n",
              "    <path d=\"M0 0h24v24H0V0z\" fill=\"none\"/>\n",
              "    <path d=\"M18.56 5.44l.94 2.06.94-2.06 2.06-.94-2.06-.94-.94-2.06-.94 2.06-2.06.94zm-11 1L8.5 8.5l.94-2.06 2.06-.94-2.06-.94L8.5 2.5l-.94 2.06-2.06.94zm10 10l.94 2.06.94-2.06 2.06-.94-2.06-.94-.94-2.06-.94 2.06-2.06.94z\"/><path d=\"M17.41 7.96l-1.37-1.37c-.4-.4-.92-.59-1.43-.59-.52 0-1.04.2-1.43.59L10.3 9.45l-7.72 7.72c-.78.78-.78 2.05 0 2.83L4 21.41c.39.39.9.59 1.41.59.51 0 1.02-.2 1.41-.59l7.78-7.78 2.81-2.81c.8-.78.8-2.07 0-2.86zM5.41 20L4 18.59l7.72-7.72 1.47 1.35L5.41 20z\"/>\n",
              "  </svg>\n",
              "      </button>\n",
              "      \n",
              "  <style>\n",
              "    .colab-df-container {\n",
              "      display:flex;\n",
              "      flex-wrap:wrap;\n",
              "      gap: 12px;\n",
              "    }\n",
              "\n",
              "    .colab-df-convert {\n",
              "      background-color: #E8F0FE;\n",
              "      border: none;\n",
              "      border-radius: 50%;\n",
              "      cursor: pointer;\n",
              "      display: none;\n",
              "      fill: #1967D2;\n",
              "      height: 32px;\n",
              "      padding: 0 0 0 0;\n",
              "      width: 32px;\n",
              "    }\n",
              "\n",
              "    .colab-df-convert:hover {\n",
              "      background-color: #E2EBFA;\n",
              "      box-shadow: 0px 1px 2px rgba(60, 64, 67, 0.3), 0px 1px 3px 1px rgba(60, 64, 67, 0.15);\n",
              "      fill: #174EA6;\n",
              "    }\n",
              "\n",
              "    [theme=dark] .colab-df-convert {\n",
              "      background-color: #3B4455;\n",
              "      fill: #D2E3FC;\n",
              "    }\n",
              "\n",
              "    [theme=dark] .colab-df-convert:hover {\n",
              "      background-color: #434B5C;\n",
              "      box-shadow: 0px 1px 3px 1px rgba(0, 0, 0, 0.15);\n",
              "      filter: drop-shadow(0px 1px 2px rgba(0, 0, 0, 0.3));\n",
              "      fill: #FFFFFF;\n",
              "    }\n",
              "  </style>\n",
              "\n",
              "      <script>\n",
              "        const buttonEl =\n",
              "          document.querySelector('#df-676f043e-23b4-4e3b-82dc-347ad3fec096 button.colab-df-convert');\n",
              "        buttonEl.style.display =\n",
              "          google.colab.kernel.accessAllowed ? 'block' : 'none';\n",
              "\n",
              "        async function convertToInteractive(key) {\n",
              "          const element = document.querySelector('#df-676f043e-23b4-4e3b-82dc-347ad3fec096');\n",
              "          const dataTable =\n",
              "            await google.colab.kernel.invokeFunction('convertToInteractive',\n",
              "                                                     [key], {});\n",
              "          if (!dataTable) return;\n",
              "\n",
              "          const docLinkHtml = 'Like what you see? Visit the ' +\n",
              "            '<a target=\"_blank\" href=https://colab.research.google.com/notebooks/data_table.ipynb>data table notebook</a>'\n",
              "            + ' to learn more about interactive tables.';\n",
              "          element.innerHTML = '';\n",
              "          dataTable['output_type'] = 'display_data';\n",
              "          await google.colab.output.renderOutput(dataTable, element);\n",
              "          const docLink = document.createElement('div');\n",
              "          docLink.innerHTML = docLinkHtml;\n",
              "          element.appendChild(docLink);\n",
              "        }\n",
              "      </script>\n",
              "    </div>\n",
              "  </div>\n",
              "  "
            ]
          },
          "metadata": {},
          "execution_count": 77
        }
      ]
    },
    {
      "cell_type": "code",
      "source": [
        "metrics_aval(y_test, y_preds[-3], 'y_pred_ensemble_f')"
      ],
      "metadata": {
        "colab": {
          "base_uri": "https://localhost:8080/"
        },
        "id": "m_fqjzcNtz6i",
        "outputId": "af761406-218f-47db-ad0f-1f40a5fdae8b"
      },
      "execution_count": null,
      "outputs": [
        {
          "output_type": "stream",
          "name": "stdout",
          "text": [
            "Relatório de Avaliação do modelo y_pred_ensemble_f:\n"
          ]
        },
        {
          "output_type": "execute_result",
          "data": {
            "text/plain": [
              "              precision    recall  f1-score     support\n",
              "0              0.660079  0.718795  0.688187   697.00000\n",
              "1              0.800000  0.752399  0.775470  1042.00000\n",
              "accuracy       0.738930  0.738930  0.738930     0.73893\n",
              "macro avg      0.730040  0.735597  0.731828  1739.00000\n",
              "weighted avg   0.743919  0.738930  0.740486  1739.00000"
            ],
            "text/html": [
              "\n",
              "  <div id=\"df-f0155008-c5ec-48cd-8b3f-78083cb36daf\">\n",
              "    <div class=\"colab-df-container\">\n",
              "      <div>\n",
              "<style scoped>\n",
              "    .dataframe tbody tr th:only-of-type {\n",
              "        vertical-align: middle;\n",
              "    }\n",
              "\n",
              "    .dataframe tbody tr th {\n",
              "        vertical-align: top;\n",
              "    }\n",
              "\n",
              "    .dataframe thead th {\n",
              "        text-align: right;\n",
              "    }\n",
              "</style>\n",
              "<table border=\"1\" class=\"dataframe\">\n",
              "  <thead>\n",
              "    <tr style=\"text-align: right;\">\n",
              "      <th></th>\n",
              "      <th>precision</th>\n",
              "      <th>recall</th>\n",
              "      <th>f1-score</th>\n",
              "      <th>support</th>\n",
              "    </tr>\n",
              "  </thead>\n",
              "  <tbody>\n",
              "    <tr>\n",
              "      <th>0</th>\n",
              "      <td>0.660079</td>\n",
              "      <td>0.718795</td>\n",
              "      <td>0.688187</td>\n",
              "      <td>697.00000</td>\n",
              "    </tr>\n",
              "    <tr>\n",
              "      <th>1</th>\n",
              "      <td>0.800000</td>\n",
              "      <td>0.752399</td>\n",
              "      <td>0.775470</td>\n",
              "      <td>1042.00000</td>\n",
              "    </tr>\n",
              "    <tr>\n",
              "      <th>accuracy</th>\n",
              "      <td>0.738930</td>\n",
              "      <td>0.738930</td>\n",
              "      <td>0.738930</td>\n",
              "      <td>0.73893</td>\n",
              "    </tr>\n",
              "    <tr>\n",
              "      <th>macro avg</th>\n",
              "      <td>0.730040</td>\n",
              "      <td>0.735597</td>\n",
              "      <td>0.731828</td>\n",
              "      <td>1739.00000</td>\n",
              "    </tr>\n",
              "    <tr>\n",
              "      <th>weighted avg</th>\n",
              "      <td>0.743919</td>\n",
              "      <td>0.738930</td>\n",
              "      <td>0.740486</td>\n",
              "      <td>1739.00000</td>\n",
              "    </tr>\n",
              "  </tbody>\n",
              "</table>\n",
              "</div>\n",
              "      <button class=\"colab-df-convert\" onclick=\"convertToInteractive('df-f0155008-c5ec-48cd-8b3f-78083cb36daf')\"\n",
              "              title=\"Convert this dataframe to an interactive table.\"\n",
              "              style=\"display:none;\">\n",
              "        \n",
              "  <svg xmlns=\"http://www.w3.org/2000/svg\" height=\"24px\"viewBox=\"0 0 24 24\"\n",
              "       width=\"24px\">\n",
              "    <path d=\"M0 0h24v24H0V0z\" fill=\"none\"/>\n",
              "    <path d=\"M18.56 5.44l.94 2.06.94-2.06 2.06-.94-2.06-.94-.94-2.06-.94 2.06-2.06.94zm-11 1L8.5 8.5l.94-2.06 2.06-.94-2.06-.94L8.5 2.5l-.94 2.06-2.06.94zm10 10l.94 2.06.94-2.06 2.06-.94-2.06-.94-.94-2.06-.94 2.06-2.06.94z\"/><path d=\"M17.41 7.96l-1.37-1.37c-.4-.4-.92-.59-1.43-.59-.52 0-1.04.2-1.43.59L10.3 9.45l-7.72 7.72c-.78.78-.78 2.05 0 2.83L4 21.41c.39.39.9.59 1.41.59.51 0 1.02-.2 1.41-.59l7.78-7.78 2.81-2.81c.8-.78.8-2.07 0-2.86zM5.41 20L4 18.59l7.72-7.72 1.47 1.35L5.41 20z\"/>\n",
              "  </svg>\n",
              "      </button>\n",
              "      \n",
              "  <style>\n",
              "    .colab-df-container {\n",
              "      display:flex;\n",
              "      flex-wrap:wrap;\n",
              "      gap: 12px;\n",
              "    }\n",
              "\n",
              "    .colab-df-convert {\n",
              "      background-color: #E8F0FE;\n",
              "      border: none;\n",
              "      border-radius: 50%;\n",
              "      cursor: pointer;\n",
              "      display: none;\n",
              "      fill: #1967D2;\n",
              "      height: 32px;\n",
              "      padding: 0 0 0 0;\n",
              "      width: 32px;\n",
              "    }\n",
              "\n",
              "    .colab-df-convert:hover {\n",
              "      background-color: #E2EBFA;\n",
              "      box-shadow: 0px 1px 2px rgba(60, 64, 67, 0.3), 0px 1px 3px 1px rgba(60, 64, 67, 0.15);\n",
              "      fill: #174EA6;\n",
              "    }\n",
              "\n",
              "    [theme=dark] .colab-df-convert {\n",
              "      background-color: #3B4455;\n",
              "      fill: #D2E3FC;\n",
              "    }\n",
              "\n",
              "    [theme=dark] .colab-df-convert:hover {\n",
              "      background-color: #434B5C;\n",
              "      box-shadow: 0px 1px 3px 1px rgba(0, 0, 0, 0.15);\n",
              "      filter: drop-shadow(0px 1px 2px rgba(0, 0, 0, 0.3));\n",
              "      fill: #FFFFFF;\n",
              "    }\n",
              "  </style>\n",
              "\n",
              "      <script>\n",
              "        const buttonEl =\n",
              "          document.querySelector('#df-f0155008-c5ec-48cd-8b3f-78083cb36daf button.colab-df-convert');\n",
              "        buttonEl.style.display =\n",
              "          google.colab.kernel.accessAllowed ? 'block' : 'none';\n",
              "\n",
              "        async function convertToInteractive(key) {\n",
              "          const element = document.querySelector('#df-f0155008-c5ec-48cd-8b3f-78083cb36daf');\n",
              "          const dataTable =\n",
              "            await google.colab.kernel.invokeFunction('convertToInteractive',\n",
              "                                                     [key], {});\n",
              "          if (!dataTable) return;\n",
              "\n",
              "          const docLinkHtml = 'Like what you see? Visit the ' +\n",
              "            '<a target=\"_blank\" href=https://colab.research.google.com/notebooks/data_table.ipynb>data table notebook</a>'\n",
              "            + ' to learn more about interactive tables.';\n",
              "          element.innerHTML = '';\n",
              "          dataTable['output_type'] = 'display_data';\n",
              "          await google.colab.output.renderOutput(dataTable, element);\n",
              "          const docLink = document.createElement('div');\n",
              "          docLink.innerHTML = docLinkHtml;\n",
              "          element.appendChild(docLink);\n",
              "        }\n",
              "      </script>\n",
              "    </div>\n",
              "  </div>\n",
              "  "
            ]
          },
          "metadata": {},
          "execution_count": 78
        }
      ]
    },
    {
      "cell_type": "code",
      "source": [
        "metrics_aval(y_test, y_preds[3], 'y_pred_rf')"
      ],
      "metadata": {
        "colab": {
          "base_uri": "https://localhost:8080/"
        },
        "id": "luDovf3Utz8Z",
        "outputId": "120f8ee5-e0b9-461e-c34c-c9eb2708d6ff"
      },
      "execution_count": null,
      "outputs": [
        {
          "output_type": "stream",
          "name": "stdout",
          "text": [
            "Relatório de Avaliação do modelo y_pred_rf:\n"
          ]
        },
        {
          "output_type": "execute_result",
          "data": {
            "text/plain": [
              "              precision    recall  f1-score      support\n",
              "0              0.669468  0.685796  0.677534   697.000000\n",
              "1              0.786341  0.773512  0.779874  1042.000000\n",
              "accuracy       0.738355  0.738355  0.738355     0.738355\n",
              "macro avg      0.727905  0.729654  0.728704  1739.000000\n",
              "weighted avg   0.739498  0.738355  0.738856  1739.000000"
            ],
            "text/html": [
              "\n",
              "  <div id=\"df-44a09076-0a8d-4622-8878-d8f0c0fda2b3\">\n",
              "    <div class=\"colab-df-container\">\n",
              "      <div>\n",
              "<style scoped>\n",
              "    .dataframe tbody tr th:only-of-type {\n",
              "        vertical-align: middle;\n",
              "    }\n",
              "\n",
              "    .dataframe tbody tr th {\n",
              "        vertical-align: top;\n",
              "    }\n",
              "\n",
              "    .dataframe thead th {\n",
              "        text-align: right;\n",
              "    }\n",
              "</style>\n",
              "<table border=\"1\" class=\"dataframe\">\n",
              "  <thead>\n",
              "    <tr style=\"text-align: right;\">\n",
              "      <th></th>\n",
              "      <th>precision</th>\n",
              "      <th>recall</th>\n",
              "      <th>f1-score</th>\n",
              "      <th>support</th>\n",
              "    </tr>\n",
              "  </thead>\n",
              "  <tbody>\n",
              "    <tr>\n",
              "      <th>0</th>\n",
              "      <td>0.669468</td>\n",
              "      <td>0.685796</td>\n",
              "      <td>0.677534</td>\n",
              "      <td>697.000000</td>\n",
              "    </tr>\n",
              "    <tr>\n",
              "      <th>1</th>\n",
              "      <td>0.786341</td>\n",
              "      <td>0.773512</td>\n",
              "      <td>0.779874</td>\n",
              "      <td>1042.000000</td>\n",
              "    </tr>\n",
              "    <tr>\n",
              "      <th>accuracy</th>\n",
              "      <td>0.738355</td>\n",
              "      <td>0.738355</td>\n",
              "      <td>0.738355</td>\n",
              "      <td>0.738355</td>\n",
              "    </tr>\n",
              "    <tr>\n",
              "      <th>macro avg</th>\n",
              "      <td>0.727905</td>\n",
              "      <td>0.729654</td>\n",
              "      <td>0.728704</td>\n",
              "      <td>1739.000000</td>\n",
              "    </tr>\n",
              "    <tr>\n",
              "      <th>weighted avg</th>\n",
              "      <td>0.739498</td>\n",
              "      <td>0.738355</td>\n",
              "      <td>0.738856</td>\n",
              "      <td>1739.000000</td>\n",
              "    </tr>\n",
              "  </tbody>\n",
              "</table>\n",
              "</div>\n",
              "      <button class=\"colab-df-convert\" onclick=\"convertToInteractive('df-44a09076-0a8d-4622-8878-d8f0c0fda2b3')\"\n",
              "              title=\"Convert this dataframe to an interactive table.\"\n",
              "              style=\"display:none;\">\n",
              "        \n",
              "  <svg xmlns=\"http://www.w3.org/2000/svg\" height=\"24px\"viewBox=\"0 0 24 24\"\n",
              "       width=\"24px\">\n",
              "    <path d=\"M0 0h24v24H0V0z\" fill=\"none\"/>\n",
              "    <path d=\"M18.56 5.44l.94 2.06.94-2.06 2.06-.94-2.06-.94-.94-2.06-.94 2.06-2.06.94zm-11 1L8.5 8.5l.94-2.06 2.06-.94-2.06-.94L8.5 2.5l-.94 2.06-2.06.94zm10 10l.94 2.06.94-2.06 2.06-.94-2.06-.94-.94-2.06-.94 2.06-2.06.94z\"/><path d=\"M17.41 7.96l-1.37-1.37c-.4-.4-.92-.59-1.43-.59-.52 0-1.04.2-1.43.59L10.3 9.45l-7.72 7.72c-.78.78-.78 2.05 0 2.83L4 21.41c.39.39.9.59 1.41.59.51 0 1.02-.2 1.41-.59l7.78-7.78 2.81-2.81c.8-.78.8-2.07 0-2.86zM5.41 20L4 18.59l7.72-7.72 1.47 1.35L5.41 20z\"/>\n",
              "  </svg>\n",
              "      </button>\n",
              "      \n",
              "  <style>\n",
              "    .colab-df-container {\n",
              "      display:flex;\n",
              "      flex-wrap:wrap;\n",
              "      gap: 12px;\n",
              "    }\n",
              "\n",
              "    .colab-df-convert {\n",
              "      background-color: #E8F0FE;\n",
              "      border: none;\n",
              "      border-radius: 50%;\n",
              "      cursor: pointer;\n",
              "      display: none;\n",
              "      fill: #1967D2;\n",
              "      height: 32px;\n",
              "      padding: 0 0 0 0;\n",
              "      width: 32px;\n",
              "    }\n",
              "\n",
              "    .colab-df-convert:hover {\n",
              "      background-color: #E2EBFA;\n",
              "      box-shadow: 0px 1px 2px rgba(60, 64, 67, 0.3), 0px 1px 3px 1px rgba(60, 64, 67, 0.15);\n",
              "      fill: #174EA6;\n",
              "    }\n",
              "\n",
              "    [theme=dark] .colab-df-convert {\n",
              "      background-color: #3B4455;\n",
              "      fill: #D2E3FC;\n",
              "    }\n",
              "\n",
              "    [theme=dark] .colab-df-convert:hover {\n",
              "      background-color: #434B5C;\n",
              "      box-shadow: 0px 1px 3px 1px rgba(0, 0, 0, 0.15);\n",
              "      filter: drop-shadow(0px 1px 2px rgba(0, 0, 0, 0.3));\n",
              "      fill: #FFFFFF;\n",
              "    }\n",
              "  </style>\n",
              "\n",
              "      <script>\n",
              "        const buttonEl =\n",
              "          document.querySelector('#df-44a09076-0a8d-4622-8878-d8f0c0fda2b3 button.colab-df-convert');\n",
              "        buttonEl.style.display =\n",
              "          google.colab.kernel.accessAllowed ? 'block' : 'none';\n",
              "\n",
              "        async function convertToInteractive(key) {\n",
              "          const element = document.querySelector('#df-44a09076-0a8d-4622-8878-d8f0c0fda2b3');\n",
              "          const dataTable =\n",
              "            await google.colab.kernel.invokeFunction('convertToInteractive',\n",
              "                                                     [key], {});\n",
              "          if (!dataTable) return;\n",
              "\n",
              "          const docLinkHtml = 'Like what you see? Visit the ' +\n",
              "            '<a target=\"_blank\" href=https://colab.research.google.com/notebooks/data_table.ipynb>data table notebook</a>'\n",
              "            + ' to learn more about interactive tables.';\n",
              "          element.innerHTML = '';\n",
              "          dataTable['output_type'] = 'display_data';\n",
              "          await google.colab.output.renderOutput(dataTable, element);\n",
              "          const docLink = document.createElement('div');\n",
              "          docLink.innerHTML = docLinkHtml;\n",
              "          element.appendChild(docLink);\n",
              "        }\n",
              "      </script>\n",
              "    </div>\n",
              "  </div>\n",
              "  "
            ]
          },
          "metadata": {},
          "execution_count": 79
        }
      ]
    },
    {
      "cell_type": "code",
      "source": [
        "# Salvando o modelo no disco\n",
        "\n",
        "# import pickle\n",
        "# filename = 'ensemble_model_f.sav'\n",
        "# pickle.dump(ensemble_model_f,open(filename, 'wb'))"
      ],
      "metadata": {
        "id": "UfIOexCq820Z"
      },
      "execution_count": null,
      "outputs": []
    },
    {
      "cell_type": "markdown",
      "source": [
        "### Outras variaveis para criar e comparar os resultados (Resultado da etapa anterior de Análise Exploratória)"
      ],
      "metadata": {
        "id": "hDr1YoCs13O0"
      }
    },
    {
      "cell_type": "markdown",
      "source": [
        "[_] QTD dias desde a primeira venda\n",
        "\n",
        "[_] Qtd de pedidos cancelados\n",
        "\n",
        "[_] O vendedor mora nas cidades e estados top 10 de vendas?\n",
        "\n",
        "[_] Área do produto (e area + peso)\n",
        "\n",
        "[_] O peso do altura está entre o 1º e 3º quartil?\n",
        "\n",
        "[_] O peso do largura está entre o 1º e 3º quartil?\n",
        "\n",
        "[_] O peso do produto está entre 300g e 1800g?\n",
        "\n",
        "[_] O length_cm está entre 18 e 40?\n",
        "\n",
        "[_] O produto tem ao menos 3 fotos?\n",
        "\n",
        "[_] Tem tamanho da descricao entre 300 e 1200?\n",
        "\n",
        "[_] Tem tamanho do nome do produto entre 40 e 60?\n",
        "\n",
        "[_] Vendeu com parcelas entre 1 e 4?\n",
        "\n",
        "[_] Vendeu parcelado em mais de 8x ?\n",
        "\n",
        "[_] Vendeu algum produto das categorias mais frequentes?\n",
        "\n",
        "[_] Tipo de pagamento mais frequênte\n",
        "\n",
        "[_] o vendedor mora em SP(SP tem frete mais barato)?\n",
        "\n",
        "[_] o vendedor mora no estado onde o frete é mais caro?\n",
        "\n",
        "[_] média de frete por compra\n",
        "\n",
        "[_] média de frete por cidade\n",
        "\n",
        "[_] média de frete por estado\n",
        "\n",
        "[_] a categoria mais vendida\n",
        "\n",
        "[_] média de score\n",
        "\n",
        "[_] média de score nos meses em que vende\n",
        "\n",
        "[_] ultima nota de score\n",
        "\n",
        "[_] a primeira compra teve score < 3?\n",
        "\n",
        "[_] a ultima compra teve score < 3?\n",
        "\n",
        "[_] o ultimo pedido atrasou?\n",
        "\n",
        "[_] grupo do vendedor (critério=valor de compras($))\n",
        "\n",
        "[_] grupo do vendedor (critério=total de pedidos)\n",
        "\n",
        "[_] IDH da cidade\n",
        "\n",
        "[_] IDH do estado\n",
        "\n",
        "[_] escreveu um comentario com mais de 50 caracteres?\n",
        "\n",
        "[_] o frete representa quantos % do valor total?\n",
        "\n",
        "---"
      ],
      "metadata": {
        "id": "VjLIi6RciEZB"
      }
    },
    {
      "cell_type": "markdown",
      "source": [
        "Referencias utilizadas no projeto ♥ Obrigado!:"
      ],
      "metadata": {
        "id": "2N6WA0jvEVd3"
      }
    },
    {
      "cell_type": "code",
      "source": [
        "# https://www.kaggle.com/code/pouryaayria/a-complete-ml-pipeline-tutorial-acu-86/notebook\n",
        "\n",
        "# https://medium.com/data-hackers/como-avaliar-seu-modelo-de-classifica%C3%A7%C3%A3o-34e6f6011108\n",
        "\n",
        "# https://www.flai.com.br/juscudilio/como-calcular-as-metricas-de-validacao-dos-modelos-de-machine-learning-em-python/"
      ],
      "metadata": {
        "id": "TV4OjdNGEaa6"
      },
      "execution_count": null,
      "outputs": []
    }
  ]
}